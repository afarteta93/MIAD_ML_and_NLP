{
  "cells": [
    {
      "cell_type": "markdown",
      "metadata": {
        "id": "y63Wn3hGtEPt"
      },
      "source": [
        "![image info](https://raw.githubusercontent.com/albahnsen/MIAD_ML_and_NLP/main/images/banner_1.png)"
      ]
    },
    {
      "cell_type": "markdown",
      "metadata": {
        "id": "g2a9YvGMtEPz"
      },
      "source": [
        "# Taller: Construcción e implementación de modelos Bagging, Random Forest y XGBoost\n",
        "\n",
        "En este taller podrán poner en práctica sus conocimientos sobre la construcción e implementación de modelos de Bagging, Random Forest y XGBoost. El taller está constituido por 8 puntos, en los cuales deberan seguir las intrucciones de cada numeral para su desarrollo."
      ]
    },
    {
      "cell_type": "markdown",
      "metadata": {
        "id": "AWcT3M-3tEP0"
      },
      "source": [
        "## Datos predicción precio de automóviles\n",
        "\n",
        "En este taller se usará el conjunto de datos de Car Listings de Kaggle donde cada observación representa el precio de un automóvil teniendo en cuenta distintas variables como año, marca, modelo, entre otras. El objetivo es predecir si el precio del automóvil es alto o no. Para más detalles puede visitar el siguiente enlace: [datos](https://www.kaggle.com/jpayne/852k-used-car-listings)."
      ]
    },
    {
      "cell_type": "code",
      "execution_count": 1,
      "metadata": {
        "id": "QAY_uPNZtEP0"
      },
      "outputs": [],
      "source": [
        "import warnings\n",
        "warnings.filterwarnings('ignore')"
      ]
    },
    {
      "cell_type": "code",
      "execution_count": 2,
      "metadata": {
        "id": "_4GyLHFutEP2",
        "outputId": "8277352e-2f50-4d98-9dbf-e717c84ff571",
        "colab": {
          "base_uri": "https://localhost:8080/",
          "height": 206
        }
      },
      "outputs": [
        {
          "output_type": "execute_result",
          "data": {
            "text/plain": [
              "     Year  Mileage  M_Camry  M_Camry4dr  M_CamryBase  M_CamryL  M_CamryLE  \\\n",
              "7    2014     6480        0           0            0         1          0   \n",
              "11   2014    39972        0           0            0         0          1   \n",
              "167  2016    18989        0           0            0         0          0   \n",
              "225  2014    51330        0           0            0         1          0   \n",
              "270  2007   116065        0           1            0         0          0   \n",
              "\n",
              "     M_CamrySE  M_CamryXLE  HighPrice  \n",
              "7            0           0          1  \n",
              "11           0           0          0  \n",
              "167          1           0          1  \n",
              "225          0           0          0  \n",
              "270          0           0          0  "
            ],
            "text/html": [
              "\n",
              "  <div id=\"df-cccda3f5-c89a-411d-af6f-e5d626da5bbc\">\n",
              "    <div class=\"colab-df-container\">\n",
              "      <div>\n",
              "<style scoped>\n",
              "    .dataframe tbody tr th:only-of-type {\n",
              "        vertical-align: middle;\n",
              "    }\n",
              "\n",
              "    .dataframe tbody tr th {\n",
              "        vertical-align: top;\n",
              "    }\n",
              "\n",
              "    .dataframe thead th {\n",
              "        text-align: right;\n",
              "    }\n",
              "</style>\n",
              "<table border=\"1\" class=\"dataframe\">\n",
              "  <thead>\n",
              "    <tr style=\"text-align: right;\">\n",
              "      <th></th>\n",
              "      <th>Year</th>\n",
              "      <th>Mileage</th>\n",
              "      <th>M_Camry</th>\n",
              "      <th>M_Camry4dr</th>\n",
              "      <th>M_CamryBase</th>\n",
              "      <th>M_CamryL</th>\n",
              "      <th>M_CamryLE</th>\n",
              "      <th>M_CamrySE</th>\n",
              "      <th>M_CamryXLE</th>\n",
              "      <th>HighPrice</th>\n",
              "    </tr>\n",
              "  </thead>\n",
              "  <tbody>\n",
              "    <tr>\n",
              "      <th>7</th>\n",
              "      <td>2014</td>\n",
              "      <td>6480</td>\n",
              "      <td>0</td>\n",
              "      <td>0</td>\n",
              "      <td>0</td>\n",
              "      <td>1</td>\n",
              "      <td>0</td>\n",
              "      <td>0</td>\n",
              "      <td>0</td>\n",
              "      <td>1</td>\n",
              "    </tr>\n",
              "    <tr>\n",
              "      <th>11</th>\n",
              "      <td>2014</td>\n",
              "      <td>39972</td>\n",
              "      <td>0</td>\n",
              "      <td>0</td>\n",
              "      <td>0</td>\n",
              "      <td>0</td>\n",
              "      <td>1</td>\n",
              "      <td>0</td>\n",
              "      <td>0</td>\n",
              "      <td>0</td>\n",
              "    </tr>\n",
              "    <tr>\n",
              "      <th>167</th>\n",
              "      <td>2016</td>\n",
              "      <td>18989</td>\n",
              "      <td>0</td>\n",
              "      <td>0</td>\n",
              "      <td>0</td>\n",
              "      <td>0</td>\n",
              "      <td>0</td>\n",
              "      <td>1</td>\n",
              "      <td>0</td>\n",
              "      <td>1</td>\n",
              "    </tr>\n",
              "    <tr>\n",
              "      <th>225</th>\n",
              "      <td>2014</td>\n",
              "      <td>51330</td>\n",
              "      <td>0</td>\n",
              "      <td>0</td>\n",
              "      <td>0</td>\n",
              "      <td>1</td>\n",
              "      <td>0</td>\n",
              "      <td>0</td>\n",
              "      <td>0</td>\n",
              "      <td>0</td>\n",
              "    </tr>\n",
              "    <tr>\n",
              "      <th>270</th>\n",
              "      <td>2007</td>\n",
              "      <td>116065</td>\n",
              "      <td>0</td>\n",
              "      <td>1</td>\n",
              "      <td>0</td>\n",
              "      <td>0</td>\n",
              "      <td>0</td>\n",
              "      <td>0</td>\n",
              "      <td>0</td>\n",
              "      <td>0</td>\n",
              "    </tr>\n",
              "  </tbody>\n",
              "</table>\n",
              "</div>\n",
              "      <button class=\"colab-df-convert\" onclick=\"convertToInteractive('df-cccda3f5-c89a-411d-af6f-e5d626da5bbc')\"\n",
              "              title=\"Convert this dataframe to an interactive table.\"\n",
              "              style=\"display:none;\">\n",
              "        \n",
              "  <svg xmlns=\"http://www.w3.org/2000/svg\" height=\"24px\"viewBox=\"0 0 24 24\"\n",
              "       width=\"24px\">\n",
              "    <path d=\"M0 0h24v24H0V0z\" fill=\"none\"/>\n",
              "    <path d=\"M18.56 5.44l.94 2.06.94-2.06 2.06-.94-2.06-.94-.94-2.06-.94 2.06-2.06.94zm-11 1L8.5 8.5l.94-2.06 2.06-.94-2.06-.94L8.5 2.5l-.94 2.06-2.06.94zm10 10l.94 2.06.94-2.06 2.06-.94-2.06-.94-.94-2.06-.94 2.06-2.06.94z\"/><path d=\"M17.41 7.96l-1.37-1.37c-.4-.4-.92-.59-1.43-.59-.52 0-1.04.2-1.43.59L10.3 9.45l-7.72 7.72c-.78.78-.78 2.05 0 2.83L4 21.41c.39.39.9.59 1.41.59.51 0 1.02-.2 1.41-.59l7.78-7.78 2.81-2.81c.8-.78.8-2.07 0-2.86zM5.41 20L4 18.59l7.72-7.72 1.47 1.35L5.41 20z\"/>\n",
              "  </svg>\n",
              "      </button>\n",
              "      \n",
              "  <style>\n",
              "    .colab-df-container {\n",
              "      display:flex;\n",
              "      flex-wrap:wrap;\n",
              "      gap: 12px;\n",
              "    }\n",
              "\n",
              "    .colab-df-convert {\n",
              "      background-color: #E8F0FE;\n",
              "      border: none;\n",
              "      border-radius: 50%;\n",
              "      cursor: pointer;\n",
              "      display: none;\n",
              "      fill: #1967D2;\n",
              "      height: 32px;\n",
              "      padding: 0 0 0 0;\n",
              "      width: 32px;\n",
              "    }\n",
              "\n",
              "    .colab-df-convert:hover {\n",
              "      background-color: #E2EBFA;\n",
              "      box-shadow: 0px 1px 2px rgba(60, 64, 67, 0.3), 0px 1px 3px 1px rgba(60, 64, 67, 0.15);\n",
              "      fill: #174EA6;\n",
              "    }\n",
              "\n",
              "    [theme=dark] .colab-df-convert {\n",
              "      background-color: #3B4455;\n",
              "      fill: #D2E3FC;\n",
              "    }\n",
              "\n",
              "    [theme=dark] .colab-df-convert:hover {\n",
              "      background-color: #434B5C;\n",
              "      box-shadow: 0px 1px 3px 1px rgba(0, 0, 0, 0.15);\n",
              "      filter: drop-shadow(0px 1px 2px rgba(0, 0, 0, 0.3));\n",
              "      fill: #FFFFFF;\n",
              "    }\n",
              "  </style>\n",
              "\n",
              "      <script>\n",
              "        const buttonEl =\n",
              "          document.querySelector('#df-cccda3f5-c89a-411d-af6f-e5d626da5bbc button.colab-df-convert');\n",
              "        buttonEl.style.display =\n",
              "          google.colab.kernel.accessAllowed ? 'block' : 'none';\n",
              "\n",
              "        async function convertToInteractive(key) {\n",
              "          const element = document.querySelector('#df-cccda3f5-c89a-411d-af6f-e5d626da5bbc');\n",
              "          const dataTable =\n",
              "            await google.colab.kernel.invokeFunction('convertToInteractive',\n",
              "                                                     [key], {});\n",
              "          if (!dataTable) return;\n",
              "\n",
              "          const docLinkHtml = 'Like what you see? Visit the ' +\n",
              "            '<a target=\"_blank\" href=https://colab.research.google.com/notebooks/data_table.ipynb>data table notebook</a>'\n",
              "            + ' to learn more about interactive tables.';\n",
              "          element.innerHTML = '';\n",
              "          dataTable['output_type'] = 'display_data';\n",
              "          await google.colab.output.renderOutput(dataTable, element);\n",
              "          const docLink = document.createElement('div');\n",
              "          docLink.innerHTML = docLinkHtml;\n",
              "          element.appendChild(docLink);\n",
              "        }\n",
              "      </script>\n",
              "    </div>\n",
              "  </div>\n",
              "  "
            ]
          },
          "metadata": {},
          "execution_count": 2
        }
      ],
      "source": [
        "# Importación de librerías\n",
        "%matplotlib inline\n",
        "import pandas as pd\n",
        "import numpy as np\n",
        "import math\n",
        "\n",
        "# Lectura de la información de archivo .csv\n",
        "data = pd.read_csv('https://raw.githubusercontent.com/albahnsen/MIAD_ML_and_NLP/main/datasets/dataTrain_carListings.zip')\n",
        "\n",
        "# Preprocesamiento de datos para el taller\n",
        "data = data.loc[data['Model'].str.contains('Camry')].drop(['Make', 'State'], axis=1)\n",
        "data = data.join(pd.get_dummies(data['Model'], prefix='M'))\n",
        "data['HighPrice'] = (data['Price'] > data['Price'].mean()).astype(int)\n",
        "data = data.drop(['Model', 'Price'], axis=1)\n",
        "\n",
        "# Visualización dataset\n",
        "data.head()"
      ]
    },
    {
      "cell_type": "code",
      "execution_count": 3,
      "metadata": {
        "id": "NSKDE4-XtEP3"
      },
      "outputs": [],
      "source": [
        "# Separación de variables predictoras (X) y variable de interés (y)\n",
        "y = data['HighPrice']\n",
        "X = data.drop(['HighPrice'], axis=1)"
      ]
    },
    {
      "cell_type": "code",
      "execution_count": 4,
      "metadata": {
        "id": "OT5OZyRItEP3"
      },
      "outputs": [],
      "source": [
        "# Separación de datos en set de entrenamiento y test\n",
        "from sklearn.model_selection import train_test_split\n",
        "X_train, X_test, y_train, y_test = train_test_split(X, y, test_size=0.33, random_state=42)"
      ]
    },
    {
      "cell_type": "markdown",
      "metadata": {
        "id": "DG9YVEDPtEP4"
      },
      "source": [
        "### Punto 1 - Árbol de decisión manual\n",
        "\n",
        "En la celda 1 creen un árbol de decisión **manualmente**  que considere los set de entrenamiento y test definidos anteriormente y presenten el acurracy del modelo en el set de test."
      ]
    },
    {
      "cell_type": "code",
      "execution_count": 5,
      "metadata": {
        "id": "XaDZgKuotEP5",
        "outputId": "9332ea11-19d3-4e7f-fd1e-d5b6c0c6da94",
        "colab": {
          "base_uri": "https://localhost:8080/",
          "height": 1000
        }
      },
      "outputs": [
        {
          "output_type": "stream",
          "name": "stdout",
          "text": [
            "Estructura del árbol:\n"
          ]
        },
        {
          "output_type": "display_data",
          "data": {
            "text/plain": [
              "{'gain': 0.23630504821132137,\n",
              " 'level': 0,\n",
              " 'n_samples': 7031,\n",
              " 'sl': {'gain': 0.03713896892744761,\n",
              "  'level': 1,\n",
              "  'n_samples': 4474,\n",
              "  'sl': {'gain': 0.043426293133466354,\n",
              "   'level': 2,\n",
              "   'n_samples': 1447,\n",
              "   'sl': {'gain': 0.05394731382546758,\n",
              "    'level': 3,\n",
              "    'n_samples': 203,\n",
              "    'sl': {'gain': 0.01352946029496721,\n",
              "     'level': 4,\n",
              "     'n_samples': 85,\n",
              "     'split': -1,\n",
              "     'y_pred': 0,\n",
              "     'y_prob': 0.09195402298850575},\n",
              "    'split': [0, 2012.0],\n",
              "    'sr': {'gain': 0.020017026523643233,\n",
              "     'level': 4,\n",
              "     'n_samples': 118,\n",
              "     'split': -1,\n",
              "     'y_pred': 0,\n",
              "     'y_prob': 0.4166666666666667},\n",
              "    'y_pred': 0,\n",
              "    'y_prob': 0.2780487804878049},\n",
              "   'split': [0, 2013.0],\n",
              "   'sr': {'gain': 0.024256063237019176,\n",
              "    'level': 3,\n",
              "    'n_samples': 1244,\n",
              "    'sl': {'gain': 0.014011200973446158,\n",
              "     'level': 4,\n",
              "     'n_samples': 904,\n",
              "     'sl': {'gain': 0.00556156034847427,\n",
              "      'level': 5,\n",
              "      'n_samples': 707,\n",
              "      'split': -1,\n",
              "      'y_pred': 1,\n",
              "      'y_prob': 0.8110014104372355},\n",
              "     'split': [6, 1.0],\n",
              "     'sr': {'gain': 0.0509520357534477,\n",
              "      'level': 5,\n",
              "      'n_samples': 197,\n",
              "      'sl': {'gain': 0.013111348528015265,\n",
              "       'level': 6,\n",
              "       'n_samples': 72,\n",
              "       'split': -1,\n",
              "       'y_pred': 1,\n",
              "       'y_prob': 0.8108108108108109},\n",
              "      'split': [1, 25090.727272727276],\n",
              "      'sr': {'gain': 0.010412280112044925,\n",
              "       'level': 6,\n",
              "       'n_samples': 125,\n",
              "       'split': -1,\n",
              "       'y_pred': 0,\n",
              "       'y_prob': 0.4881889763779528},\n",
              "      'y_pred': 1,\n",
              "      'y_prob': 0.6080402010050251},\n",
              "     'y_pred': 1,\n",
              "     'y_prob': 0.7671081677704195},\n",
              "    'split': [1, 39822.0],\n",
              "    'sr': {'gain': 0.05453490718936188,\n",
              "     'level': 4,\n",
              "     'n_samples': 340,\n",
              "     'sl': {'gain': 0.016551370145274913,\n",
              "      'level': 5,\n",
              "      'n_samples': 262,\n",
              "      'split': -1,\n",
              "      'y_pred': 1,\n",
              "      'y_prob': 0.6098484848484849},\n",
              "     'split': [6, 1.0],\n",
              "     'sr': {'gain': 0.010898218590526254,\n",
              "      'level': 5,\n",
              "      'n_samples': 78,\n",
              "      'split': -1,\n",
              "      'y_pred': 0,\n",
              "      'y_prob': 0.225},\n",
              "     'y_pred': 1,\n",
              "     'y_prob': 0.52046783625731},\n",
              "    'y_pred': 1,\n",
              "    'y_prob': 0.6998394863563403},\n",
              "   'y_pred': 1,\n",
              "   'y_prob': 0.6404416839199448},\n",
              "  'split': [0, 2015.0],\n",
              "  'sr': {'gain': 0.007509453837285407,\n",
              "   'level': 2,\n",
              "   'n_samples': 3027,\n",
              "   'sl': {'gain': 0.00024133700317513843,\n",
              "    'level': 3,\n",
              "    'n_samples': 1651,\n",
              "    'split': -1,\n",
              "    'y_pred': 1,\n",
              "    'y_prob': 0.9872958257713249},\n",
              "   'split': [1, 30532.545454545452],\n",
              "   'sr': {'gain': 0.00816405585876312,\n",
              "    'level': 3,\n",
              "    'n_samples': 1376,\n",
              "    'sl': {'gain': 0.0011786261141377707,\n",
              "     'level': 4,\n",
              "     'n_samples': 982,\n",
              "     'sl': {'gain': 0.0015632224032787745,\n",
              "      'level': 5,\n",
              "      'n_samples': 714,\n",
              "      'sl': {'gain': 0.0008129098073457186,\n",
              "       'level': 6,\n",
              "       'n_samples': 636,\n",
              "       'split': -1,\n",
              "       'y_pred': 1,\n",
              "       'y_prob': 0.9090909090909091},\n",
              "      'split': [0, 2017.0],\n",
              "      'sr': {'gain': 0,\n",
              "       'level': 6,\n",
              "       'n_samples': 78,\n",
              "       'split': -1,\n",
              "       'y_pred': 1,\n",
              "       'y_prob': 0.9875},\n",
              "      'y_pred': 1,\n",
              "      'y_prob': 0.9189944134078212},\n",
              "     'split': [1, 44211.63636363637],\n",
              "     'sr': {'gain': 0.0029666274073334997,\n",
              "      'level': 5,\n",
              "      'n_samples': 268,\n",
              "      'sl': {'gain': 0.01542136864088528,\n",
              "       'level': 6,\n",
              "       'n_samples': 104,\n",
              "       'split': -1,\n",
              "       'y_pred': 1,\n",
              "       'y_prob': 0.8113207547169812},\n",
              "      'split': [0, 2016.0],\n",
              "      'sr': {'gain': 0.0004500731907840505,\n",
              "       'level': 6,\n",
              "       'n_samples': 164,\n",
              "       'split': -1,\n",
              "       'y_pred': 1,\n",
              "       'y_prob': 0.891566265060241},\n",
              "      'y_pred': 1,\n",
              "      'y_prob': 0.8629629629629629},\n",
              "     'y_pred': 1,\n",
              "     'y_prob': 0.9044715447154471},\n",
              "    'split': [6, 1.0],\n",
              "    'sr': {'gain': 0.012432872082331625,\n",
              "     'level': 4,\n",
              "     'n_samples': 394,\n",
              "     'sl': {'gain': 0.0017790429580819,\n",
              "      'level': 5,\n",
              "      'n_samples': 322,\n",
              "      'sl': {'gain': 0.0071004617233656475,\n",
              "       'level': 6,\n",
              "       'n_samples': 108,\n",
              "       'split': -1,\n",
              "       'y_pred': 1,\n",
              "       'y_prob': 0.7545454545454545},\n",
              "      'split': [0, 2016.0],\n",
              "      'sr': {'gain': 0.001081668321998075,\n",
              "       'level': 6,\n",
              "       'n_samples': 214,\n",
              "       'split': -1,\n",
              "       'y_pred': 1,\n",
              "       'y_prob': 0.8194444444444444},\n",
              "      'y_pred': 1,\n",
              "      'y_prob': 0.7993827160493827},\n",
              "     'split': [1, 46088.36363636364],\n",
              "     'sr': {'gain': 0.0061262040428707865,\n",
              "      'level': 5,\n",
              "      'n_samples': 72,\n",
              "      'split': -1,\n",
              "      'y_pred': 1,\n",
              "      'y_prob': 0.5945945945945946},\n",
              "     'y_pred': 1,\n",
              "     'y_prob': 0.7626262626262627},\n",
              "    'y_pred': 1,\n",
              "    'y_prob': 0.8642960812772134},\n",
              "   'y_pred': 1,\n",
              "   'y_prob': 0.9316606140640475},\n",
              "  'y_pred': 1,\n",
              "  'y_prob': 0.8375781948168007},\n",
              " 'split': [1, 51394.909090909096],\n",
              " 'sr': {'gain': 0.047676779790769896,\n",
              "  'level': 1,\n",
              "  'n_samples': 2557,\n",
              "  'sl': {'gain': 0.0045681349880153654,\n",
              "   'level': 2,\n",
              "   'n_samples': 1958,\n",
              "   'sl': {'gain': 6.539810508043517e-05,\n",
              "    'level': 3,\n",
              "    'n_samples': 1372,\n",
              "    'split': -1,\n",
              "    'y_pred': 0,\n",
              "    'y_prob': 0.00727802037845706},\n",
              "   'split': [0, 2012.0],\n",
              "   'sr': {'gain': 0.011500104783552484,\n",
              "    'level': 3,\n",
              "    'n_samples': 586,\n",
              "    'sl': {'gain': 0.03131873045174638,\n",
              "     'level': 4,\n",
              "     'n_samples': 213,\n",
              "     'split': -1,\n",
              "     'y_pred': 0,\n",
              "     'y_prob': 0.21395348837209302},\n",
              "    'split': [1, 73046.45454545454],\n",
              "    'sr': {'gain': 0.0027469921069710745,\n",
              "     'level': 4,\n",
              "     'n_samples': 373,\n",
              "     'sl': {'gain': 0.005168695203297352,\n",
              "      'level': 5,\n",
              "      'n_samples': 170,\n",
              "      'split': -1,\n",
              "      'y_pred': 0,\n",
              "      'y_prob': 0.09883720930232558},\n",
              "     'split': [1, 86796.45454545454],\n",
              "     'sr': {'gain': 0.0008738844612075081,\n",
              "      'level': 5,\n",
              "      'n_samples': 203,\n",
              "      'split': -1,\n",
              "      'y_pred': 0,\n",
              "      'y_prob': 0.024390243902439025},\n",
              "     'y_pred': 0,\n",
              "     'y_prob': 0.056},\n",
              "    'y_pred': 0,\n",
              "    'y_prob': 0.11224489795918367},\n",
              "   'y_pred': 0,\n",
              "   'y_prob': 0.03826530612244898},\n",
              "  'split': [0, 2014.0],\n",
              "  'sr': {'gain': 0.03360777305969753,\n",
              "   'level': 2,\n",
              "   'n_samples': 599,\n",
              "   'sl': {'gain': 0.02792228272448688,\n",
              "    'level': 3,\n",
              "    'n_samples': 372,\n",
              "    'split': -1,\n",
              "    'y_pred': 0,\n",
              "    'y_prob': 0.30213903743315507},\n",
              "   'split': [0, 2015.0],\n",
              "   'sr': {'gain': 0.02910175577937174,\n",
              "    'level': 3,\n",
              "    'n_samples': 227,\n",
              "    'split': -1,\n",
              "    'y_pred': 1,\n",
              "    'y_prob': 0.5676855895196506},\n",
              "   'y_pred': 0,\n",
              "   'y_prob': 0.40266222961730447},\n",
              "  'y_pred': 0,\n",
              "  'y_prob': 0.12348573661586557},\n",
              " 'y_pred': 1,\n",
              " 'y_prob': 0.5778472913408218}"
            ]
          },
          "metadata": {}
        },
        {
          "output_type": "stream",
          "name": "stdout",
          "text": [
            "Accuracy árbol de clasificación individual = 0.8836605080831409\n"
          ]
        }
      ],
      "source": [
        "# Celda 1\n",
        "\n",
        "# Definición de la función que calcula el gini index\n",
        "\n",
        "def gini(y):\n",
        "    if y.shape[0] == 0:\n",
        "        return 0\n",
        "    else:\n",
        "        return 1 - (y.mean()**2 + (1 - y.mean())**2)\n",
        "    \n",
        "# Definición de la función gini_imputiry para calular la ganancia de una variable predictora j dado el punto de corte k\n",
        "\n",
        "def gini_impurity(X_col, y, split):\n",
        "    \n",
        "    filter_l = X_col < split\n",
        "    y_l = y.loc[filter_l]\n",
        "    y_r = y.loc[~filter_l]\n",
        "    \n",
        "    n_l = y_l.shape[0]\n",
        "    n_r = y_r.shape[0]\n",
        "    \n",
        "    gini_y = gini(y)\n",
        "    gini_l = gini(y_l)\n",
        "    gini_r = gini(y_r)\n",
        "    \n",
        "    gini_impurity_ = gini_y - (n_l / (n_l + n_r) * gini_l + n_r / (n_l + n_r) * gini_r)\n",
        "    \n",
        "    return gini_impurity_\n",
        "\n",
        "# Definición de la función best_split para calcular cuál es la mejor variable y punto de cortepara hacer la bifurcación del \n",
        "# árbol\n",
        "\n",
        "def best_split(X, y, num_pct=10):\n",
        "    \n",
        "    features = range(X.shape[1])\n",
        "    \n",
        "    best_split = [0, 0, 0]  # j, split, gain\n",
        "    \n",
        "    # Para todas las varibles \n",
        "    for j in features:\n",
        "        \n",
        "        splits = np.percentile(X.iloc[:, j], np.arange(0, 100, 100.0 / (num_pct+1)).tolist())\n",
        "        splits = np.unique(splits)[1:]\n",
        "        \n",
        "        # Para cada partición\n",
        "        for split in splits:\n",
        "            gain = gini_impurity(X.iloc[:, j], y, split)\n",
        "                        \n",
        "            if gain > best_split[2]:\n",
        "                best_split = [j, split, gain]\n",
        "    \n",
        "    return best_split\n",
        "\n",
        "# Definición de la función tree_grow para hacer un crecimiento recursivo del árbol\n",
        "\n",
        "def tree_grow(X, y, level=0, min_gain=0.001, max_depth=None, num_pct=10, min_samples=None):\n",
        "    \n",
        "    # Si solo es una observación\n",
        "    \n",
        "    if X.shape[0] == 1:\n",
        "        tree = dict(y_pred=y.iloc[:1].values[0], y_prob=0.5, level=level, split=-1, n_samples=1, gain=0)\n",
        "        return tree\n",
        "    \n",
        "    # Calcular la mejor división\n",
        "    \n",
        "    j, split, gain = best_split(X, y, num_pct)\n",
        "    \n",
        "    # Guardar el árbol y estimar la predicción\n",
        "    \n",
        "    y_pred = int(y.mean() >= 0.5) \n",
        "    y_prob = (y.sum() + 1.0) / (y.shape[0] + 2.0)  # Corrección Laplace \n",
        "    \n",
        "    tree = dict(y_pred=y_pred, y_prob=y_prob, level=level, split=-1, n_samples=X.shape[0], gain=gain)\n",
        "    \n",
        "    # Revisar el criterio de parada\n",
        "    \n",
        "    if gain < min_gain:\n",
        "        return tree\n",
        "    if max_depth is not None:\n",
        "        if level >= max_depth:\n",
        "            return tree\n",
        "    \n",
        "    # Continuar creando la partición\n",
        "    \n",
        "    filter_l = X.iloc[:, j] < split\n",
        "    X_l, y_l = X.loc[filter_l], y.loc[filter_l]\n",
        "    X_r, y_r = X.loc[~filter_l], y.loc[~filter_l]\n",
        "    \n",
        "    # Parar si la partición resultaría en un número de muestras inferior al mínimo\n",
        "    \n",
        "    if min_samples is not None:\n",
        "        if X_l.shape[0] < min_samples or X_r.shape[0] < min_samples:\n",
        "            return tree\n",
        "    \n",
        "    tree['split'] = [j, split]\n",
        "\n",
        "    # Siguiente iteración para cada partición\n",
        "    \n",
        "    tree['sl'] = tree_grow(X_l, y_l, level + 1, min_gain=min_gain, max_depth=max_depth, num_pct=num_pct, \n",
        "                           min_samples=min_samples)\n",
        "    tree['sr'] = tree_grow(X_r, y_r, level + 1, min_gain=min_gain, max_depth=max_depth, num_pct=num_pct, \n",
        "                           min_samples=min_samples)\n",
        "    \n",
        "    return tree\n",
        "\n",
        "# Definición de la función tree_predict para hacer predicciones según las variables 'X' y el árbol 'tree'\n",
        "\n",
        "def tree_predict(X, tree, proba=False):\n",
        "    \n",
        "    predicted = np.ones(X.shape[0])\n",
        "\n",
        "    # Revisar si es el nodo final\n",
        "    \n",
        "    if tree['split'] == -1:\n",
        "        if not proba:\n",
        "            predicted = predicted * tree['y_pred']\n",
        "        else:\n",
        "            predicted = predicted * tree['y_prob']\n",
        "            \n",
        "    else:\n",
        "        \n",
        "        j, split = tree['split']\n",
        "        filter_l = (X.iloc[:, j] < split)\n",
        "        X_l = X.loc[filter_l]\n",
        "        X_r = X.loc[~filter_l]\n",
        "\n",
        "        if X_l.shape[0] == 0:  # Si el nodo izquierdo está vacio solo continua con el derecho \n",
        "            predicted[~filter_l] = tree_predict(X_r, tree['sr'], proba)\n",
        "        elif X_r.shape[0] == 0:  #  Si el nodo derecho está vacio solo continua con el izquierdo\n",
        "            predicted[filter_l] = tree_predict(X_l, tree['sl'], proba)\n",
        "        else:\n",
        "            predicted[filter_l] = tree_predict(X_l, tree['sl'], proba)\n",
        "            predicted[~filter_l] = tree_predict(X_r, tree['sr'], proba)\n",
        "\n",
        "    return predicted\n",
        "\n",
        "# Se entrena el árbol utilizando el subconjunto de entrenamiento\n",
        "\n",
        "tree = tree_grow(X_train, y_train, level=0, min_gain=0.001, max_depth=10, num_pct=10, \n",
        "                 min_samples=int(X_train.shape[0]*0.01))\n",
        "\n",
        "# Se muestra la estructura del arbol entrenado\n",
        "\n",
        "print('Estructura del árbol:')\n",
        "display(tree)\n",
        "\n",
        "# Se calculan las predicciones utilizando el subconjunto de evaluación\n",
        "\n",
        "tree_predictions = tree_predict(X_test, tree)\n",
        "\n",
        "# Cálculo del accuracy\n",
        "\n",
        "from sklearn.metrics import accuracy_score\n",
        "\n",
        "print('Accuracy árbol de clasificación individual =', accuracy_score(tree_predictions, y_test))"
      ]
    },
    {
      "cell_type": "markdown",
      "metadata": {
        "id": "k3-xzshbtEP7"
      },
      "source": [
        "### Punto 2 - Bagging manual\n",
        "\n",
        "En la celda 2 creen un modelo bagging **manualmente** con 10 árboles de clasificación y comenten sobre el desempeño del modelo."
      ]
    },
    {
      "cell_type": "code",
      "execution_count": 6,
      "metadata": {
        "id": "8sZM-5b9tEP8",
        "outputId": "71390ed8-11a1-4cbf-9941-b41d23d897d3",
        "colab": {
          "base_uri": "https://localhost:8080/"
        }
      },
      "outputs": [
        {
          "output_type": "stream",
          "name": "stdout",
          "text": [
            "Accuracy bagging manual = 0.8565242494226328\n"
          ]
        }
      ],
      "source": [
        "# Celda 2\n",
        "\n",
        "# Creación de 10 muestras de bootstrap\n",
        "\n",
        "np.random.seed(1)\n",
        "\n",
        "n_samples = X_train.shape[0]\n",
        "n_B = 10\n",
        "\n",
        "samples = [np.random.choice(a=n_samples, size=n_samples, replace=True) for _ in range(1, n_B +1 )]\n",
        "\n",
        "# Construcción un árbol de decisión para cada muestra boostrap\n",
        "\n",
        "from sklearn.tree import DecisionTreeClassifier\n",
        "\n",
        "# Definición del modelo usando DecisionTreeRegressor de sklearn\n",
        "\n",
        "clf = DecisionTreeClassifier(max_depth=None, random_state=1)\n",
        "\n",
        "# DataFrame para guardar las predicciones de cada árbol\n",
        "\n",
        "y_pred_bag = pd.DataFrame(index=y_test.index, columns=[list(range(n_B))])\n",
        "\n",
        "# Entrenamiento de un árbol sobre cada muestra boostrap y predicción sobre los datos de test\n",
        "\n",
        "for i, sample in enumerate(samples):\n",
        "    X_train_bootstrapped = X_train.iloc[sample, :]\n",
        "    y_train_bootstrapped = y_train.iloc[sample]\n",
        "    clf.fit(X_train_bootstrapped, y_train_bootstrapped)\n",
        "    y_pred_bag.iloc[:,i] = clf.predict(X_test)\n",
        "    \n",
        "# Agregación de los árboles por votación mayoritaria\n",
        "\n",
        "manual_bagging_predictions = np.where(np.mean(y_pred_bag, axis = 1) >= 0.5, 1, 0)\n",
        "\n",
        "# Reporte del desempeño\n",
        "\n",
        "print('Accuracy bagging manual =', accuracy_score(manual_bagging_predictions, y_test))"
      ]
    },
    {
      "cell_type": "markdown",
      "metadata": {
        "id": "2V1UpI2etEP9"
      },
      "source": [
        "### Punto 3 - Bagging con librería\n",
        "\n",
        "En la celda 3, con la librería sklearn, entrenen un modelo bagging con 10 árboles de clasificación y el parámetro `max_features` igual a `log(n_features)`. Presenten el acurracy del modelo en el set de test y comenten sus resultados."
      ]
    },
    {
      "cell_type": "code",
      "execution_count": 7,
      "metadata": {
        "id": "ceDY_oWXtEP9",
        "outputId": "850e771b-31b5-416a-809b-5852c3bb8a23",
        "colab": {
          "base_uri": "https://localhost:8080/"
        }
      },
      "outputs": [
        {
          "output_type": "stream",
          "name": "stdout",
          "text": [
            "Accuracy bagging con sklearn = 0.8322748267898383\n"
          ]
        }
      ],
      "source": [
        "# Celda 3\n",
        "\n",
        "# Definición del modelo bagging con sklearn\n",
        "\n",
        "from sklearn.ensemble import BaggingClassifier\n",
        "\n",
        "n_features = X.shape[1]\n",
        "\n",
        "clf = BaggingClassifier(DecisionTreeClassifier(), n_estimators=int(math.log(n_features)), bootstrap=True, oob_score=True, \n",
        "                        random_state=1)\n",
        "\n",
        "# Entrenamiento del modelo bagging con sklearn\n",
        "\n",
        "clf.fit(X_train, y_train)\n",
        "\n",
        "# Predicciones del modelo bagging con sklearn\n",
        "\n",
        "bagging_predictions = clf.predict(X_test)\n",
        "\n",
        "# Reporte del desempeño\n",
        "\n",
        "print('Accuracy bagging con sklearn =', accuracy_score(bagging_predictions, y_test))"
      ]
    },
    {
      "cell_type": "markdown",
      "metadata": {
        "id": "8wzCzliKtEP-"
      },
      "source": [
        "### Punto 4 - Random forest con librería\n",
        "\n",
        "En la celda 4, usando la librería sklearn entrenen un modelo de Randon Forest para clasificación y presenten el acurracy del modelo en el set de test y comenten sus resultados."
      ]
    },
    {
      "cell_type": "code",
      "execution_count": 8,
      "metadata": {
        "id": "kivR_F4utEP-",
        "outputId": "ac686042-efec-4b19-9a18-b4ec398a1124",
        "colab": {
          "base_uri": "https://localhost:8080/"
        }
      },
      "outputs": [
        {
          "output_type": "stream",
          "name": "stdout",
          "text": [
            "Accuracy bagging con sklearn = 0.8443995381062356\n"
          ]
        }
      ],
      "source": [
        "# Celda 4\n",
        "\n",
        "# Definición del modelo bagging con sklearn\n",
        "\n",
        "from sklearn.ensemble import RandomForestClassifier\n",
        "\n",
        "n_features = X.shape[1]\n",
        "\n",
        "clf = RandomForestClassifier()\n",
        "\n",
        "# Entrenamiento del modelo bagging con sklearn\n",
        "\n",
        "clf.fit(X_train, y_train)\n",
        "\n",
        "# Predicciones del modelo bagging con sklearn\n",
        "\n",
        "bagging_predictions = clf.predict(X_test)\n",
        "\n",
        "# Reporte del desempeño\n",
        "\n",
        "print('Accuracy bagging con sklearn =', accuracy_score(bagging_predictions, y_test))"
      ]
    },
    {
      "cell_type": "markdown",
      "metadata": {
        "id": "jvDNNj65tEP-"
      },
      "source": [
        "### Punto 5 - Calibración de parámetros Random forest\n",
        "\n",
        "En la celda 5, calibren los parámetros max_depth, max_features y n_estimators del modelo de Randon Forest para clasificación. Presenten el acurracy del modelo en el set de test, comenten sus resultados y análicen cómo cada parámetro afecta el modelo."
      ]
    },
    {
      "cell_type": "code",
      "execution_count": 13,
      "metadata": {
        "id": "gipCLdw5tEP_",
        "outputId": "afd6b940-d106-4274-a313-2fd410c3af5f",
        "colab": {
          "base_uri": "https://localhost:8080/",
          "height": 1000
        }
      },
      "outputs": [
        {
          "output_type": "display_data",
          "data": {
            "text/plain": [
              "<Figure size 432x288 with 1 Axes>"
            ],
            "image/png": "[encoded data removed]"
          },
          "metadata": {
            "needs_background": "light"
          }
        },
        {
          "output_type": "stream",
          "name": "stdout",
          "text": [
            "La calibración indica que el mejor desempeño se obtiene con una profundidad de 6 (max_depth=6) \n"
          ]
        },
        {
          "output_type": "display_data",
          "data": {
            "text/plain": [
              "<Figure size 432x288 with 1 Axes>"
            ],
            "image/png": "[encoded data removed]"
          },
          "metadata": {
            "needs_background": "light"
          }
        },
        {
          "output_type": "stream",
          "name": "stdout",
          "text": [
            "La calibración indica que el mejor desempeño se obtiene con el mayor numero de variables disponible. \n",
            "      Se elige (max_features=9)\n"
          ]
        },
        {
          "output_type": "display_data",
          "data": {
            "text/plain": [
              "<Figure size 432x288 with 1 Axes>"
            ],
            "image/png": "[encoded data removed]"
          },
          "metadata": {
            "needs_background": "light"
          }
        },
        {
          "output_type": "stream",
          "name": "stdout",
          "text": [
            "La calibración indica que el mejor desempeño se obtiene con 17 arboles (n_estimators=17) \n",
            "Accuracy random forest con sklearn = 0.8882794457274826\n",
            "\n",
            "Comentarios:\n",
            "\n",
            "Para realizar la calibración se realizaron varias iteraciones ajustando cada vez, el rango de valores que se querían probar, \n",
            "llegando finalmente a tener un ajuste fino. Esto se realizó con cada uno de los tres parámetros por separado.\n",
            "\n",
            "Luego se pasan estos tres parámetros al modelo para entrenarlo y realizar la predicción.\n",
            "\n",
            "Se observa que luego de haber calibrado los tres parámetros max_depth, max_features y n_estimators, el accuracy incrementó \n",
            "desde 0.844 a 0.888, lo cual es una mejora significativa, lo que reafirma que un modelo como RF calibrado tiene un buen desempeño.\n",
            "\n"
          ]
        }
      ],
      "source": [
        "# Celda 5\n",
        "from sklearn.model_selection import cross_val_score\n",
        "import matplotlib.pyplot as plt\n",
        "\n",
        "def cal_max_depth(inicial, final, paso): \n",
        "    # Creación de lista de valores para iterar sobre diferentes valores de n_estimators\n",
        "    estimator_range = range(inicial,final, paso)\n",
        "\n",
        "    # Definición de lista para almacenar la exactitud (accuracy) promedio para cada valor de n_estimators\n",
        "    accuracy_scores = []\n",
        "\n",
        "    # Uso de un 15-fold cross-validation para cada valor de n_estimators\n",
        "    for estimator in estimator_range:\n",
        "        clf = RandomForestClassifier(max_depth=estimator, random_state=1, n_jobs=-1)\n",
        "        accuracy_scores.append(cross_val_score(clf, X_train, y_train, cv=15, scoring='accuracy').mean())\n",
        "\n",
        "    # Gráfica del desempeño del modelo vs la cantidad de n_estimators\n",
        "    plt.plot(estimator_range, accuracy_scores)\n",
        "    plt.xlabel('max_depth')\n",
        "    plt.ylabel('Accuracy')\n",
        "    plt.show()\n",
        "    return\n",
        "cal_max_depth(1, 30, 1)\n",
        "print(\"La calibración indica que el mejor desempeño se obtiene con una profundidad de 6 (max_depth=6) \")\n",
        "\n",
        "def cal_n_features(n_features):\n",
        "    # Creación de lista de valores para iterar sobre diferentes valores de max_features\n",
        "    feature_range = range(1, n_features+1)\n",
        "\n",
        "    # Definición de lista para almacenar la exactitud (accuracy) promedio para cada valor de max_features\n",
        "    accuracy_scores = []\n",
        "\n",
        "    # Uso de un 15-fold cross-validation para cada valor de max_features\n",
        "    for feature in feature_range:\n",
        "        clf = RandomForestClassifier(max_features=feature, random_state=1, n_jobs=-1)\n",
        "        accuracy_scores.append(cross_val_score(clf, X_train, y_train, cv=15, scoring='accuracy').mean())\n",
        "\n",
        "    plt.plot(feature_range, accuracy_scores)\n",
        "    plt.xlabel('max_features')\n",
        "    plt.ylabel('Accuracy')\n",
        "    plt.show()\n",
        "    return\n",
        "cal_n_features(n_features)\n",
        "print(\"\"\"La calibración indica que el mejor desempeño se obtiene con el mayor numero de variables disponible. \n",
        "      Se elige (max_features=9)\"\"\")\n",
        "\n",
        "def cal_n_estimators(inicial, final, paso): \n",
        "    # Creación de lista de valores para iterar sobre diferentes valores de n_estimators\n",
        "    estimator_range = range(inicial,final, paso)\n",
        "\n",
        "    # Definición de lista para almacenar la exactitud (accuracy) promedio para cada valor de n_estimators\n",
        "    accuracy_scores = []\n",
        "\n",
        "    # Uso de un 15-fold cross-validation para cada valor de n_estimators\n",
        "    for estimator in estimator_range:\n",
        "        clf = RandomForestClassifier(n_estimators=estimator, random_state=1, n_jobs=-1)\n",
        "        accuracy_scores.append(cross_val_score(clf, X_train, y_train, cv=15, scoring='accuracy').mean())\n",
        "\n",
        "    # Gráfica del desempeño del modelo vs la cantidad de n_estimators\n",
        "    plt.plot(estimator_range, accuracy_scores)\n",
        "    plt.xlabel('n_estimators')\n",
        "    plt.ylabel('Accuracy')\n",
        "    plt.show()\n",
        "    return\n",
        "cal_n_estimators(2, 30, 1)\n",
        "\n",
        "print(\"La calibración indica que el mejor desempeño se obtiene con 17 arboles (n_estimators=17) \")\n",
        "\n",
        "#Modelo con parametros calibrados\n",
        "clf = RandomForestClassifier(max_depth=6, max_features=9, n_estimators=17,random_state=1, n_jobs=-1)\n",
        "\n",
        "# Entrenamiento del modelo random forest con sklearn\n",
        "\n",
        "clf.fit(X_train, y_train)\n",
        "\n",
        "# Predicciones del modelo random forest con sklearn\n",
        "\n",
        "rf_predictions = clf.predict(X_test)\n",
        "\n",
        "# Reporte del desempeño\n",
        "Acc_RF_Cal=accuracy_score(rf_predictions, y_test)\n",
        "print('Accuracy random forest con sklearn =', accuracy_score(rf_predictions, y_test))\n",
        "\n",
        "print(\"\"\"\n",
        "Comentarios:\n",
        "\n",
        "Para realizar la calibración se realizaron varias iteraciones ajustando cada vez, el rango de valores que se querían probar, \n",
        "llegando finalmente a tener un ajuste fino. Esto se realizó con cada uno de los tres parámetros por separado.\n",
        "\n",
        "Luego se pasan estos tres parámetros al modelo para entrenarlo y realizar la predicción.\n",
        "\n",
        "Se observa que luego de haber calibrado los tres parámetros max_depth, max_features y n_estimators, el accuracy incrementó \n",
        "desde 0.844 a 0.888, lo cual es una mejora significativa, lo que reafirma que un modelo como RF calibrado tiene un buen desempeño.\n",
        "\"\"\")\n",
        "\n"
      ]
    },
    {
      "cell_type": "markdown",
      "metadata": {
        "id": "XDgkNVu3tEP_"
      },
      "source": [
        "### Punto 6 - XGBoost con librería\n",
        "\n",
        "En la celda 6 implementen un modelo XGBoost de clasificación con la librería sklearn, presenten el acurracy del modelo en el set de test y comenten sus resultados."
      ]
    },
    {
      "cell_type": "code",
      "execution_count": 10,
      "metadata": {
        "id": "XYhYZSUNtEP_"
      },
      "outputs": [],
      "source": [
        "# Celda 6\n"
      ]
    },
    {
      "cell_type": "markdown",
      "metadata": {
        "id": "tIjEuhOdtEQA"
      },
      "source": [
        "### Punto 7 - Calibración de parámetros XGBoost\n",
        "\n",
        "En la celda 7 calibren los parámetros learning rate, gamma y colsample_bytree del modelo XGBoost para clasificación. Presenten el acurracy del modelo en el set de test, comenten sus resultados y análicen cómo cada parámetro afecta el modelo."
      ]
    },
    {
      "cell_type": "code",
      "execution_count": 11,
      "metadata": {
        "id": "SsY3qTAdtEQA"
      },
      "outputs": [],
      "source": [
        "# Celda 7\n"
      ]
    },
    {
      "cell_type": "markdown",
      "metadata": {
        "id": "5tCPLo_gtEQB"
      },
      "source": [
        "### Punto 8 - Comparación y análisis de resultados\n",
        "En la celda 8 comparen los resultados obtenidos de los diferentes modelos (random forest y XGBoost) y comenten las ventajas del mejor modelo y las desventajas del modelo con el menor desempeño."
      ]
    },
    {
      "cell_type": "code",
      "execution_count": 12,
      "metadata": {
        "id": "oXMZ659wtEQB"
      },
      "outputs": [],
      "source": [
        "# Celda 8\n"
      ]
    }
  ],
  "metadata": {
    "kernelspec": {
      "display_name": "Python 3",
      "language": "python",
      "name": "python3"
    },
    "language_info": {
      "codemirror_mode": {
        "name": "ipython",
        "version": 3
      },
      "file_extension": ".py",
      "mimetype": "text/x-python",
      "name": "python",
      "nbconvert_exporter": "python",
      "pygments_lexer": "ipython3",
      "version": "3.8.5"
    },
    "colab": {
      "name": "S2TC1_RandomForests_Boosting.ipynb",
      "provenance": []
    }
  },
  "nbformat": 4,
  "nbformat_minor": 0
}