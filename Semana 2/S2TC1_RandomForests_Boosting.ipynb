{
 "cells": [
  {
   "cell_type": "markdown",
   "metadata": {
    "cell_id": "d2e60a03-8476-42c3-8a73-9463656cf85b",
    "deepnote_cell_height": 160.609375,
    "deepnote_cell_type": "markdown"
   },
   "source": [
    "![image info](https://raw.githubusercontent.com/albahnsen/MIAD_ML_and_NLP/main/images/banner_1.png)"
   ]
  },
  {
   "cell_type": "markdown",
   "metadata": {
    "cell_id": "00001-154521e3-47bb-4045-ba98-b5a6ce4e29be",
    "deepnote_cell_height": 217.1875,
    "deepnote_cell_type": "markdown"
   },
   "source": [
    "# Taller: Construcción e implementación de modelos Bagging, Random Forest y XGBoost\n",
    "\n",
    "En este taller podrán poner en práctica sus conocimientos sobre la construcción e implementación de modelos de Bagging, Random Forest y XGBoost. El taller está constituido por 8 puntos, en los cuales deberan seguir las intrucciones de cada numeral para su desarrollo."
   ]
  },
  {
   "cell_type": "markdown",
   "metadata": {
    "cell_id": "00002-309b5243-c714-47da-8e06-43a6d8b95092",
    "deepnote_cell_height": 153.1875,
    "deepnote_cell_type": "markdown"
   },
   "source": [
    "## Datos predicción precio de automóviles\n",
    "\n",
    "En este taller se usará el conjunto de datos de Car Listings de Kaggle donde cada observación representa el precio de un automóvil teniendo en cuenta distintas variables como año, marca, modelo, entre otras. El objetivo es predecir si el precio del automóvil es alto o no. Para más detalles puede visitar el siguiente enlace: [datos](https://www.kaggle.com/jpayne/852k-used-car-listings)."
   ]
  },
  {
   "cell_type": "code",
   "execution_count": 1,
   "metadata": {
    "cell_id": "00003-fb5f1e2a-ea63-4d58-8e02-3e64edb0e007",
    "deepnote_cell_height": 99,
    "deepnote_cell_type": "code",
    "deepnote_to_be_reexecuted": false,
    "execution_millis": 4,
    "execution_start": 1650238121101,
    "source_hash": "17e3dbca"
   },
   "outputs": [],
   "source": [
    "import warnings\n",
    "warnings.filterwarnings('ignore')"
   ]
  },
  {
   "cell_type": "code",
   "execution_count": 2,
   "metadata": {
    "cell_id": "00004-71d09a98-0554-4c36-968d-6328588e5f2e",
    "deepnote_cell_height": 699.796875,
    "deepnote_cell_type": "code",
    "deepnote_to_be_reexecuted": false,
    "execution_millis": 3226,
    "execution_start": 1650238123196,
    "source_hash": "4d301b87"
   },
   "outputs": [
    {
     "data": {
      "text/html": [
       "<div>\n",
       "<style scoped>\n",
       "    .dataframe tbody tr th:only-of-type {\n",
       "        vertical-align: middle;\n",
       "    }\n",
       "\n",
       "    .dataframe tbody tr th {\n",
       "        vertical-align: top;\n",
       "    }\n",
       "\n",
       "    .dataframe thead th {\n",
       "        text-align: right;\n",
       "    }\n",
       "</style>\n",
       "<table border=\"1\" class=\"dataframe\">\n",
       "  <thead>\n",
       "    <tr style=\"text-align: right;\">\n",
       "      <th></th>\n",
       "      <th>Year</th>\n",
       "      <th>Mileage</th>\n",
       "      <th>M_Camry</th>\n",
       "      <th>M_Camry4dr</th>\n",
       "      <th>M_CamryBase</th>\n",
       "      <th>M_CamryL</th>\n",
       "      <th>M_CamryLE</th>\n",
       "      <th>M_CamrySE</th>\n",
       "      <th>M_CamryXLE</th>\n",
       "      <th>HighPrice</th>\n",
       "    </tr>\n",
       "  </thead>\n",
       "  <tbody>\n",
       "    <tr>\n",
       "      <th>7</th>\n",
       "      <td>2014</td>\n",
       "      <td>6480</td>\n",
       "      <td>0</td>\n",
       "      <td>0</td>\n",
       "      <td>0</td>\n",
       "      <td>1</td>\n",
       "      <td>0</td>\n",
       "      <td>0</td>\n",
       "      <td>0</td>\n",
       "      <td>1</td>\n",
       "    </tr>\n",
       "    <tr>\n",
       "      <th>11</th>\n",
       "      <td>2014</td>\n",
       "      <td>39972</td>\n",
       "      <td>0</td>\n",
       "      <td>0</td>\n",
       "      <td>0</td>\n",
       "      <td>0</td>\n",
       "      <td>1</td>\n",
       "      <td>0</td>\n",
       "      <td>0</td>\n",
       "      <td>0</td>\n",
       "    </tr>\n",
       "    <tr>\n",
       "      <th>167</th>\n",
       "      <td>2016</td>\n",
       "      <td>18989</td>\n",
       "      <td>0</td>\n",
       "      <td>0</td>\n",
       "      <td>0</td>\n",
       "      <td>0</td>\n",
       "      <td>0</td>\n",
       "      <td>1</td>\n",
       "      <td>0</td>\n",
       "      <td>1</td>\n",
       "    </tr>\n",
       "    <tr>\n",
       "      <th>225</th>\n",
       "      <td>2014</td>\n",
       "      <td>51330</td>\n",
       "      <td>0</td>\n",
       "      <td>0</td>\n",
       "      <td>0</td>\n",
       "      <td>1</td>\n",
       "      <td>0</td>\n",
       "      <td>0</td>\n",
       "      <td>0</td>\n",
       "      <td>0</td>\n",
       "    </tr>\n",
       "    <tr>\n",
       "      <th>270</th>\n",
       "      <td>2007</td>\n",
       "      <td>116065</td>\n",
       "      <td>0</td>\n",
       "      <td>1</td>\n",
       "      <td>0</td>\n",
       "      <td>0</td>\n",
       "      <td>0</td>\n",
       "      <td>0</td>\n",
       "      <td>0</td>\n",
       "      <td>0</td>\n",
       "    </tr>\n",
       "  </tbody>\n",
       "</table>\n",
       "</div>"
      ],
      "text/plain": [
       "     Year  Mileage  M_Camry  M_Camry4dr  M_CamryBase  M_CamryL  M_CamryLE  \\\n",
       "7    2014     6480        0           0            0         1          0   \n",
       "11   2014    39972        0           0            0         0          1   \n",
       "167  2016    18989        0           0            0         0          0   \n",
       "225  2014    51330        0           0            0         1          0   \n",
       "270  2007   116065        0           1            0         0          0   \n",
       "\n",
       "     M_CamrySE  M_CamryXLE  HighPrice  \n",
       "7            0           0          1  \n",
       "11           0           0          0  \n",
       "167          1           0          1  \n",
       "225          0           0          0  \n",
       "270          0           0          0  "
      ]
     },
     "execution_count": 2,
     "metadata": {},
     "output_type": "execute_result"
    }
   ],
   "source": [
    "# Importación de librerías\n",
    "%matplotlib inline\n",
    "import pandas as pd\n",
    "import numpy as np\n",
    "import math\n",
    "\n",
    "# Lectura de la información de archivo .csv\n",
    "data = pd.read_csv('https://raw.githubusercontent.com/albahnsen/MIAD_ML_and_NLP/main/datasets/dataTrain_carListings.zip')\n",
    "\n",
    "# Preprocesamiento de datos para el taller\n",
    "data = data.loc[data['Model'].str.contains('Camry')].drop(['Make', 'State'], axis=1)\n",
    "data = data.join(pd.get_dummies(data['Model'], prefix='M'))\n",
    "data['HighPrice'] = (data['Price'] > data['Price'].mean()).astype(int)\n",
    "data = data.drop(['Model', 'Price'], axis=1)\n",
    "\n",
    "# Visualización dataset\n",
    "data.head()"
   ]
  },
  {
   "cell_type": "code",
   "execution_count": 3,
   "metadata": {
    "cell_id": "00005-9a01de55-2ea3-43b0-a1de-8cdee8bcc2ba",
    "deepnote_cell_height": 117,
    "deepnote_cell_type": "code",
    "deepnote_to_be_reexecuted": false,
    "execution_millis": 5,
    "execution_start": 1650238130649,
    "source_hash": "cb7f74f"
   },
   "outputs": [],
   "source": [
    "# Separación de variables predictoras (X) y variable de interés (y)\n",
    "y = data['HighPrice']\n",
    "X = data.drop(['HighPrice'], axis=1)"
   ]
  },
  {
   "cell_type": "code",
   "execution_count": 4,
   "metadata": {
    "cell_id": "00006-51d016c5-99d4-4b76-9c96-762b024929e9",
    "deepnote_cell_height": 117,
    "deepnote_cell_type": "code",
    "deepnote_to_be_reexecuted": false,
    "execution_millis": 672,
    "execution_start": 1650238132682,
    "source_hash": "72c6640e"
   },
   "outputs": [],
   "source": [
    "# Separación de datos en set de entrenamiento y test\n",
    "from sklearn.model_selection import train_test_split\n",
    "X_train, X_test, y_train, y_test = train_test_split(X, y, test_size=0.33, random_state=42)"
   ]
  },
  {
   "cell_type": "markdown",
   "metadata": {
    "cell_id": "00007-47a79bdc-c464-4dea-b168-4345a1a8b6db",
    "deepnote_cell_height": 122.796875,
    "deepnote_cell_type": "markdown"
   },
   "source": [
    "### Punto 1 - Árbol de decisión manual\n",
    "\n",
    "En la celda 1 creen un árbol de decisión **manualmente**  que considere los set de entrenamiento y test definidos anteriormente y presenten el acurracy del modelo en el set de test."
   ]
  },
  {
   "cell_type": "code",
   "execution_count": 5,
   "metadata": {
    "cell_id": "00008-e1450267-6107-43ff-9377-5a522c6dd497",
    "deepnote_cell_height": 3592,
    "deepnote_cell_type": "code",
    "deepnote_output_heights": [
     null,
     611
    ],
    "deepnote_to_be_reexecuted": false,
    "execution_millis": 1306,
    "execution_start": 1650238135328,
    "source_hash": "6974379"
   },
   "outputs": [
    {
     "name": "stdout",
     "output_type": "stream",
     "text": [
      "Estructura del árbol:\n"
     ]
    },
    {
     "data": {
      "text/plain": [
       "{'y_pred': 1,\n",
       " 'y_prob': 0.5778472913408218,\n",
       " 'level': 0,\n",
       " 'split': [1, 51394.909090909096],\n",
       " 'n_samples': 7031,\n",
       " 'gain': 0.23630504821132137,\n",
       " 'sl': {'y_pred': 1,\n",
       "  'y_prob': 0.8375781948168007,\n",
       "  'level': 1,\n",
       "  'split': [0, 2015.0],\n",
       "  'n_samples': 4474,\n",
       "  'gain': 0.03713896892744761,\n",
       "  'sl': {'y_pred': 1,\n",
       "   'y_prob': 0.6404416839199448,\n",
       "   'level': 2,\n",
       "   'split': [0, 2013.0],\n",
       "   'n_samples': 1447,\n",
       "   'gain': 0.043426293133466354,\n",
       "   'sl': {'y_pred': 0,\n",
       "    'y_prob': 0.2780487804878049,\n",
       "    'level': 3,\n",
       "    'split': [0, 2012.0],\n",
       "    'n_samples': 203,\n",
       "    'gain': 0.05394731382546758,\n",
       "    'sl': {'y_pred': 0,\n",
       "     'y_prob': 0.09195402298850575,\n",
       "     'level': 4,\n",
       "     'split': -1,\n",
       "     'n_samples': 85,\n",
       "     'gain': 0.01352946029496721},\n",
       "    'sr': {'y_pred': 0,\n",
       "     'y_prob': 0.4166666666666667,\n",
       "     'level': 4,\n",
       "     'split': -1,\n",
       "     'n_samples': 118,\n",
       "     'gain': 0.020017026523643233}},\n",
       "   'sr': {'y_pred': 1,\n",
       "    'y_prob': 0.6998394863563403,\n",
       "    'level': 3,\n",
       "    'split': [1, 39822.0],\n",
       "    'n_samples': 1244,\n",
       "    'gain': 0.024256063237019176,\n",
       "    'sl': {'y_pred': 1,\n",
       "     'y_prob': 0.7671081677704195,\n",
       "     'level': 4,\n",
       "     'split': [6, 1.0],\n",
       "     'n_samples': 904,\n",
       "     'gain': 0.014011200973446158,\n",
       "     'sl': {'y_pred': 1,\n",
       "      'y_prob': 0.8110014104372355,\n",
       "      'level': 5,\n",
       "      'split': -1,\n",
       "      'n_samples': 707,\n",
       "      'gain': 0.00556156034847427},\n",
       "     'sr': {'y_pred': 1,\n",
       "      'y_prob': 0.6080402010050251,\n",
       "      'level': 5,\n",
       "      'split': [1, 25090.727272727272],\n",
       "      'n_samples': 197,\n",
       "      'gain': 0.0509520357534477,\n",
       "      'sl': {'y_pred': 1,\n",
       "       'y_prob': 0.8108108108108109,\n",
       "       'level': 6,\n",
       "       'split': -1,\n",
       "       'n_samples': 72,\n",
       "       'gain': 0.013111348528015265},\n",
       "      'sr': {'y_pred': 0,\n",
       "       'y_prob': 0.4881889763779528,\n",
       "       'level': 6,\n",
       "       'split': -1,\n",
       "       'n_samples': 125,\n",
       "       'gain': 0.010412280112044925}}},\n",
       "    'sr': {'y_pred': 1,\n",
       "     'y_prob': 0.52046783625731,\n",
       "     'level': 4,\n",
       "     'split': [6, 1.0],\n",
       "     'n_samples': 340,\n",
       "     'gain': 0.05453490718936188,\n",
       "     'sl': {'y_pred': 1,\n",
       "      'y_prob': 0.6098484848484849,\n",
       "      'level': 5,\n",
       "      'split': -1,\n",
       "      'n_samples': 262,\n",
       "      'gain': 0.016551370145274913},\n",
       "     'sr': {'y_pred': 0,\n",
       "      'y_prob': 0.225,\n",
       "      'level': 5,\n",
       "      'split': -1,\n",
       "      'n_samples': 78,\n",
       "      'gain': 0.010898218590526254}}}},\n",
       "  'sr': {'y_pred': 1,\n",
       "   'y_prob': 0.9316606140640475,\n",
       "   'level': 2,\n",
       "   'split': [1, 30532.545454545452],\n",
       "   'n_samples': 3027,\n",
       "   'gain': 0.007509453837285407,\n",
       "   'sl': {'y_pred': 1,\n",
       "    'y_prob': 0.9872958257713249,\n",
       "    'level': 3,\n",
       "    'split': -1,\n",
       "    'n_samples': 1651,\n",
       "    'gain': 0.00024133700317513843},\n",
       "   'sr': {'y_pred': 1,\n",
       "    'y_prob': 0.8642960812772134,\n",
       "    'level': 3,\n",
       "    'split': [6, 1.0],\n",
       "    'n_samples': 1376,\n",
       "    'gain': 0.00816405585876312,\n",
       "    'sl': {'y_pred': 1,\n",
       "     'y_prob': 0.9044715447154471,\n",
       "     'level': 4,\n",
       "     'split': [1, 44211.63636363637],\n",
       "     'n_samples': 982,\n",
       "     'gain': 0.0011786261141377707,\n",
       "     'sl': {'y_pred': 1,\n",
       "      'y_prob': 0.9189944134078212,\n",
       "      'level': 5,\n",
       "      'split': [0, 2017.0],\n",
       "      'n_samples': 714,\n",
       "      'gain': 0.0015632224032787745,\n",
       "      'sl': {'y_pred': 1,\n",
       "       'y_prob': 0.9090909090909091,\n",
       "       'level': 6,\n",
       "       'split': -1,\n",
       "       'n_samples': 636,\n",
       "       'gain': 0.0008129098073457186},\n",
       "      'sr': {'y_pred': 1,\n",
       "       'y_prob': 0.9875,\n",
       "       'level': 6,\n",
       "       'split': -1,\n",
       "       'n_samples': 78,\n",
       "       'gain': 0}},\n",
       "     'sr': {'y_pred': 1,\n",
       "      'y_prob': 0.8629629629629629,\n",
       "      'level': 5,\n",
       "      'split': [0, 2016.0],\n",
       "      'n_samples': 268,\n",
       "      'gain': 0.0029666274073334997,\n",
       "      'sl': {'y_pred': 1,\n",
       "       'y_prob': 0.8113207547169812,\n",
       "       'level': 6,\n",
       "       'split': -1,\n",
       "       'n_samples': 104,\n",
       "       'gain': 0.01542136864088528},\n",
       "      'sr': {'y_pred': 1,\n",
       "       'y_prob': 0.891566265060241,\n",
       "       'level': 6,\n",
       "       'split': -1,\n",
       "       'n_samples': 164,\n",
       "       'gain': 0.0004500731907840505}}},\n",
       "    'sr': {'y_pred': 1,\n",
       "     'y_prob': 0.7626262626262627,\n",
       "     'level': 4,\n",
       "     'split': [1, 46088.36363636363],\n",
       "     'n_samples': 394,\n",
       "     'gain': 0.012432872082331625,\n",
       "     'sl': {'y_pred': 1,\n",
       "      'y_prob': 0.7993827160493827,\n",
       "      'level': 5,\n",
       "      'split': [0, 2016.0],\n",
       "      'n_samples': 322,\n",
       "      'gain': 0.0017790429580819,\n",
       "      'sl': {'y_pred': 1,\n",
       "       'y_prob': 0.7545454545454545,\n",
       "       'level': 6,\n",
       "       'split': -1,\n",
       "       'n_samples': 108,\n",
       "       'gain': 0.0071004617233656475},\n",
       "      'sr': {'y_pred': 1,\n",
       "       'y_prob': 0.8194444444444444,\n",
       "       'level': 6,\n",
       "       'split': -1,\n",
       "       'n_samples': 214,\n",
       "       'gain': 0.001081668321998075}},\n",
       "     'sr': {'y_pred': 1,\n",
       "      'y_prob': 0.5945945945945946,\n",
       "      'level': 5,\n",
       "      'split': -1,\n",
       "      'n_samples': 72,\n",
       "      'gain': 0.0061262040428707865}}}}},\n",
       " 'sr': {'y_pred': 0,\n",
       "  'y_prob': 0.12348573661586557,\n",
       "  'level': 1,\n",
       "  'split': [0, 2014.0],\n",
       "  'n_samples': 2557,\n",
       "  'gain': 0.047676779790769896,\n",
       "  'sl': {'y_pred': 0,\n",
       "   'y_prob': 0.03826530612244898,\n",
       "   'level': 2,\n",
       "   'split': [0, 2012.0],\n",
       "   'n_samples': 1958,\n",
       "   'gain': 0.0045681349880153654,\n",
       "   'sl': {'y_pred': 0,\n",
       "    'y_prob': 0.00727802037845706,\n",
       "    'level': 3,\n",
       "    'split': -1,\n",
       "    'n_samples': 1372,\n",
       "    'gain': 6.539810508043517e-05},\n",
       "   'sr': {'y_pred': 0,\n",
       "    'y_prob': 0.11224489795918367,\n",
       "    'level': 3,\n",
       "    'split': [1, 73046.45454545454],\n",
       "    'n_samples': 586,\n",
       "    'gain': 0.011500104783552484,\n",
       "    'sl': {'y_pred': 0,\n",
       "     'y_prob': 0.21395348837209302,\n",
       "     'level': 4,\n",
       "     'split': -1,\n",
       "     'n_samples': 213,\n",
       "     'gain': 0.03131873045174638},\n",
       "    'sr': {'y_pred': 0,\n",
       "     'y_prob': 0.056,\n",
       "     'level': 4,\n",
       "     'split': [1, 86796.45454545454],\n",
       "     'n_samples': 373,\n",
       "     'gain': 0.0027469921069710745,\n",
       "     'sl': {'y_pred': 0,\n",
       "      'y_prob': 0.09883720930232558,\n",
       "      'level': 5,\n",
       "      'split': -1,\n",
       "      'n_samples': 170,\n",
       "      'gain': 0.005168695203297352},\n",
       "     'sr': {'y_pred': 0,\n",
       "      'y_prob': 0.024390243902439025,\n",
       "      'level': 5,\n",
       "      'split': -1,\n",
       "      'n_samples': 203,\n",
       "      'gain': 0.0008738844612075081}}}},\n",
       "  'sr': {'y_pred': 0,\n",
       "   'y_prob': 0.40266222961730447,\n",
       "   'level': 2,\n",
       "   'split': [0, 2015.0],\n",
       "   'n_samples': 599,\n",
       "   'gain': 0.03360777305969753,\n",
       "   'sl': {'y_pred': 0,\n",
       "    'y_prob': 0.30213903743315507,\n",
       "    'level': 3,\n",
       "    'split': -1,\n",
       "    'n_samples': 372,\n",
       "    'gain': 0.02792228272448688},\n",
       "   'sr': {'y_pred': 1,\n",
       "    'y_prob': 0.5676855895196506,\n",
       "    'level': 3,\n",
       "    'split': -1,\n",
       "    'n_samples': 227,\n",
       "    'gain': 0.02910175577937174}}}}"
      ]
     },
     "metadata": {},
     "output_type": "display_data"
    },
    {
     "name": "stdout",
     "output_type": "stream",
     "text": [
      "\n",
      "Accuracy árbol de clasificación manual = 0.8836605080831409\n"
     ]
    }
   ],
   "source": [
    "# Celda 1\n",
    "\n",
    "# Definición de la función que calcula el gini index\n",
    "\n",
    "def gini(y):\n",
    "    if y.shape[0] == 0:\n",
    "        return 0\n",
    "    else:\n",
    "        return 1 - (y.mean()**2 + (1 - y.mean())**2)\n",
    "    \n",
    "# Definición de la función gini_imputiry para calular la ganancia de una variable predictora j dado el punto de corte k\n",
    "\n",
    "def gini_impurity(X_col, y, split):\n",
    "    \n",
    "    filter_l = X_col < split\n",
    "    y_l = y.loc[filter_l]\n",
    "    y_r = y.loc[~filter_l]\n",
    "    \n",
    "    n_l = y_l.shape[0]\n",
    "    n_r = y_r.shape[0]\n",
    "    \n",
    "    gini_y = gini(y)\n",
    "    gini_l = gini(y_l)\n",
    "    gini_r = gini(y_r)\n",
    "    \n",
    "    gini_impurity_ = gini_y - (n_l / (n_l + n_r) * gini_l + n_r / (n_l + n_r) * gini_r)\n",
    "    \n",
    "    return gini_impurity_\n",
    "\n",
    "# Definición de la función best_split para calcular cuál es la mejor variable y punto de cortepara hacer la bifurcación del \n",
    "# árbol\n",
    "\n",
    "def best_split(X, y, num_pct=10):\n",
    "    \n",
    "    features = range(X.shape[1])\n",
    "    \n",
    "    best_split = [0, 0, 0]  # j, split, gain\n",
    "    \n",
    "    # Para todas las varibles \n",
    "    for j in features:\n",
    "        \n",
    "        splits = np.percentile(X.iloc[:, j], np.arange(0, 100, 100.0 / (num_pct+1)).tolist())\n",
    "        splits = np.unique(splits)[1:]\n",
    "        \n",
    "        # Para cada partición\n",
    "        for split in splits:\n",
    "            gain = gini_impurity(X.iloc[:, j], y, split)\n",
    "                        \n",
    "            if gain > best_split[2]:\n",
    "                best_split = [j, split, gain]\n",
    "    \n",
    "    return best_split\n",
    "\n",
    "# Definición de la función tree_grow para hacer un crecimiento recursivo del árbol\n",
    "\n",
    "def tree_grow(X, y, level=0, min_gain=0.001, max_depth=None, num_pct=10, min_samples=None):\n",
    "    \n",
    "    # Si solo es una observación\n",
    "    \n",
    "    if X.shape[0] == 1:\n",
    "        tree = dict(y_pred=y.iloc[:1].values[0], y_prob=0.5, level=level, split=-1, n_samples=1, gain=0)\n",
    "        return tree\n",
    "    \n",
    "    # Calcular la mejor división\n",
    "    \n",
    "    j, split, gain = best_split(X, y, num_pct)\n",
    "    \n",
    "    # Guardar el árbol y estimar la predicción\n",
    "    \n",
    "    y_pred = int(y.mean() >= 0.5) \n",
    "    y_prob = (y.sum() + 1.0) / (y.shape[0] + 2.0)  # Corrección Laplace \n",
    "    \n",
    "    tree = dict(y_pred=y_pred, y_prob=y_prob, level=level, split=-1, n_samples=X.shape[0], gain=gain)\n",
    "    \n",
    "    # Revisar el criterio de parada\n",
    "    \n",
    "    if gain < min_gain:\n",
    "        return tree\n",
    "    if max_depth is not None:\n",
    "        if level >= max_depth:\n",
    "            return tree\n",
    "    \n",
    "    # Continuar creando la partición\n",
    "    \n",
    "    filter_l = X.iloc[:, j] < split\n",
    "    X_l, y_l = X.loc[filter_l], y.loc[filter_l]\n",
    "    X_r, y_r = X.loc[~filter_l], y.loc[~filter_l]\n",
    "    \n",
    "    # Parar si la partición resultaría en un número de muestras inferior al mínimo\n",
    "    \n",
    "    if min_samples is not None:\n",
    "        if X_l.shape[0] < min_samples or X_r.shape[0] < min_samples:\n",
    "            return tree\n",
    "    \n",
    "    tree['split'] = [j, split]\n",
    "\n",
    "    # Siguiente iteración para cada partición\n",
    "    \n",
    "    tree['sl'] = tree_grow(X_l, y_l, level + 1, min_gain=min_gain, max_depth=max_depth, num_pct=num_pct, \n",
    "                           min_samples=min_samples)\n",
    "    tree['sr'] = tree_grow(X_r, y_r, level + 1, min_gain=min_gain, max_depth=max_depth, num_pct=num_pct, \n",
    "                           min_samples=min_samples)\n",
    "    \n",
    "    return tree\n",
    "\n",
    "# Definición de la función tree_predict para hacer predicciones según las variables 'X' y el árbol 'tree'\n",
    "\n",
    "def tree_predict(X, tree, proba=False):\n",
    "    \n",
    "    predicted = np.ones(X.shape[0])\n",
    "\n",
    "    # Revisar si es el nodo final\n",
    "    \n",
    "    if tree['split'] == -1:\n",
    "        if not proba:\n",
    "            predicted = predicted * tree['y_pred']\n",
    "        else:\n",
    "            predicted = predicted * tree['y_prob']\n",
    "            \n",
    "    else:\n",
    "        \n",
    "        j, split = tree['split']\n",
    "        filter_l = (X.iloc[:, j] < split)\n",
    "        X_l = X.loc[filter_l]\n",
    "        X_r = X.loc[~filter_l]\n",
    "\n",
    "        if X_l.shape[0] == 0:  # Si el nodo izquierdo está vacio solo continua con el derecho \n",
    "            predicted[~filter_l] = tree_predict(X_r, tree['sr'], proba)\n",
    "        elif X_r.shape[0] == 0:  #  Si el nodo derecho está vacio solo continua con el izquierdo\n",
    "            predicted[filter_l] = tree_predict(X_l, tree['sl'], proba)\n",
    "        else:\n",
    "            predicted[filter_l] = tree_predict(X_l, tree['sl'], proba)\n",
    "            predicted[~filter_l] = tree_predict(X_r, tree['sr'], proba)\n",
    "\n",
    "    return predicted\n",
    "\n",
    "# Se entrena el árbol utilizando el subconjunto de entrenamiento\n",
    "\n",
    "tree = tree_grow(X_train, y_train, level=0, min_gain=0.001, max_depth=10, num_pct=10, \n",
    "                 min_samples=int(X_train.shape[0]*0.01))\n",
    "\n",
    "# Se muestra la estructura del arbol entrenado\n",
    "\n",
    "print('Estructura del árbol:')\n",
    "display(tree)\n",
    "\n",
    "# Se calculan las predicciones utilizando el subconjunto de evaluación\n",
    "\n",
    "tree_predictions = tree_predict(X_test, tree)\n",
    "\n",
    "# Cálculo del accuracy\n",
    "\n",
    "from sklearn.metrics import accuracy_score\n",
    "\n",
    "print('\\nAccuracy árbol de clasificación manual =', accuracy_score(tree_predictions, y_test))"
   ]
  },
  {
   "cell_type": "markdown",
   "metadata": {
    "cell_id": "00009-5936b55b-c09a-4a0a-89e2-0198eb8715fc",
    "deepnote_cell_height": 100.390625,
    "deepnote_cell_type": "markdown"
   },
   "source": [
    "### Punto 2 - Bagging manual\n",
    "\n",
    "En la celda 2 creen un modelo bagging **manualmente** con 10 árboles de clasificación y comenten sobre el desempeño del modelo."
   ]
  },
  {
   "cell_type": "code",
   "execution_count": 6,
   "metadata": {
    "cell_id": "00010-1890af89-c07f-4a7a-aee1-4ccfad31899b",
    "deepnote_cell_height": 778,
    "deepnote_cell_type": "code",
    "deepnote_to_be_reexecuted": false,
    "execution_millis": 85,
    "execution_start": 1650244123394,
    "source_hash": "7cc66646"
   },
   "outputs": [
    {
     "name": "stdout",
     "output_type": "stream",
     "text": [
      "Accuracy bagging manual = 0.8874133949191686\n"
     ]
    }
   ],
   "source": [
    "# Celda 2\n",
    "\n",
    "# Creación de 10 muestras de bootstrap\n",
    "\n",
    "np.random.seed(1)\n",
    "\n",
    "n_samples = X_train.shape[0]\n",
    "n_B = 10\n",
    "\n",
    "samples = [np.random.choice(a=n_samples, size=n_samples, replace=True) for _ in range(1, n_B +1 )]\n",
    "\n",
    "# Construcción un árbol de decisión para cada muestra boostrap\n",
    "\n",
    "from sklearn.tree import DecisionTreeClassifier\n",
    "\n",
    "# Definición del modelo usando DecisionTreeClassifier de sklearn\n",
    "\n",
    "clf = DecisionTreeClassifier(max_depth=10, min_impurity_decrease=0.001, min_samples_leaf=0.01, random_state=1)\n",
    "\n",
    "# DataFrame para guardar las predicciones de cada árbol\n",
    "\n",
    "y_pred_bag = pd.DataFrame(index=y_test.index, columns=[list(range(n_B))])\n",
    "\n",
    "# Entrenamiento de un árbol sobre cada muestra boostrap y predicción sobre los datos de test\n",
    "\n",
    "for i, sample in enumerate(samples):\n",
    "    X_train_bootstrapped = X_train.iloc[sample, :]\n",
    "    y_train_bootstrapped = y_train.iloc[sample]\n",
    "    clf.fit(X_train_bootstrapped, y_train_bootstrapped)\n",
    "    y_pred_bag.iloc[:,i] = clf.predict(X_test)\n",
    "    \n",
    "# Agregación de los árboles por votación mayoritaria\n",
    "\n",
    "manual_bagging_predictions = np.where(np.mean(y_pred_bag, axis = 1) >= 0.5, 1, 0)\n",
    "\n",
    "# Reporte del desempeño\n",
    "\n",
    "print('Accuracy bagging manual =', accuracy_score(manual_bagging_predictions, y_test))"
   ]
  },
  {
   "cell_type": "markdown",
   "metadata": {
    "cell_id": "c294b8df8d174e20b1a19e035631ef66",
    "deepnote_cell_height": 155.59375,
    "deepnote_cell_type": "markdown",
    "tags": []
   },
   "source": [
    "#### Comentarios sobre los resultados\n",
    "\n",
    "Luego de entrenar el modelo bagging con 10 árboles de clasificación, utilizando los mismos criterios de parada que para el árbol individual manual, se observa un ligero incremento en el Accuracy hacia 0.8874, desde 0.8837.Así, se confirma el principio que indica que la agregación de modelos resulta en un desempeño mejor que el modelo individual y que el modelo bagging obtiene resultados relativamente buenos y podría servir para realizar la clasificación."
   ]
  },
  {
   "cell_type": "markdown",
   "metadata": {
    "cell_id": "00011-87e35ea2-e1e7-4d0c-8a31-f6e00d968895",
    "deepnote_cell_height": 122.796875,
    "deepnote_cell_type": "markdown"
   },
   "source": [
    "### Punto 3 - Bagging con librería\n",
    "\n",
    "En la celda 3, con la librería sklearn, entrenen un modelo bagging con 10 árboles de clasificación y el parámetro `max_features` igual a `log(n_features)`. Presenten el acurracy del modelo en el set de test y comenten sus resultados."
   ]
  },
  {
   "cell_type": "code",
   "execution_count": 7,
   "metadata": {
    "cell_id": "00012-41a4b45d-b4f2-4d70-acc3-8fbcdf3fb900",
    "deepnote_cell_height": 526,
    "deepnote_cell_type": "code",
    "deepnote_to_be_reexecuted": false,
    "execution_millis": 73,
    "execution_start": 1650244634632,
    "source_hash": "1e1242b9"
   },
   "outputs": [
    {
     "name": "stdout",
     "output_type": "stream",
     "text": [
      "Accuracy bagging con sklearn = 0.8767321016166282\n"
     ]
    }
   ],
   "source": [
    "# Celda 3\n",
    "\n",
    "# Definición del modelo bagging con sklearn\n",
    "\n",
    "from sklearn.ensemble import BaggingClassifier\n",
    "\n",
    "n_features = X.shape[1]\n",
    "\n",
    "clf = BaggingClassifier(DecisionTreeClassifier(max_depth=10, min_impurity_decrease=0.001, \n",
    "                                               min_samples_leaf=0.01, random_state=1),\n",
    "                        n_estimators=10, max_features=int(math.log(n_features, 2)), \n",
    "                        bootstrap=True, oob_score=True, random_state=1)\n",
    "\n",
    "# Entrenamiento del modelo bagging con sklearn\n",
    "\n",
    "clf.fit(X_train, y_train)\n",
    "\n",
    "# Predicciones del modelo bagging con sklearn\n",
    "\n",
    "bagging_predictions = clf.predict(X_test)\n",
    "\n",
    "# Reporte del desempeño\n",
    "\n",
    "print('Accuracy bagging con sklearn =', accuracy_score(bagging_predictions, y_test))"
   ]
  },
  {
   "cell_type": "markdown",
   "metadata": {
    "cell_id": "b6a629f388f14bfbbdc44552929831c2",
    "deepnote_cell_height": 214.390625,
    "deepnote_cell_type": "markdown",
    "tags": []
   },
   "source": [
    "#### Comentarios sobre los resultados\n",
    "\n",
    "Luego de entrenar el modelo bagging de scikitlearn, con 10 árboles de clasificación y un max_features igual al resultado aproximado del logaritmo en base 2 de 9 predictores, el modelo nos entrega un Accuracy con un valor 0.8773.\n",
    "\n",
    "Aunque los resultados del modelo siguen siendo adecuados para realizar la clasificación, el accuracy obtenido disminuye en cerca de 1% con respecto al obtenido con el Bagging manual realizado en el punto 2. Esto nos sugiere que limitar el número de parámetros a tener en cuenta para encontrar la mejor división no fue la mejor estrategia. De igual forma, podríamos explorar el tunning de los parametros y obtener valores superiores del accuracy con bagging al modificar este parámetro."
   ]
  },
  {
   "cell_type": "markdown",
   "metadata": {
    "cell_id": "00013-e5265874-1ebe-478f-8696-0009d3da493c",
    "deepnote_cell_height": 122.796875,
    "deepnote_cell_type": "markdown"
   },
   "source": [
    "### Punto 4 - Random forest con librería\n",
    "\n",
    "En la celda 4, usando la librería sklearn entrenen un modelo de Randon Forest para clasificación y presenten el acurracy del modelo en el set de test y comenten sus resultados."
   ]
  },
  {
   "cell_type": "code",
   "execution_count": 8,
   "metadata": {
    "cell_id": "00014-4f86b66a-2afa-4ea3-a74c-28e4af996f41",
    "deepnote_cell_height": 508,
    "deepnote_cell_type": "code",
    "deepnote_output_heights": [
     59.59375
    ],
    "deepnote_to_be_reexecuted": false,
    "execution_millis": 104,
    "execution_start": 1650244648644,
    "source_hash": "38cd27d"
   },
   "outputs": [
    {
     "name": "stdout",
     "output_type": "stream",
     "text": [
      "Accuracy random forest con sklearn = 0.8804849884526559\n"
     ]
    }
   ],
   "source": [
    "# Celda 4\n",
    "\n",
    "# Definición del modelo random forest con sklearn\n",
    "\n",
    "from sklearn.ensemble import RandomForestClassifier\n",
    "\n",
    "n_features = X.shape[1]\n",
    "\n",
    "clf = RandomForestClassifier(max_depth = 10, min_impurity_decrease=0.001, \n",
    "                             min_samples_leaf=0.01, random_state=1,\n",
    "                             n_estimators=10, max_features=\"log2\")\n",
    "\n",
    "# Entrenamiento del modelo random forest con sklearn\n",
    "\n",
    "clf.fit(X_train, y_train)\n",
    "\n",
    "# Predicciones del modelo random forest con sklearn\n",
    "\n",
    "rf_predictions = clf.predict(X_test)\n",
    "\n",
    "# Reporte del desempeño\n",
    "Acc_RF=accuracy_score(rf_predictions, y_test)\n",
    "print('Accuracy random forest con sklearn =', accuracy_score(rf_predictions, y_test))"
   ]
  },
  {
   "cell_type": "markdown",
   "metadata": {
    "cell_id": "9730a0921c8c4b7396f560aa75a57208",
    "deepnote_cell_height": 178,
    "deepnote_cell_type": "markdown",
    "tags": []
   },
   "source": [
    "#### Comentarios sobre los resultados\n",
    "\n",
    "Luego de entrenar el modelo random forest de scikitlearn (utilizando los mismos parámetros para los árboles que los utilizados para el bagging con sklearn), se obtiene un Accuracy con un valor de 0.8805. Lo anterior representa una ligera mejora con respecto a los resultados obtenidos a través de bagging con skleaern. No obstante, el accuracy es inferior al obtenido con el árbol individual y con bagging manual. Esto puede ser indicación de que el modelo requiere de calibración. Aún así, los resultados del accuracy son relativamente satisfactorios y se podría usar el modelo para la clasificiación."
   ]
  },
  {
   "cell_type": "markdown",
   "metadata": {
    "cell_id": "00015-09ce61c3-fdf5-4cab-8a42-003f6a790167",
    "deepnote_cell_height": 122.796875,
    "deepnote_cell_type": "markdown"
   },
   "source": [
    "### Punto 5 - Calibración de parámetros Random forest\n",
    "\n",
    "En la celda 5, calibren los parámetros max_depth, max_features y n_estimators del modelo de Randon Forest para clasificación. Presenten el acurracy del modelo en el set de test, comenten sus resultados y análicen cómo cada parámetro afecta el modelo."
   ]
  },
  {
   "cell_type": "code",
   "execution_count": 9,
   "metadata": {
    "cell_id": "00016-0140925c-f51d-4f67-a1f8-8dc46762165f",
    "deepnote_cell_height": 3020,
    "deepnote_cell_type": "code",
    "deepnote_output_heights": [
     265,
     265,
     265,
     265,
     265,
     null,
     265,
     267,
     267
    ],
    "deepnote_to_be_reexecuted": false,
    "execution_millis": 248296,
    "execution_start": 1650248145485,
    "source_hash": "a5ee002f"
   },
   "outputs": [
    {
     "data": {
      "image/png": "[encoded data removed]",
      "text/plain": [
       "<Figure size 432x288 with 1 Axes>"
      ]
     },
     "metadata": {
      "needs_background": "light"
     },
     "output_type": "display_data"
    },
    {
     "name": "stdout",
     "output_type": "stream",
     "text": [
      "La calibración indica que el mejor accuracy ( 0.87498504784689 ) se obtiene con una profundidad máxima de 5\n"
     ]
    },
    {
     "data": {
      "image/png": "[encoded data removed]",
      "text/plain": [
       "<Figure size 432x288 with 1 Axes>"
      ]
     },
     "metadata": {
      "needs_background": "light"
     },
     "output_type": "display_data"
    },
    {
     "name": "stdout",
     "output_type": "stream",
     "text": [
      "La calibración indica que el mejor accuracy ( 0.8764073208974527 ) se obtiene con un número máximo de predictores de 5\n"
     ]
    },
    {
     "data": {
      "image/png": "[encoded data removed]",
      "text/plain": [
       "<Figure size 432x288 with 1 Axes>"
      ]
     },
     "metadata": {
      "needs_background": "light"
     },
     "output_type": "display_data"
    },
    {
     "name": "stdout",
     "output_type": "stream",
     "text": [
      "La calibración indica que el mejor accuracy ( 0.8776877505495927 ) se obtiene con un número máximo de predictores de 25\n",
      "Accuracy random forest calibrado con sklearn = 0.8877020785219399\n"
     ]
    }
   ],
   "source": [
    "# Celda 5\n",
    "from sklearn.model_selection import cross_val_score\n",
    "import matplotlib.pyplot as plt\n",
    "\n",
    "def cal_max_depth(inicial, final, paso): \n",
    "    \n",
    "    # Creación de lista de valores para iterar sobre diferentes valores de n_estimators\n",
    "    estimator_range = range(inicial,final,paso)\n",
    "\n",
    "    # Definición de lista para almacenar la exactitud (accuracy) promedio para cada valor de n_estimators\n",
    "    accuracy_scores = []\n",
    "\n",
    "    # Uso de un 10-fold cross-validation para cada valor de n_estimators\n",
    "    for estimator in estimator_range:\n",
    "        clf = RandomForestClassifier(max_depth=estimator, min_impurity_decrease=0.001, \n",
    "                                     min_samples_leaf=0.01, random_state=1,\n",
    "                                     n_estimators=10, max_features=\"log2\",  n_jobs=-1)\n",
    "        accuracy_scores.append(cross_val_score(clf, X_train, y_train, cv=10, scoring='accuracy').mean())\n",
    "\n",
    "    # Gráfica del desempeño del modelo vs la cantidad de n_estimators\n",
    "    plt.plot(estimator_range, accuracy_scores)\n",
    "    plt.xlabel('max_depth')\n",
    "    plt.ylabel('Accuracy')\n",
    "    plt.show()\n",
    "\n",
    "    optimal_max_depth = inicial + (paso * np.argmax(accuracy_scores))\n",
    "\n",
    "    return np.amax(accuracy_scores), optimal_max_depth\n",
    "\n",
    "optimal_accuracy, optimal_max_depth = cal_max_depth(1, 30, 1)\n",
    "\n",
    "print(\"La calibración indica que el mejor accuracy (\", optimal_accuracy,\n",
    "      \") se obtiene con una profundidad máxima de\", optimal_max_depth)\n",
    "\n",
    "def cal_n_features(n_features):\n",
    "\n",
    "    # Creación de lista de valores para iterar sobre diferentes valores de max_features\n",
    "    feature_range = range(1, n_features+1)\n",
    "\n",
    "    # Definición de lista para almacenar la exactitud (accuracy) promedio para cada valor de max_features\n",
    "    accuracy_scores = []\n",
    "\n",
    "    # Uso de un 10-fold cross-validation para cada valor de max_features\n",
    "    for feature in feature_range:\n",
    "        clf = RandomForestClassifier(max_depth=10, min_impurity_decrease=0.001, \n",
    "                                     min_samples_leaf=0.01, random_state=1,\n",
    "                                     n_estimators=10, max_features=feature,  n_jobs=-1)\n",
    "        accuracy_scores.append(cross_val_score(clf, X_train, y_train, cv=10, scoring='accuracy').mean())\n",
    "\n",
    "    plt.plot(feature_range, accuracy_scores)\n",
    "    plt.xlabel('max_features')\n",
    "    plt.ylabel('Accuracy')\n",
    "    plt.show()\n",
    "\n",
    "    optimal_n_features = np.argmax(accuracy_scores) + 1\n",
    "\n",
    "    return np.amax(accuracy_scores), optimal_n_features\n",
    "\n",
    "optimal_accuracy, optimal_n_features = cal_n_features(X.shape[1])\n",
    "\n",
    "print(\"La calibración indica que el mejor accuracy (\", optimal_accuracy,\n",
    "      \") se obtiene con un número máximo de predictores de\", optimal_n_features)\n",
    "\n",
    "def cal_n_estimators(estimators_array):\n",
    "\n",
    "    # Definición de lista para almacenar la exactitud (accuracy) promedio para cada valor de n_estimators\n",
    "    accuracy_scores = []\n",
    "\n",
    "    # Uso de un 10-fold cross-validation para cada valor de n_estimators\n",
    "    for estimator in estimators_array:\n",
    "        clf = RandomForestClassifier(max_depth=10, min_impurity_decrease=0.001, \n",
    "                                     min_samples_leaf=0.01, random_state=1,\n",
    "                                     n_estimators=estimator, max_features=\"log2\",  n_jobs=-1)\n",
    "        accuracy_scores.append(cross_val_score(clf, X_train, y_train, cv=10, scoring='accuracy').mean())\n",
    "\n",
    "    # Gráfica del desempeño del modelo vs la cantidad de n_estimators\n",
    "    plt.plot(estimators_array, accuracy_scores)\n",
    "    plt.xlabel('n_estimators')\n",
    "    plt.ylabel('Accuracy')\n",
    "    plt.show()\n",
    "\n",
    "    optimal_n_estimators = estimators_array[np.argmax(accuracy_scores)]\n",
    "\n",
    "    return np.amax(accuracy_scores), optimal_n_estimators\n",
    "\n",
    "estimators = range(5, 200, 5)\n",
    "\n",
    "optimal_accuracy, optimal_n_estimators = cal_n_estimators(estimators)\n",
    "\n",
    "print(\"La calibración indica que el mejor accuracy (\", optimal_accuracy,\n",
    "      \") se obtiene con un número máximo de predictores de\", optimal_n_estimators)\n",
    "\n",
    "#Modelo con parametros calibrados\n",
    "clf = RandomForestClassifier(max_depth=5, min_impurity_decrease=0.001, min_samples_leaf=0.01,\n",
    "                             random_state=1, n_estimators=25, max_features=5,  n_jobs=-1)\n",
    "\n",
    "# Entrenamiento del modelo random forest con sklearn\n",
    "\n",
    "clf.fit(X_train, y_train)\n",
    "\n",
    "# Predicciones del modelo random forest con sklearn\n",
    "\n",
    "rf_predictions = clf.predict(X_test)\n",
    "\n",
    "# Reporte del desempeño\n",
    "Acc_RF_Cal=accuracy_score(rf_predictions, y_test)\n",
    "print('Accuracy random forest calibrado con sklearn =', Acc_RF_Cal)"
   ]
  },
  {
   "cell_type": "markdown",
   "metadata": {
    "cell_id": "45b8f5d44ef743e4ba2cd38dc044f075",
    "deepnote_cell_height": 590,
    "deepnote_cell_type": "markdown",
    "tags": []
   },
   "source": [
    "#### Comentarios sobre los resultados\n",
    "\n",
    "Para realizar la calibración se realizaron varias iteraciones ajustando cada vez, el rango de valores que se querían probar, llegando finalmente a tener un ajuste fino. Esto se realizó con cada uno de los tres parámetros por separado.\n",
    "\n",
    "Como se observa en las gráficas generadas:\n",
    "\n",
    "- El incrementar la profundidad de los árboles mejora el desempeño del modelo solo hasta cierto punto. Vemos como el cross validation accuracy se estanca a partir de una profundidad de 8 o más. El ejercicio de calibración encuentra que el número óptimo* de profundidad máxima es 5.\n",
    "- Con respecto al número máximo de predictores utilizados por los árboles del modelo, se observa que el óptimo se encuentra al utilizar un número ni tan bajo, ni tan alto, de predictores. Esto es consistente con la lógica detrás del modelo Random Forest, que indica que no todos los predictores deben ser utilizados para incrementar la aleatoreidad de los modelos agregados y mejorar el desempeño. Sin embargo, usar muy pocos predictores puede afectar la capacidad predictiva de los modelos subyacentes. Así, lo mejor es usar un número intermendio. En este caso, el óptimo* es utilizar un máximo de 5 predictores.\n",
    "- Para el número de estimadores (árboles generados) no parece haber una relación clara entre este parámetro y el desempeño del modelo, pues la relación se observa errática. \n",
    "\n",
    "*Nota: Los óptimos se obtienen al calibrar los parámetros por separado, por lo que pueden ser diferentes de los óptimos reales que se obtendrían al calibrar los parámetros en conjunto.\n",
    "\n",
    "Luego de obtener los óptimos, se pasan estos tres parámetros al modelo para entrenarlo y realizar la predicción.\n",
    "\n",
    "Se observa que luego de haber calibrado los tres parámetros max_depth, max_features y n_estimators, el accuracy incrementó desde 0.8804 a 0.8877, lo cual es una mejora significativa, pues lleva a que el modelo tenga un desempeño superior al del árbol individual y del bagging manual, que son los modelos con mejor desempeño hasta el momento. Esto reafirma que un modelo como RF calibrado tiene un buen desempeño. Un desempeño aún superior podría obtenerse si los parámetros se calibraran en conjunto. "
   ]
  },
  {
   "cell_type": "markdown",
   "metadata": {
    "cell_id": "00017-178b38bb-4202-42e8-ba70-1b53554bee64",
    "deepnote_cell_height": 122.796875,
    "deepnote_cell_type": "markdown"
   },
   "source": [
    "### Punto 6 - XGBoost con librería\n",
    "\n",
    "En la celda 6 implementen un modelo XGBoost de clasificación con la librería sklearn, presenten el acurracy del modelo en el set de test y comenten sus resultados."
   ]
  },
  {
   "cell_type": "code",
   "execution_count": 10,
   "metadata": {
    "cell_id": "00018-4d46e4cf-4806-4f1f-8e67-990e39cc9fbc",
    "deepnote_cell_height": 544,
    "deepnote_cell_type": "code",
    "deepnote_to_be_reexecuted": false,
    "execution_millis": 14908,
    "execution_start": 1650241909709,
    "source_hash": "d21e9c25"
   },
   "outputs": [
    {
     "name": "stdout",
     "output_type": "stream",
     "text": [
      "Collecting xgboost\n",
      "  Downloading xgboost-1.6.0-py3-none-win_amd64.whl (126.1 MB)\n",
      "Requirement already satisfied: scipy in c:\\users\\pipes\\anaconda3\\lib\\site-packages (from xgboost) (1.5.2)\n",
      "Requirement already satisfied: numpy in c:\\users\\pipes\\anaconda3\\lib\\site-packages (from xgboost) (1.19.2)\n",
      "Installing collected packages: xgboost\n",
      "Successfully installed xgboost-1.6.0\n",
      "Accuracy Score: 0.8856812933025404\n"
     ]
    }
   ],
   "source": [
    "# Celda 6\n",
    "!pip install xgboost\n",
    "\n",
    "from xgboost import XGBClassifier\n",
    "from sklearn import metrics\n",
    "\n",
    "clf = XGBClassifier()\n",
    "\n",
    "clf.fit(X_train, y_train, eval_metric='logloss')\n",
    "\n",
    "y_pred = clf.predict(X_test)\n",
    "\n",
    "Acc_XGB=metrics.accuracy_score(y_pred, y_test.values)\n",
    "\n",
    "print(\"Accuracy Score:\", Acc_XGB)"
   ]
  },
  {
   "cell_type": "markdown",
   "metadata": {
    "cell_id": "694e3d0e0b2a455686b3d704e4bf9066",
    "deepnote_cell_height": 133.1875,
    "deepnote_cell_type": "markdown",
    "tags": []
   },
   "source": [
    "#### Comentarios sobre los resultados\n",
    "\n",
    "Luego de entrenar el modelo Xtreme gradient Boosting (sin calibrar parámetros) se obtiene un accuracy de 0.8857 que es similar al obtenido con RandomForest calibrado, lo que nos da un indicio sobre la potencia del XGboosting. Este valor nos demuestra un buen desempeño del modelo."
   ]
  },
  {
   "cell_type": "markdown",
   "metadata": {
    "cell_id": "00019-f3e56a4d-4d91-4e7d-aa46-9c672b600dd0",
    "deepnote_cell_height": 122.796875,
    "deepnote_cell_type": "markdown"
   },
   "source": [
    "### Punto 7 - Calibración de parámetros XGBoost\n",
    "\n",
    "En la celda 7 calibren los parámetros learning rate, gamma y colsample_bytree del modelo XGBoost para clasificación. Presenten el acurracy del modelo en el set de test, comenten sus resultados y análicen cómo cada parámetro afecta el modelo."
   ]
  },
  {
   "cell_type": "code",
   "execution_count": 14,
   "metadata": {
    "cell_id": "00020-6635d111-115a-4995-ac98-a161472b5aa2",
    "deepnote_cell_height": 1115,
    "deepnote_cell_type": "code",
    "deepnote_output_heights": [
     null,
     194
    ],
    "deepnote_to_be_reexecuted": false,
    "execution_millis": 33033,
    "execution_start": 1650248779577,
    "source_hash": "376286e4"
   },
   "outputs": [
    {
     "name": "stdout",
     "output_type": "stream",
     "text": [
      "Fitting 5 folds for each of 15 candidates, totalling 75 fits\n"
     ]
    },
    {
     "name": "stderr",
     "output_type": "stream",
     "text": [
      "[Parallel(n_jobs=-1)]: Using backend LokyBackend with 8 concurrent workers.\n",
      "[Parallel(n_jobs=-1)]: Done  25 tasks      | elapsed:    2.0s\n",
      "[Parallel(n_jobs=-1)]: Done  75 out of  75 | elapsed:    5.7s finished\n"
     ]
    },
    {
     "data": {
      "text/plain": [
       "XGBClassifier(base_score=0.5, booster='gbtree', callbacks=None,\n",
       "              colsample_bylevel=1, colsample_bynode=1, colsample_bytree=0.35,\n",
       "              early_stopping_rounds=None, enable_categorical=False,\n",
       "              eval_metric=None, gamma=0.6, gpu_id=-1, grow_policy='depthwise',\n",
       "              importance_type=None, interaction_constraints='',\n",
       "              learning_rate=0.07, max_bin=256, max_cat_to_onehot=4,\n",
       "              max_delta_step=0, max_depth=6, max_leaves=0, min_child_weight=1,\n",
       "              missing=nan, monotone_constraints='()', n_estimators=100,\n",
       "              n_jobs=0, num_parallel_tree=1, predictor='auto', random_state=0,\n",
       "              reg_alpha=0, reg_lambda=1, ...)"
      ]
     },
     "metadata": {},
     "output_type": "display_data"
    },
    {
     "name": "stdout",
     "output_type": "stream",
     "text": [
      "Accuracy Score:  0.8874133949191686\n"
     ]
    }
   ],
   "source": [
    "# Celda 7\n",
    "from sklearn.model_selection import RandomizedSearchCV\n",
    "\n",
    "params = {\n",
    " \"learning_rate\" : [0.01, 0.02, 0.03, 0.04, 0.05, 0.06, 0.07, 0.08, 0.09, 0.10, 0.15, 0.25],\n",
    " \"gamma\": [ 0.0, 0.1, 0.2, 0.3, 0.4, 0.45, 0.5, 0.6],\n",
    " \"colsample_bytree\" : [ 0.2, 0.25, 0.3, 0.35, 0.4, 0.5, 0.7]\n",
    "}\n",
    "\n",
    "clf_tun = XGBClassifier()\n",
    "\n",
    "tun_XGB=RandomizedSearchCV(clf_tun,param_distributions=params,n_iter=15,scoring='roc_auc',n_jobs=-1,cv=5,\n",
    "                           verbose=2, random_state=1)\n",
    "\n",
    "tun_XGB.fit(X_train, y_train,eval_metric='logloss')\n",
    "\n",
    "display(tun_XGB.best_estimator_)\n",
    "\n",
    "best_XGB=tun_XGB.best_estimator_\n",
    "\n",
    "y_pred = best_XGB.predict(X_test)\n",
    "\n",
    "Acc_XGB_cal=metrics.accuracy_score(y_pred, y_test.values)\n",
    "\n",
    "print(\"Accuracy Score: \", Acc_XGB_cal)"
   ]
  },
  {
   "cell_type": "markdown",
   "metadata": {
    "cell_id": "0d775e5164bc4b44a67a842eacb13d3d",
    "deepnote_cell_height": 250.796875,
    "deepnote_cell_type": "markdown",
    "tags": []
   },
   "source": [
    "#### Comentarios sobre los resultados\n",
    "\n",
    "Para realizar la calibración se utilizó el método RandomizedSearchCV, en donde se realizaron varias iteraciones, ajustando cada vez el rango de valores que se querían probar, llegando finalmente a tener un ajuste fino. Esto se realizó con cada los tres parámetros al tiempo, en cada iteración. \n",
    "\n",
    "Luego se pasan estos tres parámetros al modelo para entrenarlo y realizar la predicción.\n",
    "\n",
    "Se observa que luego de haber calibrado los tres parámetros max_depth, max_features y n_estimators, el accuracy incrementó desde 0.8857 a 0.8874, lo cual, aunque es una mejora poco significativa, resulta en un desempeño cercano al mejor obtenido hasta el momento."
   ]
  },
  {
   "cell_type": "markdown",
   "metadata": {
    "cell_id": "00021-69fe9789-329e-4d23-93c7-612d06445770",
    "deepnote_cell_height": 122.796875,
    "deepnote_cell_type": "markdown"
   },
   "source": [
    "### Punto 8 - Comparación y análisis de resultados\n",
    "En la celda 8 comparen los resultados obtenidos de los diferentes modelos (random forest y XGBoost) y comenten las ventajas del mejor modelo y las desventajas del modelo con el menor desempeño."
   ]
  },
  {
   "cell_type": "code",
   "execution_count": 16,
   "metadata": {
    "cell_id": "00022-463f8f10-2c3b-44b8-a00b-8dbade23891c",
    "deepnote_cell_height": 758,
    "deepnote_cell_type": "code",
    "deepnote_output_heights": [
     337
    ],
    "deepnote_to_be_reexecuted": false,
    "execution_millis": 579,
    "execution_start": 1650248937739,
    "source_hash": "72482c91"
   },
   "outputs": [
    {
     "data": {
      "image/png": "[encoded data removed]",
      "text/plain": [
       "<Figure size 432x288 with 1 Axes>"
      ]
     },
     "metadata": {
      "needs_background": "light"
     },
     "output_type": "display_data"
    }
   ],
   "source": [
    "# Celda 8\n",
    "Acc_RF\n",
    "Acc_RF_Cal\n",
    "Acc_XGB\n",
    "Acc_XGB_cal\n",
    "\n",
    "#Comparacion de modelos \n",
    "fig = plt.figure()\n",
    "ax = fig.add_axes([0,0,1,1])\n",
    "ax.set_title(\"Comparación de modelos\")\n",
    "ejeX = ['RF','RF+cal','XGB','XGB+cal']\n",
    "ejeY = [round(Acc_RF,4), round(Acc_RF_Cal,4), round(Acc_XGB,4), round(Acc_XGB_cal,4)]     \n",
    "ax.bar(ejeX,ejeY,color=['Coral','PaleGreen','Coral','Coral'])    #color='Coral'\n",
    "def addlabels(x,y,plotP):\n",
    "    for i in range(len(x)):\n",
    "        plotP.text(i,y[i],y[i],ha='center')\n",
    "addlabels(ejeX,ejeY,plt)\n",
    "plt.ylabel(\"Accuracy Obtenido\")\n",
    "plt.show()"
   ]
  },
  {
   "cell_type": "markdown",
   "metadata": {
    "cell_id": "8efa80316f264b0497c62e7146ede8bf",
    "deepnote_cell_height": 766.796875,
    "deepnote_cell_type": "markdown",
    "owner_user_id": "3961678a-23a3-41e9-8e1a-f0daac2baeb0",
    "tags": []
   },
   "source": [
    "#### Conclusiones\n",
    "\n",
    "En la gráfica se comparan los valores obtenidos del Accuracy para cada modelo. De izquierda a derecha tenemos: \n",
    "Random Forest sin calibrar con 0.8805, Random Forest calibrado con 0.8877, Extreme Gradient Boosting sin calibrar con 0.8857 y finalmente, el modelo con mejor desempeño resaltado en color verde, el Extreme Gradient Boosting calibrado con 0.8874.\n",
    "\n",
    "Estos valores fueron obtenidos haciendo las predicciones en Xtest y comparándolo con los datos de YTest.\n",
    "\n",
    "El modelo con el mejor desempeño fue Random Forest calibrado y el de menor desempeño fue Random Forest sin calibrar. No obstante, todos los modelos tienen un accuracy muy similar, con diferencias entre sí de menos del 1%. Un punto importante a destacar es que, a diferencia del XGB, los parámetros del Random Forest no fueron calibrados simultaneamente y aún así este modelo obtuvo un desempeño superior al de XGB, por lo que es posible que, al encontrar el óptimo real de Random Forest, su desempeño sea incluso mejor, aunque la diferencia porbablemente será marginal. Observamos entonces que ambas técnicas de agregación producen muy buenos resultados.\n",
    "\n",
    "El modelo Random Forest tiene como ventaja que tiene una estructura más simple que XGB y es más fácil de comprender y calibrar, si bien la calibración puede ser computacionalmente más demandante."
   ]
  }
 ],
 "metadata": {
  "deepnote": {},
  "deepnote_execution_queue": [],
  "deepnote_notebook_id": "86a973b1-0f79-45c2-800c-bb4d9396bf48",
  "kernelspec": {
   "display_name": "Python 3 (ipykernel)",
   "language": "python",
   "name": "python3"
  },
  "language_info": {
   "codemirror_mode": {
    "name": "ipython",
    "version": 3
   },
   "file_extension": ".py",
   "mimetype": "text/x-python",
   "name": "python",
   "nbconvert_exporter": "python",
   "pygments_lexer": "ipython3",
   "version": "3.9.7"
  }
 },
 "nbformat": 4,
 "nbformat_minor": 4
}
