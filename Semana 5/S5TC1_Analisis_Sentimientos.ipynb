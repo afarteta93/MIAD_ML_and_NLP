{
 "cells": [
  {
   "cell_type": "markdown",
   "metadata": {},
   "source": [
    "![image info](https://raw.githubusercontent.com/albahnsen/MIAD_ML_and_NLP/main/images/banner_1.png)"
   ]
  },
  {
   "cell_type": "markdown",
   "metadata": {},
   "source": [
    "# Taller: Análisis de sentimientos y técnicas de NLP\n",
    "\n",
    "En este taller podrán poner en práctica sus conocimientos sobre las diferentes técnicas para el procesamiento de lenguaje natural. El taller está constituido por 5 puntos, en los cuales deberan seguir las intrucciones de cada numeral para su desarrollo."
   ]
  },
  {
   "cell_type": "markdown",
   "metadata": {},
   "source": [
    "## Datos predicción sentimientos de viajeros en Twitter\n",
    "\n",
    "En este taller se usará el conjunto de datos de sentimientos sobre distintas aerolíneas de EE.UU. provenientes de Twitter. Cada observación contiene si el sentimiento de los tweets es positivo, neutral o negativo teniendo en cuenta distintas variables como aerolínea y las razones de los sentimientos negativos (como \"retraso en el vuelo\" o \"servicio grosero\"). El objetivo es predecir el sentimiento asociado a cada tweet. Para más detalles pueden visitar el siguiente enlace: [datos](https://www.kaggle.com/crowdflower/twitter-airline-sentiment)."
   ]
  },
  {
   "cell_type": "code",
   "execution_count": 1,
   "metadata": {},
   "outputs": [],
   "source": [
    "import warnings\n",
    "warnings.filterwarnings('ignore')"
   ]
  },
  {
   "cell_type": "code",
   "execution_count": 2,
   "metadata": {},
   "outputs": [],
   "source": [
    "# Importación de librerías\n",
    "import pandas as pd\n",
    "import numpy as np\n",
    "%matplotlib inline\n",
    "import matplotlib.pyplot as plt"
   ]
  },
  {
   "cell_type": "code",
   "execution_count": 3,
   "metadata": {},
   "outputs": [
    {
     "data": {
      "text/html": [
       "<div>\n",
       "<style scoped>\n",
       "    .dataframe tbody tr th:only-of-type {\n",
       "        vertical-align: middle;\n",
       "    }\n",
       "\n",
       "    .dataframe tbody tr th {\n",
       "        vertical-align: top;\n",
       "    }\n",
       "\n",
       "    .dataframe thead th {\n",
       "        text-align: right;\n",
       "    }\n",
       "</style>\n",
       "<table border=\"1\" class=\"dataframe\">\n",
       "  <thead>\n",
       "    <tr style=\"text-align: right;\">\n",
       "      <th></th>\n",
       "      <th>airline_sentiment</th>\n",
       "      <th>airline_sentiment_confidence</th>\n",
       "      <th>negativereason</th>\n",
       "      <th>negativereason_confidence</th>\n",
       "      <th>airline</th>\n",
       "      <th>airline_sentiment_gold</th>\n",
       "      <th>name</th>\n",
       "      <th>negativereason_gold</th>\n",
       "      <th>retweet_count</th>\n",
       "      <th>text</th>\n",
       "      <th>tweet_coord</th>\n",
       "      <th>tweet_created</th>\n",
       "      <th>tweet_location</th>\n",
       "      <th>user_timezone</th>\n",
       "    </tr>\n",
       "    <tr>\n",
       "      <th>tweet_id</th>\n",
       "      <th></th>\n",
       "      <th></th>\n",
       "      <th></th>\n",
       "      <th></th>\n",
       "      <th></th>\n",
       "      <th></th>\n",
       "      <th></th>\n",
       "      <th></th>\n",
       "      <th></th>\n",
       "      <th></th>\n",
       "      <th></th>\n",
       "      <th></th>\n",
       "      <th></th>\n",
       "      <th></th>\n",
       "    </tr>\n",
       "  </thead>\n",
       "  <tbody>\n",
       "    <tr>\n",
       "      <th>570306133677760513</th>\n",
       "      <td>neutral</td>\n",
       "      <td>1.0000</td>\n",
       "      <td>NaN</td>\n",
       "      <td>NaN</td>\n",
       "      <td>Virgin America</td>\n",
       "      <td>NaN</td>\n",
       "      <td>cairdin</td>\n",
       "      <td>NaN</td>\n",
       "      <td>0</td>\n",
       "      <td>@VirginAmerica What @dhepburn said.</td>\n",
       "      <td>NaN</td>\n",
       "      <td>2015-02-24 11:35:52 -0800</td>\n",
       "      <td>NaN</td>\n",
       "      <td>Eastern Time (US &amp; Canada)</td>\n",
       "    </tr>\n",
       "    <tr>\n",
       "      <th>570301130888122368</th>\n",
       "      <td>positive</td>\n",
       "      <td>0.3486</td>\n",
       "      <td>NaN</td>\n",
       "      <td>0.0000</td>\n",
       "      <td>Virgin America</td>\n",
       "      <td>NaN</td>\n",
       "      <td>jnardino</td>\n",
       "      <td>NaN</td>\n",
       "      <td>0</td>\n",
       "      <td>@VirginAmerica plus you've added commercials t...</td>\n",
       "      <td>NaN</td>\n",
       "      <td>2015-02-24 11:15:59 -0800</td>\n",
       "      <td>NaN</td>\n",
       "      <td>Pacific Time (US &amp; Canada)</td>\n",
       "    </tr>\n",
       "    <tr>\n",
       "      <th>570301083672813571</th>\n",
       "      <td>neutral</td>\n",
       "      <td>0.6837</td>\n",
       "      <td>NaN</td>\n",
       "      <td>NaN</td>\n",
       "      <td>Virgin America</td>\n",
       "      <td>NaN</td>\n",
       "      <td>yvonnalynn</td>\n",
       "      <td>NaN</td>\n",
       "      <td>0</td>\n",
       "      <td>@VirginAmerica I didn't today... Must mean I n...</td>\n",
       "      <td>NaN</td>\n",
       "      <td>2015-02-24 11:15:48 -0800</td>\n",
       "      <td>Lets Play</td>\n",
       "      <td>Central Time (US &amp; Canada)</td>\n",
       "    </tr>\n",
       "    <tr>\n",
       "      <th>570301031407624196</th>\n",
       "      <td>negative</td>\n",
       "      <td>1.0000</td>\n",
       "      <td>Bad Flight</td>\n",
       "      <td>0.7033</td>\n",
       "      <td>Virgin America</td>\n",
       "      <td>NaN</td>\n",
       "      <td>jnardino</td>\n",
       "      <td>NaN</td>\n",
       "      <td>0</td>\n",
       "      <td>@VirginAmerica it's really aggressive to blast...</td>\n",
       "      <td>NaN</td>\n",
       "      <td>2015-02-24 11:15:36 -0800</td>\n",
       "      <td>NaN</td>\n",
       "      <td>Pacific Time (US &amp; Canada)</td>\n",
       "    </tr>\n",
       "    <tr>\n",
       "      <th>570300817074462722</th>\n",
       "      <td>negative</td>\n",
       "      <td>1.0000</td>\n",
       "      <td>Can't Tell</td>\n",
       "      <td>1.0000</td>\n",
       "      <td>Virgin America</td>\n",
       "      <td>NaN</td>\n",
       "      <td>jnardino</td>\n",
       "      <td>NaN</td>\n",
       "      <td>0</td>\n",
       "      <td>@VirginAmerica and it's a really big bad thing...</td>\n",
       "      <td>NaN</td>\n",
       "      <td>2015-02-24 11:14:45 -0800</td>\n",
       "      <td>NaN</td>\n",
       "      <td>Pacific Time (US &amp; Canada)</td>\n",
       "    </tr>\n",
       "  </tbody>\n",
       "</table>\n",
       "</div>"
      ],
      "text/plain": [
       "                   airline_sentiment  airline_sentiment_confidence  \\\n",
       "tweet_id                                                             \n",
       "570306133677760513           neutral                        1.0000   \n",
       "570301130888122368          positive                        0.3486   \n",
       "570301083672813571           neutral                        0.6837   \n",
       "570301031407624196          negative                        1.0000   \n",
       "570300817074462722          negative                        1.0000   \n",
       "\n",
       "                   negativereason  negativereason_confidence         airline  \\\n",
       "tweet_id                                                                       \n",
       "570306133677760513            NaN                        NaN  Virgin America   \n",
       "570301130888122368            NaN                     0.0000  Virgin America   \n",
       "570301083672813571            NaN                        NaN  Virgin America   \n",
       "570301031407624196     Bad Flight                     0.7033  Virgin America   \n",
       "570300817074462722     Can't Tell                     1.0000  Virgin America   \n",
       "\n",
       "                   airline_sentiment_gold        name negativereason_gold  \\\n",
       "tweet_id                                                                    \n",
       "570306133677760513                    NaN     cairdin                 NaN   \n",
       "570301130888122368                    NaN    jnardino                 NaN   \n",
       "570301083672813571                    NaN  yvonnalynn                 NaN   \n",
       "570301031407624196                    NaN    jnardino                 NaN   \n",
       "570300817074462722                    NaN    jnardino                 NaN   \n",
       "\n",
       "                    retweet_count  \\\n",
       "tweet_id                            \n",
       "570306133677760513              0   \n",
       "570301130888122368              0   \n",
       "570301083672813571              0   \n",
       "570301031407624196              0   \n",
       "570300817074462722              0   \n",
       "\n",
       "                                                                 text  \\\n",
       "tweet_id                                                                \n",
       "570306133677760513                @VirginAmerica What @dhepburn said.   \n",
       "570301130888122368  @VirginAmerica plus you've added commercials t...   \n",
       "570301083672813571  @VirginAmerica I didn't today... Must mean I n...   \n",
       "570301031407624196  @VirginAmerica it's really aggressive to blast...   \n",
       "570300817074462722  @VirginAmerica and it's a really big bad thing...   \n",
       "\n",
       "                   tweet_coord              tweet_created tweet_location  \\\n",
       "tweet_id                                                                   \n",
       "570306133677760513         NaN  2015-02-24 11:35:52 -0800            NaN   \n",
       "570301130888122368         NaN  2015-02-24 11:15:59 -0800            NaN   \n",
       "570301083672813571         NaN  2015-02-24 11:15:48 -0800      Lets Play   \n",
       "570301031407624196         NaN  2015-02-24 11:15:36 -0800            NaN   \n",
       "570300817074462722         NaN  2015-02-24 11:14:45 -0800            NaN   \n",
       "\n",
       "                                 user_timezone  \n",
       "tweet_id                                        \n",
       "570306133677760513  Eastern Time (US & Canada)  \n",
       "570301130888122368  Pacific Time (US & Canada)  \n",
       "570301083672813571  Central Time (US & Canada)  \n",
       "570301031407624196  Pacific Time (US & Canada)  \n",
       "570300817074462722  Pacific Time (US & Canada)  "
      ]
     },
     "execution_count": 3,
     "metadata": {},
     "output_type": "execute_result"
    }
   ],
   "source": [
    "# Lectura de la información de archivo .zip\n",
    "tweets = pd.read_csv('https://raw.githubusercontent.com/albahnsen/MIAD_ML_and_NLP/main/datasets/Tweets.zip', index_col=0)\n",
    "\n",
    "# Visualización dataset\n",
    "tweets.head()"
   ]
  },
  {
   "cell_type": "code",
   "execution_count": 4,
   "metadata": {},
   "outputs": [
    {
     "data": {
      "text/plain": [
       "(14640, 14)"
      ]
     },
     "execution_count": 4,
     "metadata": {},
     "output_type": "execute_result"
    }
   ],
   "source": [
    "# Impresión tamaño del cojunto de datos\n",
    "tweets.shape"
   ]
  },
  {
   "cell_type": "markdown",
   "metadata": {},
   "source": [
    "### Análisis descriptivo"
   ]
  },
  {
   "cell_type": "code",
   "execution_count": 5,
   "metadata": {},
   "outputs": [
    {
     "data": {
      "text/plain": [
       "negative    9178\n",
       "neutral     3099\n",
       "positive    2363\n",
       "Name: airline_sentiment, dtype: int64"
      ]
     },
     "execution_count": 5,
     "metadata": {},
     "output_type": "execute_result"
    }
   ],
   "source": [
    "# Cuenta de tweets por cada sentimiento\n",
    "tweets['airline_sentiment'].value_counts()"
   ]
  },
  {
   "cell_type": "code",
   "execution_count": 6,
   "metadata": {},
   "outputs": [
    {
     "data": {
      "text/plain": [
       "United            3822\n",
       "US Airways        2913\n",
       "American          2759\n",
       "Southwest         2420\n",
       "Delta             2222\n",
       "Virgin America     504\n",
       "Name: airline, dtype: int64"
      ]
     },
     "execution_count": 6,
     "metadata": {},
     "output_type": "execute_result"
    }
   ],
   "source": [
    "# Cuenta de tweets por cada aerolínea\n",
    "tweets['airline'].value_counts()"
   ]
  },
  {
   "cell_type": "code",
   "execution_count": 7,
   "metadata": {},
   "outputs": [
    {
     "data": {
      "text/plain": [
       "<AxesSubplot:title={'center':'Sentiminetos por aerolínea'}, xlabel='airline'>"
      ]
     },
     "execution_count": 7,
     "metadata": {},
     "output_type": "execute_result"
    },
    {
     "data": {
      "image/png": "[encoded data removed]",
      "text/plain": [
       "<Figure size 720x432 with 1 Axes>"
      ]
     },
     "metadata": {
      "needs_background": "light"
     },
     "output_type": "display_data"
    }
   ],
   "source": [
    "# Plot con cuenta de tweets por cada aerolínea y sentimiento\n",
    "pd.crosstab(index = tweets[\"airline\"],columns = tweets[\"airline_sentiment\"]).plot(kind='bar',figsize=(10, 6),alpha=0.5,rot=0,stacked=True,title=\"Sentiminetos por aerolínea\")"
   ]
  },
  {
   "cell_type": "markdown",
   "metadata": {},
   "source": [
    "### Liberias y Variables de interés y predicción"
   ]
  },
  {
   "cell_type": "code",
   "execution_count": 8,
   "metadata": {},
   "outputs": [],
   "source": [
    "from sklearn.model_selection import train_test_split, cross_val_score\n",
    "from sklearn.feature_extraction.text import CountVectorizer, TfidfVectorizer\n",
    "from sklearn.ensemble import RandomForestClassifier\n",
    "from nltk.stem.snowball import SnowballStemmer\n",
    "from nltk.stem import WordNetLemmatizer"
   ]
  },
  {
   "cell_type": "code",
   "execution_count": 9,
   "metadata": {},
   "outputs": [],
   "source": [
    "# Separación de variables predictoras (X) y de variable de interés (y)\n",
    "X = tweets['text']\n",
    "y = tweets['airline_sentiment'].map({'negative':-1,'neutral':0,'positive':1})"
   ]
  },
  {
   "cell_type": "code",
   "execution_count": 10,
   "metadata": {},
   "outputs": [],
   "source": [
    "# Separación de datos en set de entrenamiento y test\n",
    "X_train, X_test, y_train, y_test = train_test_split(X, y, test_size=0.33, random_state=42)"
   ]
  },
  {
   "cell_type": "markdown",
   "metadata": {},
   "source": [
    "### Punto 1 - Uso de CountVectorizer\n",
    "\n",
    "En la celda 1 creen un modelo de random forest con la libreria sklearn que prediga el sentimiento de los tweets usando los set de entrenamiento y test definidos anteriormente. Usen la función **CountVectorizer** y presenten el desempeño del modelo con la métrica del acurracy.\n",
    "\n",
    "Recuerden que el preprocesamiento que se haga sobre los datos de entrenamiento  (*.fit_transform()*) deben ser aplicado al set de test (*.transform()*)."
   ]
  },
  {
   "cell_type": "code",
   "execution_count": 11,
   "metadata": {},
   "outputs": [
    {
     "name": "stdout",
     "output_type": "stream",
     "text": [
      "Reporte de desempeño del modelo\n",
      "              precision    recall  f1-score   support\n",
      "\n",
      "          -1       0.78      0.96      0.86      3085\n",
      "           0       0.69      0.41      0.51       984\n",
      "           1       0.84      0.47      0.60       763\n",
      "\n",
      "    accuracy                           0.77      4832\n",
      "   macro avg       0.77      0.61      0.66      4832\n",
      "weighted avg       0.77      0.77      0.75      4832\n",
      "\n",
      "Accuracy del modelo usando CountVectorizer: 0.7711092715231788\n"
     ]
    }
   ],
   "source": [
    "# Celda 1\n",
    "\n",
    "import re\n",
    "\n",
    "# Se crea el vectorizador\n",
    "\n",
    "vectorizer = CountVectorizer()\n",
    "\n",
    "# Se crean los vectores a partir del texto y el vectorizador\n",
    "\n",
    "X_traincv = vectorizer.fit_transform(X_train)\n",
    "\n",
    "# Se utiliza un modelo random forest de clasificación para entrenar el modelo y realizar las predicciones\n",
    "\n",
    "clf = RandomForestClassifier(random_state = 42)\n",
    "clf.fit(X_traincv, y_train)\n",
    "predictions=clf.predict(vectorizer.transform(X_test))\n",
    "\n",
    "# Se reporta el accuracy del modelo\n",
    "\n",
    "from sklearn.metrics import accuracy_score\n",
    "from sklearn.metrics import recall_score\n",
    "acc_1=accuracy_score(y_test, predictions)\n",
    "recall_1=recall_score(y_test, predictions, average='macro')\n",
    "\n",
    "from sklearn.metrics import classification_report\n",
    "print('Reporte de desempeño del modelo')\n",
    "print(classification_report(y_test, predictions))\n",
    "print('Accuracy del modelo usando CountVectorizer:', acc_1)"
   ]
  },
  {
   "cell_type": "markdown",
   "metadata": {},
   "source": [
    "#### Comentarios\n",
    "\n",
    "* El modelo logra predecir correctamente el 77,1% de los datos en test con su categoría correcta. Pero, al analizar el reporte de clasificación, evidenciamos que:\n",
    "    * En cuanto a la precisión, las clases predichas correctamente (de aquellas que fueron clasificadas para cada clase) es mayor para la clase 1. \n",
    "    * En cuanto al recall, el porcentaje de clases correctamente clasificadas como -1 (de las que son realmente -1) es superior al porcentaje para las clases 0 y 1. \n",
    "    * El recall de las clases 0 y 1 es bajo comparado con la clase -1 (que tiene más registros en la muestra de test)"
   ]
  },
  {
   "cell_type": "markdown",
   "metadata": {},
   "source": [
    "### Punto 2 - Eliminación de Stopwords\n",
    "\n",
    "En la celda 2 creen un modelo de random forest con la libreria sklearn que prediga el sentimiento de los tweets usando los set de entrenamiento y test definidos anteriormente. Usen la función CountVectorizer, **eliminen stopwords** y presenten el desempeño del modelo con la métrica del acurracy.\n",
    "\n",
    "Recuerden que el preprocesamiento que se haga sobre los datos de entrenamiento  (*.fit_transform()*) deben ser aplicado al set de test (*.transform()*)."
   ]
  },
  {
   "cell_type": "code",
   "execution_count": 12,
   "metadata": {},
   "outputs": [
    {
     "name": "stdout",
     "output_type": "stream",
     "text": [
      "Reporte de desempeño del modelo\n",
      "              precision    recall  f1-score   support\n",
      "\n",
      "          -1       0.82      0.89      0.85      3085\n",
      "           0       0.57      0.49      0.53       984\n",
      "           1       0.71      0.60      0.65       763\n",
      "\n",
      "    accuracy                           0.76      4832\n",
      "   macro avg       0.70      0.66      0.68      4832\n",
      "weighted avg       0.75      0.76      0.75      4832\n",
      "\n",
      "Accuracy del modelo eliminando stopwords: 0.761796357615894\n"
     ]
    }
   ],
   "source": [
    "# Celda 2\n",
    "\n",
    "# Se crea el vectorizador, con parámetro stop_words = 'english'\n",
    "\n",
    "vectorizer_2 = CountVectorizer(stop_words='english')\n",
    "\n",
    "# Se crean los vectores a partir del texto y el vectorizador\n",
    "\n",
    "X_traincv_2 = vectorizer_2.fit_transform(X_train)\n",
    "\n",
    "# Se utiliza un modelo random forest de clasificación para entrenar el modelo y realizar las predicciones\n",
    "\n",
    "clf.fit(X_traincv_2, y_train)\n",
    "predictions_2=clf.predict(vectorizer_2.transform(X_test))\n",
    "\n",
    "# Se reporta el accuracy del modelo\n",
    "\n",
    "acc_2=accuracy_score(y_test, predictions_2)\n",
    "recall_2=recall_score(y_test, predictions_2, average='macro')\n",
    "print('Reporte de desempeño del modelo')\n",
    "print(classification_report(y_test, predictions_2))\n",
    "print('Accuracy del modelo eliminando stopwords:', acc_2)"
   ]
  },
  {
   "cell_type": "markdown",
   "metadata": {},
   "source": [
    "#### Comentarios\n",
    "\n",
    "* Comparando esta predicción con el anterior punto, vemos que el accuracy disminuyó un poco, pero también evidenciamos que el recall para las clases 0 y 1 mejoró, haciendo al f1-score un poco mejor, respecto al modelo base.\n",
    "* Pese a lo anterior, vemos una disminución en la precisión de las dos ultimas clases y del recall para la primera.\n",
    "\n",
    "Nota: En el punto 5 se muestra un resumen de la comparación de modelos, por lo que el lector podrá contrastar el desempeño de cada uno más fácilemte al final de este documento."
   ]
  },
  {
   "cell_type": "markdown",
   "metadata": {},
   "source": [
    "### Punto 3 - Lematización con verbos\n",
    "\n",
    "En la celda 3 creen un modelo de random forest con la libreria sklearn que prediga el sentimiento de los tweets usando los set de entrenamiento y test definidos anteriormente. Usen la función CountVectorizer, **lematizen el texto con verbos** y presenten el desempeño del modelo con la métrica del acurracy.\n",
    "\n",
    "Recuerden que el preprocesamiento que se haga sobre los datos de entrenamiento  (*.fit_transform()*) deben ser aplicado al set de test (*.transform()*)."
   ]
  },
  {
   "cell_type": "code",
   "execution_count": 13,
   "metadata": {},
   "outputs": [
    {
     "name": "stderr",
     "output_type": "stream",
     "text": [
      "[nltk_data] Downloading package wordnet to\n",
      "[nltk_data]     C:\\Users\\pipes\\AppData\\Roaming\\nltk_data...\n",
      "[nltk_data]   Package wordnet is already up-to-date!\n",
      "[nltk_data] Downloading package punkt to\n",
      "[nltk_data]     C:\\Users\\pipes\\AppData\\Roaming\\nltk_data...\n",
      "[nltk_data]   Package punkt is already up-to-date!\n"
     ]
    },
    {
     "name": "stdout",
     "output_type": "stream",
     "text": [
      "Reporte de desempeño del modelo\n",
      "              precision    recall  f1-score   support\n",
      "\n",
      "          -1       0.78      0.96      0.86      3085\n",
      "           0       0.69      0.40      0.51       984\n",
      "           1       0.85      0.48      0.61       763\n",
      "\n",
      "    accuracy                           0.77      4832\n",
      "   macro avg       0.77      0.61      0.66      4832\n",
      "weighted avg       0.77      0.77      0.75      4832\n",
      "\n",
      "Accuracy del modelo usando lematización con verbos: 0.7725579470198676\n"
     ]
    }
   ],
   "source": [
    "# Celda 3\n",
    "\n",
    "wordnet_lemmatizer = WordNetLemmatizer()\n",
    "import nltk\n",
    "nltk.download('wordnet')\n",
    "nltk.download('punkt')\n",
    "\n",
    "# Definición de la función que tenga como parámetro texto y devuelva una lista de lemas\n",
    "\n",
    "def split_into_lemmas(text):\n",
    "    text = text.lower()                              # Se convierte el texto a minúsculas\n",
    "    text = re.sub(r'[^a-zA-Z0-9]+', ' ', text)       # Se dejan solo los caracteres alfanuméricos\n",
    "    tokens = nltk.word_tokenize(text)\n",
    "    return [wordnet_lemmatizer.lemmatize(token, pos='v') for token in tokens]\n",
    "\n",
    "# Creación de matrices de documentos usando CountVectorizer, usando como tokenizador la función 'split_into_lemmas'\n",
    "\n",
    "vect_lemas = CountVectorizer(tokenizer=split_into_lemmas)\n",
    "\n",
    "# Se crean los vectores a partir del texto y el vectorizador\n",
    "\n",
    "X_traincv_3 = vect_lemas.fit_transform(X_train)\n",
    "\n",
    "# Se utiliza un modelo random forest de clasificación para entrenar el modelo y realizar las predicciones\n",
    "\n",
    "clf.fit(X_traincv_3, y_train)\n",
    "predictions_3=clf.predict(vect_lemas.transform(X_test))\n",
    "\n",
    "# Se reporta el accuracy del modelo\n",
    "\n",
    "acc_3=accuracy_score(y_test, predictions_3)\n",
    "recall_3=recall_score(y_test, predictions_3, average='macro')\n",
    "print('Reporte de desempeño del modelo')\n",
    "print(classification_report(y_test, predictions_3))\n",
    "print('Accuracy del modelo usando lematización con verbos:', acc_3)"
   ]
  },
  {
   "cell_type": "markdown",
   "metadata": {},
   "source": [
    "#### Comentarios\n",
    "\n",
    "* En este caso se ve una mejora ligera de accuracy con respecto al modelo base (de apenas 0,14%), explicada principalmente por una mejora en la precisión y el recall de la clase que contiene los comentarios positivos. No obstante, la mejora es tan marginal que es difícil sacar conclusiones al respecto."
   ]
  },
  {
   "cell_type": "markdown",
   "metadata": {},
   "source": [
    "### Punto 4 - Multiples técnicas\n",
    "\n",
    "En la celda 4 creen un modelo de random forest con la libreria sklearn que prediga el sentimiento de los tweets usando los set de entrenamiento y test definidos anteriormente. Usen la función **CountVectorizer, eliminen stopwords, lematizen el texto con verbos** y presenten el desempeño del modelo con la métrica del acurracy.\n",
    "\n",
    "Recuerden que el preprocesamiento que se haga sobre los datos de entrenamiento  (*.fit_transform()*) deben ser aplicado al set de test (*.transform()*)."
   ]
  },
  {
   "cell_type": "code",
   "execution_count": 14,
   "metadata": {},
   "outputs": [
    {
     "name": "stdout",
     "output_type": "stream",
     "text": [
      "Reporte de desempeño del modelo\n",
      "              precision    recall  f1-score   support\n",
      "\n",
      "          -1       0.82      0.90      0.85      3085\n",
      "           0       0.59      0.47      0.52       984\n",
      "           1       0.73      0.61      0.66       763\n",
      "\n",
      "    accuracy                           0.77      4832\n",
      "   macro avg       0.71      0.66      0.68      4832\n",
      "weighted avg       0.75      0.77      0.76      4832\n",
      "\n",
      "Accuracy del modelo eliminando stopwrods y usando lematización con verbos: 0.7659354304635762\n"
     ]
    }
   ],
   "source": [
    "# Celda 4\n",
    "\n",
    "# Creación de matrices de documentos usando CountVectorizer, usando como tokenizador la función 'split_into_lemmas' y\n",
    "# con parámetro stop_words = 'english'\n",
    "\n",
    "vect_lemas_2 = CountVectorizer(tokenizer=split_into_lemmas, stop_words='english')\n",
    "\n",
    "# Se crean los vectores a partir del texto y el vectorizador\n",
    "\n",
    "X_traincv_4 = vect_lemas_2.fit_transform(X_train)\n",
    "\n",
    "# Se utiliza un modelo random forest de clasificación para entrenar el modelo y realizar las predicciones\n",
    "\n",
    "clf.fit(X_traincv_4, y_train)\n",
    "predictions_4=clf.predict(vect_lemas_2.transform(X_test))\n",
    "\n",
    "# Se reporta el accuracy del modelo\n",
    "\n",
    "acc_4=accuracy_score(y_test, predictions_4)\n",
    "recall_4=recall_score(y_test, predictions_4, average='macro')\n",
    "print('Reporte de desempeño del modelo')\n",
    "print(classification_report(y_test, predictions_4))\n",
    "print('Accuracy del modelo eliminando stopwrods y usando lematización con verbos:', acc_4)"
   ]
  },
  {
   "cell_type": "markdown",
   "metadata": {},
   "source": [
    "#### Comentarios\n",
    "\n",
    "* Al igual que para el modelo en que se eliminaban stopwords únicamente, este modelo reduce el accuracy respecto al modelo base, debido principalmente a una disminución en el recall de comentarios negativos.\n",
    "* No obstante, el proceso de lematización logra mejorar marginalmente el desempeño con respecto al modelo que solo eliminaba stopwords sin aplicar lematización."
   ]
  },
  {
   "cell_type": "markdown",
   "metadata": {},
   "source": [
    "### Punto 5 - Comparación y análisis de resultados\n",
    "\n",
    "En la celda 5 comparen los resultados obtenidos de los diferentes modelos (random forest) y comenten las ventajas del mejor modelo y las desventajas del modelo con el menor desempeño."
   ]
  },
  {
   "cell_type": "code",
   "execution_count": 15,
   "metadata": {},
   "outputs": [
    {
     "name": "stdout",
     "output_type": "stream",
     "text": [
      "Comparación por Accuracy de los 4 modelos\n"
     ]
    },
    {
     "data": {
      "image/png": "[encoded data removed]",
      "text/plain": [
       "<Figure size 432x288 with 1 Axes>"
      ]
     },
     "metadata": {
      "needs_background": "light"
     },
     "output_type": "display_data"
    }
   ],
   "source": [
    "# Celda 5\n",
    "\n",
    "print('Comparación por Accuracy de los 4 modelos')\n",
    "\n",
    "fig = plt.figure()\n",
    "ax = fig.add_axes([0,0,1,1])\n",
    "ax.set_title(\"Comparación de modelos\")\n",
    "ejeX = ['Base', 'StopWords', 'Lematización', 'Lema+StopW']\n",
    "ejeY = [round(acc_1, 3), round(acc_2, 3), round(acc_3, 3), round(acc_4, 3)]\n",
    "ax.bar(ejeX,ejeY)\n",
    "\n",
    "def addlabels(x,y,plotP):\n",
    "    for i in range(len(x)):\n",
    "        plotP.text(i,y[i],y[i],ha='center')\n",
    "        \n",
    "addlabels(ejeX,ejeY,plt)\n",
    "\n",
    "plt.show()"
   ]
  },
  {
   "cell_type": "markdown",
   "metadata": {},
   "source": [
    "### Conclusiones\n",
    "\n",
    "- En este caso, la eliminación de stopwords y la lematización no logran mejorar significativamente el desempeño del modelo de clasificación, incluso, aquellos que eliminan stopwords empeoran el desempeño. El modelo con mejor desempeño es el que utiliza únicamente lematización (sin eliminación de stopwords). No obstante, la mejora en el accuracy sobre el modelo base es de apenas 0,14%.\n",
    "- A continuación se exhibe una muestra de tokens para los 4 vectorizadores utilizados, que puede ayudar a entender los resultados:"
   ]
  },
  {
   "cell_type": "code",
   "execution_count": 16,
   "metadata": {},
   "outputs": [
    {
     "name": "stdout",
     "output_type": "stream",
     "text": [
      "Muestra de vocabulario para vector base:\n",
      " ['jetblue', 'of', 'course', 'am', 'americanair', 'complt', 'incompetence', 'on', 'flt', '295']\n",
      "Muestra de vocabulario para vector sin stopwords:\n",
      " ['jetblue', 'course', 'americanair', 'complt', 'incompetence', 'flt', '295', 'lav', 'delay', 'pln']\n",
      "Muestra de vocabulario para vector lematizado:\n",
      " ['jetblue', 'of', 'course', 'i', 'be', 'americanair', 'complt', 'incompetence', 'on', 'flt']\n",
      "Muestra de vocabulario para vector lematizado y sin stopwords:\n",
      " ['jetblue', 'course', 'americanair', 'complt', 'incompetence', 'flt', '295', 'lav', 'delay', 'pln']\n"
     ]
    }
   ],
   "source": [
    "print('Muestra de tokens para vector base:\\n', list(vectorizer.vocabulary_.keys())[:10])\n",
    "print('Muestra de tokens para vector sin stopwords:\\n', list(vectorizer_2.vocabulary_.keys())[:10])\n",
    "print('Muestra de tokens para vector lematizado:\\n', list(vect_lemas.vocabulary_.keys())[:10])\n",
    "print('Muestra de tokens para vector lematizado y sin stopwords:\\n', list(vect_lemas_2.vocabulary_.keys())[:10])"
   ]
  },
  {
   "cell_type": "markdown",
   "metadata": {},
   "source": [
    "- Como se observa en la celda anterior, varios de los tokens obtenidos al vectorizar los textos corresponden a deformaciones de palabras como 'complt: complete', 'flt:flight' o 'pln:plane', lo cual es comun en el texto corto limitado por twitter. Estas deformaciones no permiten al lematizador identificar correctamente los lemas de las palabras, lo cual podría estar limitando el beneficio potencial de su uso. Aunque no es evidente en la muestra de tokens anterior, lo mismo podría estar occuriendo para la eliminación de stopwords.\n",
    "- Al vectorizar el texto utilizando uni-gramas y utilizar eliminación de stopwords se pueden estar eliminando palabras que por sí solas pueden parecer palabras comunes que no aportan a la información del texto, pero que en conjunto con otras palabras, pueden cambiar el significado de una oración. Lo anterior es especialmente relevante en el idioma inglés, donde existen varias expresiones que se componen de dos o más palabras, como por ejemplo, la palabra 'of course'. En este caso, la palabra 'of' es eliminada como un stopword y cambia el contexto de la expresión 'of course = por supuesto' por 'course = curso'.\n",
    "- Con el fin de hacer los tokens de los modelos no base más reducidos que el modelo base, se programo al lematizador, al igual que el tokenizador por defecto del CountVectorizer, para que preservara solamente los caracteres alfanuméricos del texto, no obstante, esto puede tener una consecuencia inadvertida que es la eliminación de caracteres que representan emojis. Como veremos a continuación, si se utiliza un lematizador que no elimine estos caracteres, el desempeño de los modelos mejora, aunque todavía marginalmente. Es posible que lo anterior se deba a que los emojis y algunos caracteres especiales (como el signo de exclamación) contienen información valiosa sobre el sentimiento de un texto."
   ]
  },
  {
   "cell_type": "code",
   "execution_count": 17,
   "metadata": {},
   "outputs": [
    {
     "name": "stdout",
     "output_type": "stream",
     "text": [
      "Comparación por Accuracy de los 6 modelos\n"
     ]
    },
    {
     "data": {
      "image/png": "[encoded data removed]",
      "text/plain": [
       "<Figure size 432x288 with 1 Axes>"
      ]
     },
     "metadata": {
      "needs_background": "light"
     },
     "output_type": "display_data"
    },
    {
     "name": "stdout",
     "output_type": "stream",
     "text": [
      "Lema = Lematización, SW = StopWords, E = Emojis y caracteres especiales\n"
     ]
    }
   ],
   "source": [
    "# Definición de la función que tenga como parámetro texto y devuelva una lista de lemas (dejando carácteres especiales y emojis)\n",
    "def split_into_lemmas_no_cleaning(text):\n",
    "    text = text.lower()                              # Se convierte el texto a minúsculas\n",
    "    tokens = nltk.word_tokenize(text)\n",
    "    return [wordnet_lemmatizer.lemmatize(token, pos='v') for token in tokens]\n",
    "\n",
    "# Creación de matrices de documentos usando CountVectorizer, usando como tokenizador la función \n",
    "# 'split_into_lemmas_no_cleaning'\n",
    "\n",
    "vect_lemas_3 = CountVectorizer(tokenizer=split_into_lemmas_no_cleaning)\n",
    "\n",
    "# Se crean los vectores a partir del texto y el vectorizador\n",
    "\n",
    "X_traincv_5 = vect_lemas_3.fit_transform(X_train)\n",
    "\n",
    "# Se utiliza un modelo random forest de clasificación para entrenar el modelo y realizar las predicciones\n",
    "\n",
    "clf.fit(X_traincv_5, y_train)\n",
    "predictions_5=clf.predict(vect_lemas_3.transform(X_test))\n",
    "\n",
    "# Se reporta el accuracy del modelo\n",
    "\n",
    "acc_5=accuracy_score(y_test, predictions_5)\n",
    "\n",
    "# Creación de matrices de documentos usando CountVectorizer, usando como tokenizador la función \n",
    "# 'split_into_lemmas_no_cleaning' y con parámetro stop_words = 'english'\n",
    "\n",
    "vect_lemas_4 = CountVectorizer(tokenizer=split_into_lemmas_no_cleaning, stop_words='english')\n",
    "\n",
    "# Se crean los vectores a partir del texto y el vectorizador\n",
    "\n",
    "X_traincv_6 = vect_lemas_4.fit_transform(X_train)\n",
    "\n",
    "# Se utiliza un modelo random forest de clasificación para entrenar el modelo y realizar las predicciones\n",
    "\n",
    "clf.fit(X_traincv_6, y_train)\n",
    "predictions_6=clf.predict(vect_lemas_4.transform(X_test))\n",
    "\n",
    "# Se reporta el accuracy del modelo\n",
    "\n",
    "acc_6=accuracy_score(y_test, predictions_6)\n",
    "\n",
    "# Comparación de modelos\n",
    "\n",
    "print('Comparación por Accuracy de los 6 modelos')\n",
    "\n",
    "fig = plt.figure()\n",
    "ax = fig.add_axes([0,0,1,1])\n",
    "ax.set_title(\"Comparación de modelos\")\n",
    "ejeX = ['Base', 'SW', 'Lema', 'Lema+SW', 'Lema+E', 'Lema+SW+E']\n",
    "ejeY = [round(acc_1, 3), round(acc_2, 3), round(acc_3, 3), round(acc_4, 3), round(acc_5, 3), round(acc_6, 3)]\n",
    "ax.bar(ejeX,ejeY)\n",
    "\n",
    "def addlabels(x,y,plotP):\n",
    "    for i in range(len(x)):\n",
    "        plotP.text(i,y[i],y[i],ha='center')\n",
    "        \n",
    "addlabels(ejeX,ejeY,plt)\n",
    "\n",
    "plt.show()\n",
    "print('Lema = Lematización, SW = StopWords, E = Emojis y caracteres especiales')"
   ]
  },
  {
   "cell_type": "markdown",
   "metadata": {},
   "source": [
    "- Como observamos en la gráfica anterior, el mantener los caracteres especiales y emojis en el texto hace que mejore el desempeño del modelo con lematización y eliminación de stopwords. Este modelo logra un accuracy superior en aproximadamente 0,7% con respecto al modelo base, posiblemente indicando una interacción positiva entre la eliminación de stopwords y la no eliminación de emojis y caracteres especiales. \n",
    "- Como conclusión general observamos que por sí solas la eliminación de stopwords y la normalización de textos pueden ser herramientas no muy útiles en ciertos contextos; es necesario combinarlas con otras técnicas de procesamiento de texto para lograr obtener un beneficio significativo a través de ellas. Por ejemplo, el preprocesamiento de palabras deformadas ortográficamente, la utilización de n-gramas para derivar contexto y no eliminar paralabras que por sí solas pueden ser consideradas stopwords, entre otras."
   ]
  }
 ],
 "metadata": {
  "kernelspec": {
   "display_name": "Python 3",
   "language": "python",
   "name": "python3"
  },
  "language_info": {
   "codemirror_mode": {
    "name": "ipython",
    "version": 3
   },
   "file_extension": ".py",
   "mimetype": "text/x-python",
   "name": "python",
   "nbconvert_exporter": "python",
   "pygments_lexer": "ipython3",
   "version": "3.8.5"
  }
 },
 "nbformat": 4,
 "nbformat_minor": 2
}
