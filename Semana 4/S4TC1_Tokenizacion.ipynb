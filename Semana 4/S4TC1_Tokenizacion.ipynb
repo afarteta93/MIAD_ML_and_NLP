{
 "cells": [
  {
   "attachments": {},
   "cell_type": "markdown",
   "metadata": {},
   "source": [
    "![image info](https://raw.githubusercontent.com/albahnsen/MIAD_ML_and_NLP/main/images/banner_1.png)"
   ]
  },
  {
   "cell_type": "markdown",
   "metadata": {},
   "source": [
    "# Taller: Tokenización de textos  \n",
    "\n",
    "En este taller podrán poner en práctica sus conocimientos sobre preprocesamiento de texto (tokenización). El taller está constituido por 5 puntos, en los cuales deberan seguir las intrucciones de cada numeral para su desarrollo."
   ]
  },
  {
   "cell_type": "markdown",
   "metadata": {},
   "source": [
    "## Datos detección de toxicidad en comentarios\n",
    "\n",
    "En este taller se usará el conjunto de datos de detección de toxicidad en comentarios de la base de datos de Kaggle. Cada observación es un comentario que tiene como variable objetivo (target) la probabilidad de ser un comentario tóxico. El objetivo es predecir la toxicidad de cada comentario. Para más detalles pueden visitar el siguiente enlace: [datos](https://www.kaggle.com/c/jigsaw-unintended-bias-in-toxicity-classification/data)."
   ]
  },
  {
   "cell_type": "code",
   "execution_count": 1,
   "metadata": {},
   "outputs": [],
   "source": [
    "import warnings\n",
    "warnings.filterwarnings('ignore')"
   ]
  },
  {
   "cell_type": "code",
   "execution_count": 2,
   "metadata": {},
   "outputs": [],
   "source": [
    "# Importación librerías\n",
    "import pandas as pd\n",
    "import numpy as np\n",
    "import scipy as sp\n",
    "from sklearn.model_selection import train_test_split, cross_val_score\n",
    "from sklearn.feature_extraction.text import CountVectorizer, TfidfVectorizer\n",
    "from sklearn import metrics\n",
    "%matplotlib inline"
   ]
  },
  {
   "cell_type": "code",
   "execution_count": 3,
   "metadata": {},
   "outputs": [
    {
     "data": {
      "text/html": [
       "<div>\n",
       "<style scoped>\n",
       "    .dataframe tbody tr th:only-of-type {\n",
       "        vertical-align: middle;\n",
       "    }\n",
       "\n",
       "    .dataframe tbody tr th {\n",
       "        vertical-align: top;\n",
       "    }\n",
       "\n",
       "    .dataframe thead th {\n",
       "        text-align: right;\n",
       "    }\n",
       "</style>\n",
       "<table border=\"1\" class=\"dataframe\">\n",
       "  <thead>\n",
       "    <tr style=\"text-align: right;\">\n",
       "      <th></th>\n",
       "      <th>id</th>\n",
       "      <th>comment_text</th>\n",
       "      <th>target</th>\n",
       "    </tr>\n",
       "  </thead>\n",
       "  <tbody>\n",
       "    <tr>\n",
       "      <th>0</th>\n",
       "      <td>6101457</td>\n",
       "      <td>What are you talking about? What group do Pete...</td>\n",
       "      <td>0.0</td>\n",
       "    </tr>\n",
       "    <tr>\n",
       "      <th>1</th>\n",
       "      <td>5342103</td>\n",
       "      <td>NO!, Let him, we need a Conservative government.</td>\n",
       "      <td>0.0</td>\n",
       "    </tr>\n",
       "    <tr>\n",
       "      <th>2</th>\n",
       "      <td>743361</td>\n",
       "      <td>Perhaps he took the \"power out of the Cardinal...</td>\n",
       "      <td>0.2</td>\n",
       "    </tr>\n",
       "    <tr>\n",
       "      <th>3</th>\n",
       "      <td>551008</td>\n",
       "      <td>As always, yours is dripping with sarcasm, whi...</td>\n",
       "      <td>0.0</td>\n",
       "    </tr>\n",
       "    <tr>\n",
       "      <th>4</th>\n",
       "      <td>865998</td>\n",
       "      <td>The dirty little secret is that the price rang...</td>\n",
       "      <td>0.3</td>\n",
       "    </tr>\n",
       "  </tbody>\n",
       "</table>\n",
       "</div>"
      ],
      "text/plain": [
       "        id                                       comment_text  target\n",
       "0  6101457  What are you talking about? What group do Pete...     0.0\n",
       "1  5342103   NO!, Let him, we need a Conservative government.     0.0\n",
       "2   743361  Perhaps he took the \"power out of the Cardinal...     0.2\n",
       "3   551008  As always, yours is dripping with sarcasm, whi...     0.0\n",
       "4   865998  The dirty little secret is that the price rang...     0.3"
      ]
     },
     "execution_count": 3,
     "metadata": {},
     "output_type": "execute_result"
    }
   ],
   "source": [
    "# Carga de datos de archivos .csv\n",
    "df = pd.read_csv('https://raw.githubusercontent.com/albahnsen/MIAD_ML_and_NLP/main/datasets/Toxicity.zip')\n",
    "df = df[['id','comment_text', 'target']]\n",
    "df.head()"
   ]
  },
  {
   "cell_type": "code",
   "execution_count": 4,
   "metadata": {},
   "outputs": [
    {
     "data": {
      "text/plain": [
       "<AxesSubplot:>"
      ]
     },
     "execution_count": 4,
     "metadata": {},
     "output_type": "execute_result"
    },
    {
     "data": {
      "image/png": "[encoded data removed]",
      "text/plain": [
       "<Figure size 432x288 with 1 Axes>"
      ]
     },
     "metadata": {
      "needs_background": "light"
     },
     "output_type": "display_data"
    }
   ],
   "source": [
    "# Impresión histograma de variable de interés (y)\n",
    "df.target.hist()"
   ]
  },
  {
   "cell_type": "code",
   "execution_count": 5,
   "metadata": {},
   "outputs": [
    {
     "data": {
      "text/plain": [
       "count    541462.000000\n",
       "mean          0.102991\n",
       "std           0.196979\n",
       "min           0.000000\n",
       "25%           0.000000\n",
       "50%           0.000000\n",
       "75%           0.166667\n",
       "max           1.000000\n",
       "Name: target, dtype: float64"
      ]
     },
     "execution_count": 5,
     "metadata": {},
     "output_type": "execute_result"
    }
   ],
   "source": [
    "# Separación de variable de interés (y)\n",
    "y = df.target\n",
    "y.describe()"
   ]
  },
  {
   "cell_type": "code",
   "execution_count": 6,
   "metadata": {},
   "outputs": [],
   "source": [
    "# Separación de variables predictoras (X), solo se considera el texto de la noticia\n",
    "X = df.comment_text"
   ]
  },
  {
   "cell_type": "code",
   "execution_count": 7,
   "metadata": {},
   "outputs": [],
   "source": [
    "# Separación de datos en set de entrenamiento y test\n",
    "X_train, X_test, y_train, y_test = train_test_split(X, y, test_size=0.33, random_state=42)"
   ]
  },
  {
   "cell_type": "markdown",
   "metadata": {},
   "source": [
    "## Punto 1 - Tokenización con CountVectorizer\n",
    "\n",
    "En la celda 1 creen y entrenen el modelo de regresión de su preferencia, para que prediga la probabilidad de que un comentario sea tóxico, usando los set de entrenamiento y test definidos anteriormente. Usen la función **CountVectorizer** para preprocesar los comentarios y presenten el desempeño del modelo con la métrica del acurracy.\n",
    "\n",
    "Recuerden que el preprocesamiento que se haga sobre los datos de entrenamiento  (*.fit_transform()*) deben ser aplicado al set de test (*.transform()*)."
   ]
  },
  {
   "cell_type": "code",
   "execution_count": 8,
   "metadata": {},
   "outputs": [
    {
     "name": "stdout",
     "output_type": "stream",
     "text": [
      "0.07644538435968146\n"
     ]
    }
   ],
   "source": [
    "# Celda 1\n",
    "\n",
    "import re\n",
    "\n",
    "# Función que realiza el preprocesamiento de texto\n",
    "\n",
    "def preprocess_text(text):\n",
    "    \n",
    "    text = text.lower()                    # Se convierte el texto a minúsculas\n",
    "    text = re.sub(r'\\d+', '', text)        # Se eliminan los caracteres numéricos\n",
    "    return text\n",
    "\n",
    "# Se crea el vectorizador\n",
    "\n",
    "vectorizer = CountVectorizer(max_features=100, lowercase=False, preprocessor=preprocess_text)\n",
    "\n",
    "# Se crean los vectores a partir del texto y el vectorizador\n",
    "\n",
    "X_traincv = vectorizer.fit_transform(X_train).toarray()\n",
    "\n",
    "# Se utiliza un arbol de regresión para entrenar el modelo y realizar las predicciones\n",
    "\n",
    "from sklearn.tree import DecisionTreeRegressor\n",
    "regressor = DecisionTreeRegressor(random_state=0)\n",
    "regressor.fit(X_traincv, y_train)\n",
    "\n",
    "predictions = regressor.predict(vectorizer.transform(X_test))\n",
    "\n",
    "# Se reporta el error de predicción\n",
    "\n",
    "mse_1 = metrics.mean_squared_error(y_test, predictions)\n",
    "print(mse_1)"
   ]
  },
  {
   "cell_type": "markdown",
   "metadata": {},
   "source": [
    "## Punto 2 - Tokenización con CountVectorizer y trigramas\n",
    "\n",
    "En la celda 2 creen y entrenen el mismo modelo de regresión del punto anterior (es decir si usaron un RandomForestRegresor usen nuevamente ese regresor), para que prediga la probabilidad de que un comentario sea tóxico, usando los set de entrenamiento y test definidos anteriormente. Usen la función CountVectorizer **considerando trigramas** para preprocesar los comentarios y presenten el desempeño del modelo con la métrica del acurracy.\n",
    "\n",
    "Recuerden que el preprocesamiento que se haga sobre los datos de entrenamiento  (*.fit_transform()*) deben ser aplicado al set de test (*.transform()*)."
   ]
  },
  {
   "cell_type": "code",
   "execution_count": 9,
   "metadata": {},
   "outputs": [
    {
     "name": "stdout",
     "output_type": "stream",
     "text": [
      "0.04008904679990923\n"
     ]
    }
   ],
   "source": [
    "# Celda 2\n",
    "\n",
    "# Se crea el vectorizador, con los mismos par+ametros del vectorizador del punto anterior, pero incorporando el parámetro\n",
    "# n_gram_range = (3,3), para que solo se generen trigramas a partir del texto\n",
    "\n",
    "vectorizer_2 = CountVectorizer(max_features=100, lowercase=False, preprocessor=preprocess_text, ngram_range=(3, 3))\n",
    "\n",
    "# Se crean los vectores a partir del texto y el vectorizador con trigramas\n",
    "\n",
    "X_traincv_2 = vectorizer_2.fit_transform(X_train)\n",
    "\n",
    "# Se utiliza un arbol de regresión para entrenar el modelo y realizar las predicciones\n",
    "\n",
    "regressor.fit(X_traincv_2, y_train)\n",
    "predictions_2 = regressor.predict(vectorizer_2.transform(X_test))\n",
    "\n",
    "# Se reporta el error de predicción\n",
    "\n",
    "mse_2 = metrics.mean_squared_error(y_test, predictions_2)\n",
    "print(mse_2)"
   ]
  },
  {
   "cell_type": "markdown",
   "metadata": {},
   "source": [
    "## Punto 3 - TfidfVectorizer\n",
    "\n",
    "Investigen sobre la función TfidfVectorizer. En la celda de texto 3, expliquen en qué consiste esta técnica de tokenización (describanla y expliquen su funcionamiento) y cúales son las ventajas o deventajas de su uso al compararlo con la función CountVectorizer."
   ]
  },
  {
   "cell_type": "markdown",
   "metadata": {},
   "source": [
    "#Celda 3\n",
    "\n",
    "#### Descripción\n",
    "\n",
    "TF-IDF significa \"Term Frequency - Inverse Document Frequency\" por sus siglas en inglés o \"Frecuencia de términos - Frecuencia inversa de documentos\", traducido al español. \n",
    "\n",
    "Básicamente, es una técnica estadística que penaliza la frecuencia de un término o palabra en un documento por la abundancia con la cual dicha palabra aparece en el conjunto de documentos o corpus. Así, a diferencia de *Count Vectorizer*, el valor asignado a cada término no se limita solo a capturar la frecuencia con la cual aparece este en un documento, sino también qué tan único es el término dentro de todo el corpus.\n",
    "\n",
    "Así, a un término que aparece poco dentro de un documento, pero que únicamente aparece en ese documento, se le asignaría una importancia muy alta en el registro que contiene la información de ese documento en particular. Lo anterior bajo la lógica de que, al ser un término relativamente único dentro del corpus, puede contener información importante para diferenciar ese documento de los demás. Por ejemplo, en el caso que estamos analizando en este trabajo, se esperaría encontrar palabras ofensivas en pocos de los textos, por lo que la presencia de estas palabras en un texto podría ser un factor explicativo de su nivel de toxicidad.\n",
    "\n",
    "Por el contrario, a una palabra que aparezca mucho en un documento, pero que aparezca en casi todos los documentos, se le asignaría una importancia relativamente baja en todos los registros, pues es poco probable que ayude a diferenciar textos entre sí. Por ejemplo, pronombres o artículos que pueden aparecer multiples veces en la mayoría, si no en la totalidad, de los textos, es poco probable que ayuden a diferenciar los textos entre sí.\n",
    "\n",
    "La importancia más alta de un término para un registro se asignaría a términos que aparecen muchas veces en un documento (tienen un *term frequency* alto), pero aparecen en pocos documentos (tienen un *document frequency* bajo, o lo que es lo mismo, un *inverse document frequency* alto)\n",
    "\n",
    "Así es como se calcula la importancia en el TF-IDF:\n",
    "\n",
    "![Capture.JPG](data:image/jpeg;base64,/9j/4AAQSkZJRgABAQEAeAB4AAD/4RDuRXhpZgAATU0AKgAAAAgABAE7AAIAAAAMAAAISodpAAQAAAABAAAIVpydAAEAAAAYAAAQzuocAAcAAAgMAAAAPgAAAAAc6gAAAAgAAAAAAAAAAAAAAAAAAAAAAAAAAAAAAAAAAAAAAAAAAAAAAAAAAAAAAAAAAAAAAAAAAAAAAAAAAAAAAAAAAAAAAAAAAAAAAAAAAAAAAAAAAAAAAAAAAAAAAAAAAAAAAAAAAAAAAAAAAAAAAAAAAAAAAAAAAAAAAAAAAAAAAAAAAAAAAAAAAAAAAAAAAAAAAAAAAAAAAAAAAAAAAAAAAAAAAAAAAAAAAAAAAAAAAAAAAAAAAAAAAAAAAAAAAAAAAAAAAAAAAAAAAAAAAAAAAAAAAAAAAAAAAAAAAAAAAAAAAAAAAAAAAAAAAAAAAAAAAAAAAAAAAAAAAAAAAAAAAAAAAAAAAAAAAAAAAAAAAAAAAAAAAAAAAAAAAAAAAAAAAAAAAAAAAAAAAAAAAAAAAAAAAAAAAAAAAAAAAAAAAAAAAAAAAAAAAAAAAAAAAAAAAAAAAAAAAAAAAAAAAAAAAAAAAAAAAAAAAAAAAAAAAAAAAAAAAAAAAAAAAAAAAAAAAAAAAAAAAAAAAAAAAAAAAAAAAAAAAAAAAAAAAAAAAAAAAAAAAAAAAAAAAAAAAAAAAAAAAAAAAAAAAAAAAAAAAAAAAAAAAAAAAAAAAAAAAAAAAAAAAAAAAAAAAAAAAAAAAAAAAAAAAAAAAAAAAAAAAAAAAAAAAAAAAAAAAAAAAAAAAAAAAAAAAAAAAAAAAAAAAAAAAAAAAAAAAAAAAAAAAAAAAAAAAAAAAAAAAAAAAAAAAAAAAAAAAAAAAAAAAAAAAAAAAAAAAAAAAAAAAAAAAAAAAAAAAAAAAAAAAAAAAAAAAAAAAAAAAAAAAAAAAAAAAAAAAAAAAAAAAAAAAAAAAAAAAAAAAAAAAAAAAAAAAAAAAAAAAAAAAAAAAAAAAAAAAAAAAAAAAAAAAAAAAAAAAAAAAAAAAAAAAAAAAAAAAAAAAAAAAAAAAAAAAAAAAAAAAAAAAAAAAAAAAAAAAAAAAAAAAAAAAAAAAAAAAAAAAAAAAAAAAAAAAAAAAAAAAAAAAAAAAAAAAAAAAAAAAAAAAAAAAAAAAAAAAAAAAAAAAAAAAAAAAAAAAAAAAAAAAAAAAAAAAAAAAAAAAAAAAAAAAAAAAAAAAAAAAAAAAAAAAAAAAAAAAAAAAAAAAAAAAAAAAAAAAAAAAAAAAAAAAAAAAAAAAAAAAAAAAAAAAAAAAAAAAAAAAAAAAAAAAAAAAAAAAAAAAAAAAAAAAAAAAAAAAAAAAAAAAAAAAAAAAAAAAAAAAAAAAAAAAAAAAAAAAAAAAAAAAAAAAAAAAAAAAAAAAAAAAAAAAAAAAAAAAAAAAAAAAAAAAAAAAAAAAAAAAAAAAAAAAAAAAAAAAAAAAAAAAAAAAAAAAAAAAAAAAAAAAAAAAAAAAAAAAAAAAAAAAAAAAAAAAAAAAAAAAAAAAAAAAAAAAAAAAAAAAAAAAAAAAAAAAAAAAAAAAAAAAAAAAAAAAAAAAAAAAAAAAAAAAAAAAAAAAAAAAAAAAAAAAAAAAAAAAAAAAAAAAAAAAAAAAAAAAAAAAAAAAAAAAAAAAAAAAAAAAAAAAAAAAAAAAAAAAAAAAAAAAAAAAAAAAAAAAAAAAAAAAAAAAAAAAAAAAAAAAAAAAAAAAAAAAAAAAAAAAAAAAAAAAAAAAAAAAAAAAAAAAAAAAAAAAAAAAAAAAAAAAAAAAAAAAAAAAAAAAAAAAAAAAAAAAAAAAAAAAAAAAAAAAAAAAAAAAAAAAAAAAAAAAAAAAAAAAAAAAAAAAAAAAAAAAAAAAAAAAAAAAAAAAAAAAAAAAAAAAAAAAAAAAAAAAAAAAAAAAAAAAAAAAAAAAAAAAAAAAAAAAAAAAAAAAAAAAAAAAAAAAAAAAAAAAAAAAAAAAAAAAAAAAAAAAAAAAAAAAAAAAAAAAAAAAAAAAAAAAAAAAAAAAAAAAAAAAAAAAAAAAAAAAAAAAAAAAAAAAAAAAAAAAAAAAAAAAAAAAAAAAAAAAAAAAAAAAAAAAAAAAAAAAAAAAAAAAAAAAAAAAAAAAAAAAAAAAAAAAAAAAAAAAAAAAAAAAAAAAAAAAAAAAAAAAAAAAAAAAAAAAAAAAAAAAAAAAAAAAAAAAAAAAAAAAAAAAAAAAAAAAAAAAAAAAAAAAAAAAAAAAAAAAAAAAAAAAAAAAAAAAAAAAAAAAAAAAAAAAAAAAAAAAAAAAAAAAAAAAAAAAAAAAAAAAAAAAAAAAAAAAAAAAAAAAAAAAAAAAAAAAAAAAAAAAAAAAAAAAAAAAAAAAAAAAAAAAAAAAAAAAAAAAAAAAAAAAAAAAAAAAAAAAAAAAAAAAAAAAAAAAAAAAAAAAAAAAAAAAAAAAAAAAAAAAAAAAAAAAAAAAAAAAAAAAAAAAAAAAAAAAAAAAAAAAAAAAAAAAAAAAAAAAAAAAAAAAAAAAAAAAAAAAAAAAAAAAAAAAAAAAAAAAAAAAAAAAAAAAAAAAAAAAAAAAAAAAAAAAAAAAAAAAAAAAAAAAAAAAAAAAAAAAAAAAAAAAAAAAAAAAAAAAAAAAAAAAAAAAAAAAAAAAAAAAAAAAAAAAAAAAAAAAAAAAAAAAAAAAAAAAAAAAAAAAAAAAAAAAAAAAAAAAAAAAAAAAAAAAAAAAAAAAAAAAAAAAAAAAAAAAAAAAAAAAAAAAAAAAAAAAAAAAAAAAAAAAAAAAAAAAAAAAAAAAAAAAAAAAAAAAAAAAAAAAAAAAAAAAAAAAAAAAAAAAAAAAAAAAERhdmlkIE11bm96AAAFkAMAAgAAABQAABCkkAQAAgAAABQAABC4kpEAAgAAAAMwNgAAkpIAAgAAAAMwNgAA6hwABwAACAwAAAiYAAAAABzqAAAACAAAAAAAAAAAAAAAAAAAAAAAAAAAAAAAAAAAAAAAAAAAAAAAAAAAAAAAAAAAAAAAAAAAAAAAAAAAAAAAAAAAAAAAAAAAAAAAAAAAAAAAAAAAAAAAAAAAAAAAAAAAAAAAAAAAAAAAAAAAAAAAAAAAAAAAAAAAAAAAAAAAAAAAAAAAAAAAAAAAAAAAAAAAAAAAAAAAAAAAAAAAAAAAAAAAAAAAAAAAAAAAAAAAAAAAAAAAAAAAAAAAAAAAAAAAAAAAAAAAAAAAAAAAAAAAAAAAAAAAAAAAAAAAAAAAAAAAAAAAAAAAAAAAAAAAAAAAAAAAAAAAAAAAAAAAAAAAAAAAAAAAAAAAAAAAAAAAAAAAAAAAAAAAAAAAAAAAAAAAAAAAAAAAAAAAAAAAAAAAAAAAAAAAAAAAAAAAAAAAAAAAAAAAAAAAAAAAAAAAAAAAAAAAAAAAAAAAAAAAAAAAAAAAAAAAAAAAAAAAAAAAAAAAAAAAAAAAAAAAAAAAAAAAAAAAAAAAAAAAAAAAAAAAAAAAAAAAAAAAAAAAAAAAAAAAAAAAAAAAAAAAAAAAAAAAAAAAAAAAAAAAAAAAAAAAAAAAAAAAAAAAAAAAAAAAAAAAAAAAAAAAAAAAAAAAAAAAAAAAAAAAAAAAAAAAAAAAAAAAAAAAAAAAAAAAAAAAAAAAAAAAAAAAAAAAAAAAAAAAAAAAAAAAAAAAAAAAAAAAAAAAAAAAAAAAAAAAAAAAAAAAAAAAAAAAAAAAAAAAAAAAAAAAAAAAAAAAAAAAAAAAAAAAAAAAAAAAAAAAAAAAAAAAAAAAAAAAAAAAAAAAAAAAAAAAAAAAAAAAAAAAAAAAAAAAAAAAAAAAAAAAAAAAAAAAAAAAAAAAAAAAAAAAAAAAAAAAAAAAAAAAAAAAAAAAAAAAAAAAAAAAAAAAAAAAAAAAAAAAAAAAAAAAAAAAAAAAAAAAAAAAAAAAAAAAAAAAAAAAAAAAAAAAAAAAAAAAAAAAAAAAAAAAAAAAAAAAAAAAAAAAAAAAAAAAAAAAAAAAAAAAAAAAAAAAAAAAAAAAAAAAAAAAAAAAAAAAAAAAAAAAAAAAAAAAAAAAAAAAAAAAAAAAAAAAAAAAAAAAAAAAAAAAAAAAAAAAAAAAAAAAAAAAAAAAAAAAAAAAAAAAAAAAAAAAAAAAAAAAAAAAAAAAAAAAAAAAAAAAAAAAAAAAAAAAAAAAAAAAAAAAAAAAAAAAAAAAAAAAAAAAAAAAAAAAAAAAAAAAAAAAAAAAAAAAAAAAAAAAAAAAAAAAAAAAAAAAAAAAAAAAAAAAAAAAAAAAAAAAAAAAAAAAAAAAAAAAAAAAAAAAAAAAAAAAAAAAAAAAAAAAAAAAAAAAAAAAAAAAAAAAAAAAAAAAAAAAAAAAAAAAAAAAAAAAAAAAAAAAAAAAAAAAAAAAAAAAAAAAAAAAAAAAAAAAAAAAAAAAAAAAAAAAAAAAAAAAAAAAAAAAAAAAAAAAAAAAAAAAAAAAAAAAAAAAAAAAAAAAAAAAAAAAAAAAAAAAAAAAAAAAAAAAAAAAAAAAAAAAAAAAAAAAAAAAAAAAAAAAAAAAAAAAAAAAAAAAAAAAAAAAAAAAAAAAAAAAAAAAAAAAAAAAAAAAAAAAAAAAAAAAAAAAAAAAAAAAAAAAAAAAAAAAAAAAAAAAAAAAAAAAAAAAAAAAAAAAAAAAAAAAAAAAAAAAAAAAAAAAAAAAAAAAAAAAAAAAAAAAAAAAAAAAAAAAAAAAAAAAAAAAAAAAAAAAAAAAAAAAAAAAAAAAAAAAAAAAAAAAAAAAAAAAAAAAAAAAAAAAAAAAAAAAAAAAAAAAAAAAAAAAAAAAAAAAAAAAAAAAAAAAAAAAAAAAAAAAAAAAAAAAAAAAAAAAAAAAAAAAAAAAAAAAAAAAAAAAAAAAAAAAAAAAAAAAAAAAAAAAAAAAAAAAAAAAAAAAAAAAAAAAAAAAAAAAAAAAAAAAAAAAAAAAAAAAAAAAAAAAAAAAAAAAAAAAAAAAAAAAAAAAAAAAAAAAAAAAAAAAAAAAAAAAAAAAAAAAAAAAAAAAAAAAAAAAAAAAAAAAAAAAAAAAAAAAAAAAAAAAAAAAAAAAAAAAAAAAAAAAAAAAAAAAAAAAAAAAAAAAAAAAAAAAAAAAAAAAAAAAAAAAAAAAAAAAAAAAAAAAAAAAAAAAAAAAAAAAAAAAAAAAAAAAAAAAAAAAAAAAAAAAAAAAAAAAAAAAAAAAAAAAAAAAAAAAAAAAAAAAAAAAAAAAAAAAAAAAAAAAAAAAAAAAAAAAAAAAAAAAAAAAAAAAAAAAAAAAAAAAAAAAAAAAAAAAAAAAAAAAAAAAAAAAAAAAAAAAAAAAAAAAAAAAAAAAAAAAAAAAAAAAAAAAAAAAAAAAAAAAAAAAAAAAAAAAAAAAAAAAAAAAAAAAAAAAAAAAAAAAAAAAAAAAAAAAAAAAAAAAAAAAAAAAAAAAAAAAAAAAAAAAAAAAAAAAAAAAAAAAAAAAAAAAAAAAAAAAAAAAAAAAAAAAAAAAAAAAAAAAAAAAAAAAAAAAAAAAAAAAAAAAAAAAAAAAAAAAAAAAAAAAAAAAAAAAAAAAAAAAAAAAAAAAAAAAAAAAAAAAAAAAAAAAAAAAAAAAAAAAAAAAAAAAAAAAAAAAAAAAAAAAAAAAAAAAAAAAAAAAAAAAAAAAAAAAAAAAAAAAAAAAAAAAAAAAAAAAAAAAAAAAAAAAAAAAAAAAAAAAMjAyMjowNDoyOSAyMzoxNjoxOAAyMDIyOjA0OjI5IDIzOjE2OjE4AAAARABhAHYAaQBkACAATQB1AG4AbwB6AAAA/+ELHmh0dHA6Ly9ucy5hZG9iZS5jb20veGFwLzEuMC8APD94cGFja2V0IGJlZ2luPSfvu78nIGlkPSdXNU0wTXBDZWhpSHpyZVN6TlRjemtjOWQnPz4NCjx4OnhtcG1ldGEgeG1sbnM6eD0iYWRvYmU6bnM6bWV0YS8iPjxyZGY6UkRGIHhtbG5zOnJkZj0iaHR0cDovL3d3dy53My5vcmcvMTk5OS8wMi8yMi1yZGYtc3ludGF4LW5zIyI+PHJkZjpEZXNjcmlwdGlvbiByZGY6YWJvdXQ9InV1aWQ6ZmFmNWJkZDUtYmEzZC0xMWRhLWFkMzEtZDMzZDc1MTgyZjFiIiB4bWxuczpkYz0iaHR0cDovL3B1cmwub3JnL2RjL2VsZW1lbnRzLzEuMS8iLz48cmRmOkRlc2NyaXB0aW9uIHJkZjphYm91dD0idXVpZDpmYWY1YmRkNS1iYTNkLTExZGEtYWQzMS1kMzNkNzUxODJmMWIiIHhtbG5zOnhtcD0iaHR0cDovL25zLmFkb2JlLmNvbS94YXAvMS4wLyI+PHhtcDpDcmVhdGVEYXRlPjIwMjItMDQtMjlUMjM6MTY6MTguMDU3PC94bXA6Q3JlYXRlRGF0ZT48L3JkZjpEZXNjcmlwdGlvbj48cmRmOkRlc2NyaXB0aW9uIHJkZjphYm91dD0idXVpZDpmYWY1YmRkNS1iYTNkLTExZGEtYWQzMS1kMzNkNzUxODJmMWIiIHhtbG5zOmRjPSJodHRwOi8vcHVybC5vcmcvZGMvZWxlbWVudHMvMS4xLyI+PGRjOmNyZWF0b3I+PHJkZjpTZXEgeG1sbnM6cmRmPSJodHRwOi8vd3d3LnczLm9yZy8xOTk5LzAyLzIyLXJkZi1zeW50YXgtbnMjIj48cmRmOmxpPkRhdmlkIE11bm96PC9yZGY6bGk+PC9yZGY6U2VxPg0KCQkJPC9kYzpjcmVhdG9yPjwvcmRmOkRlc2NyaXB0aW9uPjwvcmRmOlJERj48L3g6eG1wbWV0YT4NCiAgICAgICAgICAgICAgICAgICAgICAgICAgICAgICAgICAgICAgICAgICAgICAgICAgICAgICAgICAgICAgICAgICAgICAgICAgICAgICAgICAgICAgICAgICAgICAgICAgICAKICAgICAgICAgICAgICAgICAgICAgICAgICAgICAgICAgICAgICAgICAgICAgICAgICAgICAgICAgICAgICAgICAgICAgICAgICAgICAgICAgICAgICAgICAgICAgICAgICAgIAogICAgICAgICAgICAgICAgICAgICAgICAgICAgICAgICAgICAgICAgICAgICAgICAgICAgICAgICAgICAgICAgICAgICAgICAgICAgICAgICAgICAgICAgICAgICAgICAgICAgCiAgICAgICAgICAgICAgICAgICAgICAgICAgICAgICAgICAgICAgICAgICAgICAgICAgICAgICAgICAgICAgICAgICAgICAgICAgICAgICAgICAgICAgICAgICAgICAgICAgICAKICAgICAgICAgICAgICAgICAgICAgICAgICAgICAgICAgICAgICAgICAgICAgICAgICAgICAgICAgICAgICAgICAgICAgICAgICAgICAgICAgICAgICAgICAgICAgICAgICAgIAogICAgICAgICAgICAgICAgICAgICAgICAgICAgICAgICAgICAgICAgICAgICAgICAgICAgICAgICAgICAgICAgICAgICAgICAgICAgICAgICAgICAgICAgICAgICAgICAgICAgCiAgICAgICAgICAgICAgICAgICAgICAgICAgICAgICAgICAgICAgICAgICAgICAgICAgICAgICAgICAgICAgICAgICAgICAgICAgICAgICAgICAgICAgICAgICAgICAgICAgICAKICAgICAgICAgICAgICAgICAgICAgICAgICAgICAgICAgICAgICAgICAgICAgICAgICAgICAgICAgICAgICAgICAgICAgICAgICAgICAgICAgICAgICAgICAgICAgICAgICAgIAogICAgICAgICAgICAgICAgICAgICAgICAgICAgICAgICAgICAgICAgICAgICAgICAgICAgICAgICAgICAgICAgICAgICAgICAgICAgICAgICAgICAgICAgICAgICAgICAgICAgCiAgICAgICAgICAgICAgICAgICAgICAgICAgICAgICAgICAgICAgICAgICAgICAgICAgICAgICAgICAgICAgICAgICAgICAgICAgICAgICAgICAgICAgICAgICAgICAgICAgICAKICAgICAgICAgICAgICAgICAgICAgICAgICAgICAgICAgICAgICAgICAgICAgICAgICAgICAgICAgICAgICAgICAgICAgICAgICAgICAgICAgICAgICAgICAgICAgICAgICAgIAogICAgICAgICAgICAgICAgICAgICAgICAgICAgICAgICAgICAgICAgICAgICAgICAgICAgICAgICAgICAgICAgICAgICAgICAgICAgICAgICAgICAgICAgICAgICAgICAgICAgCiAgICAgICAgICAgICAgICAgICAgICAgICAgICAgICAgICAgICAgICAgICAgICAgICAgICAgICAgICAgICAgICAgICAgICAgICAgICAgICAgICAgICAgICAgICAgICAgICAgICAKICAgICAgICAgICAgICAgICAgICAgICAgICAgICAgICAgICAgICAgICAgICAgICAgICAgICAgICAgICAgICAgICAgICAgICAgICAgICAgICAgICAgICAgICAgICAgICAgICAgIAogICAgICAgICAgICAgICAgICAgICAgICAgICAgICAgICAgICAgICAgICAgICAgICAgICAgICAgICAgICAgICAgICAgICAgICAgICAgICAgICAgICAgICAgICAgICAgICAgICAgCiAgICAgICAgICAgICAgICAgICAgICAgICAgICAgICAgICAgICAgICAgICAgICAgICAgICAgICAgICAgICAgICAgICAgICAgICAgICAgICAgICAgICAgICAgICAgICAgICAgICAKICAgICAgICAgICAgICAgICAgICAgICAgICAgICAgICAgICAgICAgICAgICAgICAgICAgICAgICAgICAgICAgICAgICAgICAgICAgICAgICAgICAgICAgICAgICAgICAgICAgIAogICAgICAgICAgICAgICAgICAgICAgICAgICAgICAgICAgICAgICAgICAgICAgICAgICAgICAgICAgICAgICAgICAgICAgICAgICAgICAgICAgICAgICAgICAgICAgICAgICAgCiAgICAgICAgICAgICAgICAgICAgICAgICAgICAgICAgICAgICAgICAgICAgICAgICAgICAgICAgICAgICAgICAgICAgICAgICAgICAgICAgICAgICAgICAgICAgICAgICAgICAKICAgICAgICAgICAgICAgICAgICAgICAgICAgICAgICAgICAgICAgICAgICAgICAgICAgICAgICAgICAgICAgICAgICAgICAgICAgICAgICAgICAgICAgICAgICAgICAgICAgIAogICAgICAgICAgICAgICAgICAgICAgICAgICAgPD94cGFja2V0IGVuZD0ndyc/Pv/bAEMABwUFBgUEBwYFBggHBwgKEQsKCQkKFQ8QDBEYFRoZGBUYFxseJyEbHSUdFxgiLiIlKCkrLCsaIC8zLyoyJyorKv/bAEMBBwgICgkKFAsLFCocGBwqKioqKioqKioqKioqKioqKioqKioqKioqKioqKioqKioqKioqKioqKioqKioqKioqKv/AABEIAG0BOAMBIgACEQEDEQH/xAAfAAABBQEBAQEBAQAAAAAAAAAAAQIDBAUGBwgJCgv/xAC1EAACAQMDAgQDBQUEBAAAAX0BAgMABBEFEiExQQYTUWEHInEUMoGRoQgjQrHBFVLR8CQzYnKCCQoWFxgZGiUmJygpKjQ1Njc4OTpDREVGR0hJSlNUVVZXWFlaY2RlZmdoaWpzdHV2d3h5eoOEhYaHiImKkpOUlZaXmJmaoqOkpaanqKmqsrO0tba3uLm6wsPExcbHyMnK0tPU1dbX2Nna4eLj5OXm5+jp6vHy8/T19vf4+fr/xAAfAQADAQEBAQEBAQEBAAAAAAAAAQIDBAUGBwgJCgv/xAC1EQACAQIEBAMEBwUEBAABAncAAQIDEQQFITEGEkFRB2FxEyIygQgUQpGhscEJIzNS8BVictEKFiQ04SXxFxgZGiYnKCkqNTY3ODk6Q0RFRkdISUpTVFVWV1hZWmNkZWZnaGlqc3R1dnd4eXqCg4SFhoeIiYqSk5SVlpeYmZqio6Slpqeoqaqys7S1tre4ubrCw8TFxsfIycrS09TV1tfY2dri4+Tl5ufo6ery8/T19vf4+fr/2gAMAwEAAhEDEQA/APpGiiigAooooAKKKKACiiigAooooAKKKKACiiigAooooAKKKKACiiigAooooAKKKKACiiigAooooAKKKKACiiigAorGvvF/h3S9QNjqOuWFrdgBjBNcKrgHocE+xrX3r5fmbhsxndnjHrQA6isGLxz4VmvVs4vEOmvcvIY1iW5QsXHVQM9eDxW9QAUUUUAFFFFABRRRQAUUUUAFFFFABRRRQAUUUUAFFFFABRRRQAUU13WNS0jBVHUk4ojkSVA0Tq6nupzQA6iiigAooooAKKKKACiio5Z4oFzNKkY/2mxQBJRSAhlBU5BGQR3paACiiigAooooAKKKKAPGPjX4ZXx5r2meGLF1ivhZ3N9uCDLlAgRScdMtXXfCTxY3ivwPEL051HT3Nleg4/1qcHA9OlV9Fij1b44a9qSPuXTLGCzUH+F2Ll8fkv5Vyd9JH8KPjTc6jIwh0HxJCzyswxHBMinAHu2MmgDp/Blpp+r/ABK8W60LSESW8sNjGwQYwindj3ya9Grg/hDDv8H3GpyJtm1PUbq6Yj+JWmcof++SK7ygAooooAKKKKACiikZQ6FW6MMGgBguYTcGASoZgMmPcNwHripK8a0Cyt/D/wC0ze6XZtMltLoguAktw8gB34JyxOO1VbTxJq2r/tGaVLLLJFolxazrp6CU7Z1UYLsvT724CgD2tp4lmWFpUErDKoWGSPYVJXmOraO+vfHzSbvT7qdItEtXkvtsh8tnbaI4yPcbj+Ar06gAooooAKKKoa1Fdz6TNHp16tjcsvyXDKCEPrg8UAX6K4P+yfF//Q8W/wD4Dx/4Uf2T4v8A+h4t/wDwHj/+JoA7ysDR/F1lrfifVtGsUd20oqs8/wDAXYA7R64BFXpIU/4RtodYn+0J9m23EyMU3jb8xBXBH4V478GvAej6p4X1bUdThut1xqc5gmS9mR/JBwuSrDd06nJoA6jU3Pjn4qz+GrxXfQNJtBLcxA/JcTuRtVvZQG4966vwb4OsfBGjyabpU1xJbtM0qi4lLlc9smvJfhV4B07Wb/xXc3dzqDRw6s8FrKt9KGaNCR8zBstyO+a92toFtbaOCPcVjUKNxyfzNAElFFFABRRRQBh33izT9M8U2mh6j5ltLfJm1nkUiKVxnMYbpuxzjqa3Ky/EXh3TvFGjS6bq0PmRScq6na8TjlXVhyrA4II9K8sfxp4ksdUHw5N5HJqbTC3i8RFP3aQlCw38Y+0BRjbjB6+1AHpkPivT7rxdL4es/MuLq3i8y5kjQmODP3VZugY8/L14rzz9oDR7OTwrDqrIwvIp40SRXIwC444r0fwz4ZsPCmix6fpquwHzSzysWknc9XdjyWJ5rhvj7/yTtf8Ar6i/9CFAHoOjusfh2xZ2CqtrGSSeANoqW11SwvpGSyvbe4dfvLFKGI/KvHfEN/e+KfiF4Z8CR3MtvpcVhHe6isTlGnUqAq7hyBnOR3rW+KPg220Twa+u+EN2k6tpZSWGWF2CuFYZVxnDAjPXNAHqU9xDawtNcypDEv3nkYKB+Jplpf2l+heyuobhVOC0UgYD8q8NtvEi/EL4ieF11uZ4tIuLFpoLbeUjvJBgNuxjODk4/wAKf4x8PabF8bfD2maQbpYNQU/b7Ozu5IlVB0kIRh3OPxoA92rJ8Q6s2l2MS25H2y8mFvahkLDzGBIyB24NX7Gyh06xitLUMIoV2oHcuce5PJ/GuX1KWa8+Kuk2JZfsttYzXLIw5aTcgVh9AW/OgDqLGGa3sYYrqc3EyKA8pGN59abqH2z+z5v7M8v7Xt/deaMrn3qlr/ifRvC9vFPr18lnFMxSNnViGOM44BrD/wCFt+Bv+hht/wDv3J/8TQBX8EeGvEmha9ql3rE+nzw6nM1xK0ERV1c/dXJY/KOasfFDwFD8Q/B0ulMyRXSMJLWZ1yI36E4+hI/Gj/hbfgb/AKGG3/79yf8AxNH/AAtvwN/0MNv/AN+5P/iaAN/w7pCaF4csdNTH+jQKjEdCwHJ/OtOuN/4W34G/6GG3/wC/cn/xNA+LXgYnA8QwEn/pnJ/8TQBp+ItUuNCvLPUG3PprN5F0oH+qDdJPzwv41vg5GRyKxvEttBq3g++jfLwzW+8Ed8fMD+gqLwNq7a74E0bU5P8AWXVnHI/+8VBNAG9RRRQAUUUUAeJeMtC1y+/aFgfR4nS3vtG+xXV0OPJiLEsyn+9yMVY+IGl6jonxF8GXfhjSmu2tYJLOONPlSPeD859geT+NeybRu3YGfXFBUEgkAkdDjpQBj+F9AXQNLKSMJr25cz3c/eSVjk/gCSAOwwKk169vLa1jTSXtPtrzRhUupdism4b8HB525wO5rVrgPGP9nXfxL8JWdxNHDOjT3JLvt3BUG0deeTQB3y52Dfw2OcetLVe9v7XTrRrq9njggXGXdgBzUyOskavGwZWGQwOQRQBl3N/eHxDaWlkbN7bDG7DzYlTj5dq455x3FWtW0q21rTZbC+DNBMMOEYqSPqK5K0tre5+Nd7cJFta10uMMwJ+Z2kbnHrjFdzQBxv8Awqrwx/zxuv8AwKf/ABpP+FVeGD/yxuuf+np/8a7OigDnPFVlLZ/DXVrLR45Hli02WO2RTliwQhQM9+lcD8LvGNjb/C200iOw1EX1hZOl2xtGCJIoJJLHqO2fWvYevWvNtUm8V+KL7VvCyaJ/ZNk8iqdWDrgwcFgozksRuGegyD7UAJ8BYZD8K7W/uY9lzqNxPcye+6Vip/IivSWYKpZjgAZJPaq+m6fb6TpdtYWa7ILaJYox7AYFLqE0dvplzNcAGKOJmcHuACTQBT0i8vby7vmuDaPZrKBaPby72K7RneMcHdnjnitSuG+EK2h8AxT2U0coubiec7JN+0NKxUdTjAI4rrxqlkdUOmi6iN6E8wwbxvC+uOuKAJ5ZUgiaSZwiKMlmOAKztBu769s5ZdR+yHM8ghe0l8xWj3Hbk4GGxjI9ak14Rnw9qBnUOi20jEN0OFJrF+Glh/Z/w70lNmzzoRPtznG/5v60AQeMtT8Q3V7D4b8I28kF1dpuudXkT91Ywk4JX+9Iedo6A8n0MsPw28OxeC38NtamS3kbzZJ2YmZ58584yfe8zPO7ORXWY5z3ooA43wlfa/peqP4Y8TxzXphj32Wsqvy3UQ4xJ/dkHGezZyO4HL/Hu/SXwrHpVtDPc3rzJKIoY93yhhk/pXrWOc01o0Y5ZFJ9SKAPENTtbu08VeHPiP4ftZ76xitFstXgjTM0aKAAwX0Bznv7GtX4g+MB428KS+G/AUUuoapqDJGXCYjtkLDc0h7YGfX6V60EULtCgL6AUixRocpGqn1C4oA8S+IOiweH/Afhzwn4eso9T12B0SKGFh9qih+9K8Z6qM8bvVhVzw34y8HeFddRNa0LU9B1a9IiF1qqmVzn+FpjnAz2zVrVrHxB4M+L2o+LrfRptc0zVLaO3K2zjzrcrjop7dTxVvxJpupfFjTIdGuNEl0jRmnSa7ubpl82RUYHYig5Un+8aAPTlYOoZTkEZBHeuOkdR8ZrdSRuOkykD1+eOuwijEMKRr91FCjPtXL+KYTZeItE11Ig3kStaTyEcRQycs3tyi8nigDpLi0t7tQt1BHMoOQJFBxVf+xNL/6B9t/36WrwORkUUAUf7E0v/oH2v/fpaP7E0v8A6B9t/wB+lrzT47jVLHwzHe6HruoWl/PcQ21vaRFfKcs2GJ+UnOD69q2PEet39x4g0LwTo1zLZz31ubi9vowC8EKr0XIIDs2ByOmaAOz/ALE0v/oH2v8A36Wj+xdLHTT7b/v0KxPBXhnV/DC6lBquvy6xbTXG+zEyAPBH/dJH3j711NAFTUnSDR7piPkSBuAO2K574Xhx8MtDMkTQl7SNgjD7oKjArR8W3slroMkNqqSXd4wgt4nBIkY9Rx/shj+FaOl6fDpWk2un2yKkNrEsSKgwFVRgAD0oAtUUUUAFFFFABRRRQAVUutLsb24inu7WGWWE5jd0BK/jVuigDH8SaH/wkOlHTJGRLWYgT5QMSoOcAEY7VcuIZ7PRni0aKIzRRbbeOViEyBwCRk4q5RQBg+G9Cm0+4vtT1MxnU9SkEk4iYtHFhQoRCQCV4zz3JreoooAKKKKACiiigApHRZI2SRQysMMpGQRS0UAVbDTbLTImi0+2it0Y7isaBQT+FZsHhqE+LZPEN4I3vViNvAyIAUjJyQT1OcDr0xxW5RQBz/iXT9Y1gjTbT7NHplwm25nZ2Ey/NyqrjBBHHJ4zW3a20VlZw2tuuyGCNY419FAwB+VS0UAFFFFABRRRQAUUUUAFFFFABUdxbxXdtJBcIJIpF2spHBFSUUAR28C21ukMZYqgwNxyfzrz7WfEWq+KPH0ng7wzdfYbaxiE2q36qGcBvuxx54BPGT2H1r0WvFPh5rumeFfiN410/wATX0OnXc159qjN1IEDxFVAwT16dKAKnjHwgth8VvBdhYatqF1BNc+bcWlzcNMIwg/1g3Enkt06cCk8OaDrut/HDxif+EmuoH01IYIryO3iO8Mu7btIwNu7t171LD4p03V/2mYbu6mW20610RjbS3R8tZGZx86k9VIHB9q3PgfIuqL4q108td6zLGrA5DIgVQQfwoA9OsLea1sYobq6a7lRcNMyhS59cDirFFZun6nc3mpX9tPp01rHayBIp5PuzjH3l9qAJ5tMtp9ShvpkZ54FKx5Y7Vz329M9s9cVboooAKKKKACiiigAooooAKKKKACiiigAooooAKKKKACiiigAooooAKKKKACiiigAooooAKKKKACiiigAooooAKKKKACszUPDejateQ3epabb3NxAcxySJkrWnRQB5d4u8R6ZceIrzQbLwtdXevrb+VY3DWx8ksQdoMmMKoI5J9eK7LwT4Zj8I+ErPSkKvLGuZ5FGPMc8k1u+Wnmb9o34xuxzinUAR3O02su87V2HJzjHFcf8KBcv4Fiu7uaSX7bNJcRGVyxEbH5RmuxnhS4geGUZR1KsPasvw54Y07wrp62OkfaFtlGEjmuHlCDOcLuJwPYUAa9FFFABRRRQAUUUUAFFFFABRRRQAUUUUAFFFFABRRRQAUUUUAFFFFABRRRQAUUUUAFFFFABRRRQAUUUUAFFFFABRRRQAUUUUAFFFFABRRRQAUUUUAFFFFAH/9k=)\n",
    "\n",
    "Donde: \n",
    "\n",
    "- tf_i,j (term frequency) es el número de ocurrencias de la palabra i en el documento j \n",
    "- df_i (document frequency) es el número de documentos que contienen la palabra i \n",
    "- N es el número total de documentos \n",
    "\n",
    "Analizando esta fórmula, podemos observar que el término logarítmico hace que las palabras que aparecen en todos los textos tengan una una importancia de 0, pues, en este caso, el término dentro del logaritmo sería 1. Gracias a esto, se puede reducir la dimensionalidad del problema, eliminando los términos que son muy frecuentes y no proporcionan información adicional sobre las características de los textos, lo cual no sería posible al utilizar *Count Vectorizer*.\n",
    "\n",
    "No obstante, aunque el TF-IDF puede proporcionar una buena comprensión de la importancia de las palabras, al igual que *Count Vectorizer*, su desventaja es que no proporciona información lingüística sobre las palabras, como el significado real de las mismas, la similitud con otras palabras, etc.\n",
    "\n",
    "Otra de las posibles desventajas de utilizar TF-IDF es que si se quiere trabajar con n-gramas, probablemente se pierden la mayoría de las ventajas del algoritmo, al tiempo que se asume un costo computacional mayor para calcular las importancias. Lo anterior se debe a que, en relación a los unigramas, es poco probable que los n-gramas se repitan a lo largo de varios documentos, especialmente a medida que n incrementa, con lo cual la mayoría de términos tendrían un *inverse document frequency* alto y el modelo se aproximaría al de *Count Vectorizer*.\n",
    "\n",
    "##### Referencias\n",
    "- Count Vectorizer vs TFIDF Vectorizer | Natural Language Processing. Sheel Saket. Enero 12, 2020. Tomado de: https://www.linkedin.com/pulse/count-vectorizers-vs-tfidf-natural-language-processing-sheel-saket/"
   ]
  },
  {
   "cell_type": "markdown",
   "metadata": {},
   "source": [
    "## Punto 4 - Tokenización con TfidfVectorizer\n",
    "\n",
    "En la celda 4 creen y entrenen el mismo modelo de regresión del primer punto, para que prediga la probabilidad de que un comentario sea tóxico, usando los set de entrenamiento y test definidos anteriormente. Procesen los comentarios con la función **TfidfVectorizer** y presenten el desempeño del modelo con la métrica del acurracy.\n",
    "\n",
    "Recuerden que el preprocesamiento que se haga sobre los datos de entrenamiento  (*.fit_transform()*) deben ser aplicado al set de test (*.transform()*)."
   ]
  },
  {
   "cell_type": "code",
   "execution_count": 10,
   "metadata": {},
   "outputs": [
    {
     "name": "stdout",
     "output_type": "stream",
     "text": [
      "0.0710444082552932\n"
     ]
    }
   ],
   "source": [
    "# Celda 4\n",
    "\n",
    "# Se importa el vectorizador TF-IDF de la librería sklearn\n",
    "\n",
    "from sklearn.feature_extraction.text import TfidfVectorizer as tf_idf\n",
    "\n",
    "# Se crea el vectorizador TF-IDF con los mismos parámetros utilizados para el CountVectorizer\n",
    "\n",
    "vectorizer_3 = tf_idf(max_features=100, lowercase=False, preprocessor=preprocess_text)\n",
    "\n",
    "# Se utiliza un arbol de regresión para entrenar el modelo y realizar las predicciones\n",
    "\n",
    "X_traincv_3 = vectorizer_3.fit_transform(X_train)\n",
    "regressor.fit(X_traincv_3, y_train)\n",
    "\n",
    "predictions_3 = regressor.predict(vectorizer_3.transform(X_test))\n",
    "\n",
    "# Se reporta el error de predicción\n",
    "\n",
    "mse_3 = metrics.mean_squared_error(y_test, predictions_3)\n",
    "print(mse_3)"
   ]
  },
  {
   "cell_type": "markdown",
   "metadata": {},
   "source": [
    "## Punto 5 - Comparación y análisis de resultados\n",
    "\n",
    "En la celda 5 comparen los resultados obtenidos de los diferentes modelos y comenten cómo el preprocesamiento de texto afecta el desempeño."
   ]
  },
  {
   "cell_type": "code",
   "execution_count": 11,
   "metadata": {},
   "outputs": [
    {
     "name": "stdout",
     "output_type": "stream",
     "text": [
      "Comparación por MSE de los 4 modelos\n"
     ]
    },
    {
     "data": {
      "image/png": "[encoded data removed]",
      "text/plain": [
       "<Figure size 432x288 with 1 Axes>"
      ]
     },
     "metadata": {
      "needs_background": "light"
     },
     "output_type": "display_data"
    }
   ],
   "source": [
    "# Celda 5\n",
    "\n",
    "# Se crea un modelo adicional con vectorizador TF-IDF utilizando trigramas para ampliar la comparación de modelos\n",
    "\n",
    "vectorizer_4 = tf_idf(max_features=100, lowercase=False, preprocessor=preprocess_text, ngram_range=(3, 3))\n",
    "\n",
    "# Se utiliza un arbol de regresión para entrenar el modelo y realizar las predicciones\n",
    "\n",
    "X_traincv_4 = vectorizer_4.fit_transform(X_train)\n",
    "regressor.fit(X_traincv_4, y_train)\n",
    "\n",
    "predictions_4 = regressor.predict(vectorizer_4.transform(X_test))\n",
    "\n",
    "# Se reporta el error de predicción\n",
    "\n",
    "mse_4 = metrics.mean_squared_error(y_test, predictions_4)\n",
    "\n",
    "import matplotlib.pyplot as plt\n",
    "\n",
    "print('Comparación por MSE de los 4 modelos')\n",
    "\n",
    "fig = plt.figure()\n",
    "ax = fig.add_axes([0,0,1,1])\n",
    "ax.set_title(\"Comparación de modelos\")\n",
    "ejeX = ['MSE CV', 'MSE TF-IDF', 'MSE CV TRIGRAMA', 'MSE TF-IDF TRIGRAMA']\n",
    "ejeY = [round(mse_1, 4), round(mse_3, 4), round(mse_2, 4), round(mse_4, 4)]\n",
    "ax.bar(ejeX,ejeY)\n",
    "\n",
    "def addlabels(x,y,plotP):\n",
    "    for i in range(len(x)):\n",
    "        plotP.text(i,y[i],y[i],ha='center')\n",
    "        \n",
    "addlabels(ejeX,ejeY,plt)\n",
    "\n",
    "plt.show()"
   ]
  },
  {
   "cell_type": "markdown",
   "metadata": {},
   "source": [
    "### Conclusiones\n",
    "\n",
    "De acuerdo con la gráfica de arriba, se pueden realizar las siguientes observaciones:\n",
    "\n",
    "- El uso de procesamiento de lenguaje natural ayuda a predecir la probabilidad de que un comentario sea tóxico con una precisión relativamente alta, pues el error cuadrático medio es de apenas 0,076 en el peor de los casos y cercano a 0,04 en el mejor modelo.\n",
    "- El uso de n-gramas mejora el desempeño de los modelos, pues, tanto para *Count Vectorizer* , como para TF-IDF, el error cuadrático medio se reduce en más de 40% al utilizar trigramas, con respecto a los modelos que usan unigramas. Introducir trigramas a los modelos genera datos más contextualizados y por ende ayuda a mejorar el poder predictivo.\n",
    "- El modelo TF-IDF con unigramas obtiene mejores resultados que el modelo *Count Vectorizer* con unigramas, pues como se mencionó en la explicación del punto 3, el compnente de *inverse document frequency* introducido por este modelo ayuda a considerar la importancia de términos poco frecuentes en el conjunto de datos para diferenciar textos entre sí.\n",
    "- Como se plantea en el punto 3, el modelo TF-IDF pierde sus ventajas cuando se trabaja con n-gramas y su desempeño es muy similar al obtenido por *Count Vectorizer*."
   ]
  }
 ],
 "metadata": {
  "kernelspec": {
   "display_name": "Python 3",
   "language": "python",
   "name": "python3"
  },
  "language_info": {
   "codemirror_mode": {
    "name": "ipython",
    "version": 3
   },
   "file_extension": ".py",
   "mimetype": "text/x-python",
   "name": "python",
   "nbconvert_exporter": "python",
   "pygments_lexer": "ipython3",
   "version": "3.8.5"
  },
  "name": "_merged"
 },
 "nbformat": 4,
 "nbformat_minor": 4
}
